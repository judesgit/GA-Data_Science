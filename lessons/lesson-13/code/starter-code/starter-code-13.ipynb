{
 "cells": [
  {
   "cell_type": "markdown",
   "metadata": {},
   "source": [
    "# Spacy Demo\n",
    "\n",
    "If you haven't installed spacy yet, use:\n",
    "```\n",
    "conda install spacy\n",
    "python -m spacy.en.download\n",
    "```\n",
    "This downloads about 500 MB of data.\n",
    "\n",
    "Another popular package, `nltk`, can be installed as follows (you can skip this for now):\n",
    "\n",
    "```\n",
    "conda install nltk\n",
    "python -m nltk.downloader all\n",
    "```\n",
    "\n",
    "This also downloads a lot of data"
   ]
  },
  {
   "cell_type": "markdown",
   "metadata": {},
   "source": [
    "## Load StumbleUpon dataset"
   ]
  },
  {
   "cell_type": "code",
   "execution_count": 1,
   "metadata": {},
   "outputs": [
    {
     "data": {
      "text/html": [
       "<div>\n",
       "<style>\n",
       "    .dataframe thead tr:only-child th {\n",
       "        text-align: right;\n",
       "    }\n",
       "\n",
       "    .dataframe thead th {\n",
       "        text-align: left;\n",
       "    }\n",
       "\n",
       "    .dataframe tbody tr th {\n",
       "        vertical-align: top;\n",
       "    }\n",
       "</style>\n",
       "<table border=\"1\" class=\"dataframe\">\n",
       "  <thead>\n",
       "    <tr style=\"text-align: right;\">\n",
       "      <th></th>\n",
       "      <th>url</th>\n",
       "      <th>urlid</th>\n",
       "      <th>boilerplate</th>\n",
       "      <th>alchemy_category</th>\n",
       "      <th>alchemy_category_score</th>\n",
       "      <th>avglinksize</th>\n",
       "      <th>commonlinkratio_1</th>\n",
       "      <th>commonlinkratio_2</th>\n",
       "      <th>commonlinkratio_3</th>\n",
       "      <th>commonlinkratio_4</th>\n",
       "      <th>...</th>\n",
       "      <th>linkwordscore</th>\n",
       "      <th>news_front_page</th>\n",
       "      <th>non_markup_alphanum_characters</th>\n",
       "      <th>numberOfLinks</th>\n",
       "      <th>numwords_in_url</th>\n",
       "      <th>parametrizedLinkRatio</th>\n",
       "      <th>spelling_errors_ratio</th>\n",
       "      <th>label</th>\n",
       "      <th>title</th>\n",
       "      <th>body</th>\n",
       "    </tr>\n",
       "  </thead>\n",
       "  <tbody>\n",
       "    <tr>\n",
       "      <th>0</th>\n",
       "      <td>http://www.bloomberg.com/news/2010-12-23/ibm-p...</td>\n",
       "      <td>4042</td>\n",
       "      <td>{\"title\":\"IBM Sees Holographic Calls Air Breat...</td>\n",
       "      <td>business</td>\n",
       "      <td>0.789131</td>\n",
       "      <td>2.055556</td>\n",
       "      <td>0.676471</td>\n",
       "      <td>0.205882</td>\n",
       "      <td>0.047059</td>\n",
       "      <td>0.023529</td>\n",
       "      <td>...</td>\n",
       "      <td>24</td>\n",
       "      <td>0</td>\n",
       "      <td>5424</td>\n",
       "      <td>170</td>\n",
       "      <td>8</td>\n",
       "      <td>0.152941</td>\n",
       "      <td>0.079130</td>\n",
       "      <td>0</td>\n",
       "      <td>IBM Sees Holographic Calls Air Breathing Batte...</td>\n",
       "      <td>A sign stands outside the International Busine...</td>\n",
       "    </tr>\n",
       "    <tr>\n",
       "      <th>1</th>\n",
       "      <td>http://www.popsci.com/technology/article/2012-...</td>\n",
       "      <td>8471</td>\n",
       "      <td>{\"title\":\"The Fully Electronic Futuristic Star...</td>\n",
       "      <td>recreation</td>\n",
       "      <td>0.574147</td>\n",
       "      <td>3.677966</td>\n",
       "      <td>0.508021</td>\n",
       "      <td>0.288770</td>\n",
       "      <td>0.213904</td>\n",
       "      <td>0.144385</td>\n",
       "      <td>...</td>\n",
       "      <td>40</td>\n",
       "      <td>0</td>\n",
       "      <td>4973</td>\n",
       "      <td>187</td>\n",
       "      <td>9</td>\n",
       "      <td>0.181818</td>\n",
       "      <td>0.125448</td>\n",
       "      <td>1</td>\n",
       "      <td>The Fully Electronic Futuristic Starting Gun T...</td>\n",
       "      <td>And that can be carried on a plane without the...</td>\n",
       "    </tr>\n",
       "    <tr>\n",
       "      <th>2</th>\n",
       "      <td>http://www.menshealth.com/health/flu-fighting-...</td>\n",
       "      <td>1164</td>\n",
       "      <td>{\"title\":\"Fruits that Fight the Flu fruits tha...</td>\n",
       "      <td>health</td>\n",
       "      <td>0.996526</td>\n",
       "      <td>2.382883</td>\n",
       "      <td>0.562016</td>\n",
       "      <td>0.321705</td>\n",
       "      <td>0.120155</td>\n",
       "      <td>0.042636</td>\n",
       "      <td>...</td>\n",
       "      <td>55</td>\n",
       "      <td>0</td>\n",
       "      <td>2240</td>\n",
       "      <td>258</td>\n",
       "      <td>11</td>\n",
       "      <td>0.166667</td>\n",
       "      <td>0.057613</td>\n",
       "      <td>1</td>\n",
       "      <td>Fruits that Fight the Flu fruits that fight th...</td>\n",
       "      <td>Apples The most popular source of antioxidants...</td>\n",
       "    </tr>\n",
       "    <tr>\n",
       "      <th>3</th>\n",
       "      <td>http://www.dumblittleman.com/2007/12/10-foolpr...</td>\n",
       "      <td>6684</td>\n",
       "      <td>{\"title\":\"10 Foolproof Tips for Better Sleep \"...</td>\n",
       "      <td>health</td>\n",
       "      <td>0.801248</td>\n",
       "      <td>1.543103</td>\n",
       "      <td>0.400000</td>\n",
       "      <td>0.100000</td>\n",
       "      <td>0.016667</td>\n",
       "      <td>0.000000</td>\n",
       "      <td>...</td>\n",
       "      <td>24</td>\n",
       "      <td>0</td>\n",
       "      <td>2737</td>\n",
       "      <td>120</td>\n",
       "      <td>5</td>\n",
       "      <td>0.041667</td>\n",
       "      <td>0.100858</td>\n",
       "      <td>1</td>\n",
       "      <td>10 Foolproof Tips for Better Sleep</td>\n",
       "      <td>There was a period in my life when I had a lot...</td>\n",
       "    </tr>\n",
       "    <tr>\n",
       "      <th>4</th>\n",
       "      <td>http://bleacherreport.com/articles/1205138-the...</td>\n",
       "      <td>9006</td>\n",
       "      <td>{\"title\":\"The 50 Coolest Jerseys You Didn t Kn...</td>\n",
       "      <td>sports</td>\n",
       "      <td>0.719157</td>\n",
       "      <td>2.676471</td>\n",
       "      <td>0.500000</td>\n",
       "      <td>0.222222</td>\n",
       "      <td>0.123457</td>\n",
       "      <td>0.043210</td>\n",
       "      <td>...</td>\n",
       "      <td>14</td>\n",
       "      <td>0</td>\n",
       "      <td>12032</td>\n",
       "      <td>162</td>\n",
       "      <td>10</td>\n",
       "      <td>0.098765</td>\n",
       "      <td>0.082569</td>\n",
       "      <td>0</td>\n",
       "      <td>The 50 Coolest Jerseys You Didn t Know Existed...</td>\n",
       "      <td>Jersey sales is a curious business Whether you...</td>\n",
       "    </tr>\n",
       "  </tbody>\n",
       "</table>\n",
       "<p>5 rows × 29 columns</p>\n",
       "</div>"
      ],
      "text/plain": [
       "                                                 url  urlid  \\\n",
       "0  http://www.bloomberg.com/news/2010-12-23/ibm-p...   4042   \n",
       "1  http://www.popsci.com/technology/article/2012-...   8471   \n",
       "2  http://www.menshealth.com/health/flu-fighting-...   1164   \n",
       "3  http://www.dumblittleman.com/2007/12/10-foolpr...   6684   \n",
       "4  http://bleacherreport.com/articles/1205138-the...   9006   \n",
       "\n",
       "                                         boilerplate alchemy_category  \\\n",
       "0  {\"title\":\"IBM Sees Holographic Calls Air Breat...         business   \n",
       "1  {\"title\":\"The Fully Electronic Futuristic Star...       recreation   \n",
       "2  {\"title\":\"Fruits that Fight the Flu fruits tha...           health   \n",
       "3  {\"title\":\"10 Foolproof Tips for Better Sleep \"...           health   \n",
       "4  {\"title\":\"The 50 Coolest Jerseys You Didn t Kn...           sports   \n",
       "\n",
       "  alchemy_category_score  avglinksize  commonlinkratio_1  commonlinkratio_2  \\\n",
       "0               0.789131     2.055556           0.676471           0.205882   \n",
       "1               0.574147     3.677966           0.508021           0.288770   \n",
       "2               0.996526     2.382883           0.562016           0.321705   \n",
       "3               0.801248     1.543103           0.400000           0.100000   \n",
       "4               0.719157     2.676471           0.500000           0.222222   \n",
       "\n",
       "   commonlinkratio_3  commonlinkratio_4  \\\n",
       "0           0.047059           0.023529   \n",
       "1           0.213904           0.144385   \n",
       "2           0.120155           0.042636   \n",
       "3           0.016667           0.000000   \n",
       "4           0.123457           0.043210   \n",
       "\n",
       "                         ...                          linkwordscore  \\\n",
       "0                        ...                                     24   \n",
       "1                        ...                                     40   \n",
       "2                        ...                                     55   \n",
       "3                        ...                                     24   \n",
       "4                        ...                                     14   \n",
       "\n",
       "   news_front_page  non_markup_alphanum_characters  numberOfLinks  \\\n",
       "0                0                            5424            170   \n",
       "1                0                            4973            187   \n",
       "2                0                            2240            258   \n",
       "3                0                            2737            120   \n",
       "4                0                           12032            162   \n",
       "\n",
       "   numwords_in_url  parametrizedLinkRatio  spelling_errors_ratio label  \\\n",
       "0                8               0.152941               0.079130     0   \n",
       "1                9               0.181818               0.125448     1   \n",
       "2               11               0.166667               0.057613     1   \n",
       "3                5               0.041667               0.100858     1   \n",
       "4               10               0.098765               0.082569     0   \n",
       "\n",
       "                                               title  \\\n",
       "0  IBM Sees Holographic Calls Air Breathing Batte...   \n",
       "1  The Fully Electronic Futuristic Starting Gun T...   \n",
       "2  Fruits that Fight the Flu fruits that fight th...   \n",
       "3                10 Foolproof Tips for Better Sleep    \n",
       "4  The 50 Coolest Jerseys You Didn t Know Existed...   \n",
       "\n",
       "                                                body  \n",
       "0  A sign stands outside the International Busine...  \n",
       "1  And that can be carried on a plane without the...  \n",
       "2  Apples The most popular source of antioxidants...  \n",
       "3  There was a period in my life when I had a lot...  \n",
       "4  Jersey sales is a curious business Whether you...  \n",
       "\n",
       "[5 rows x 29 columns]"
      ]
     },
     "execution_count": 1,
     "metadata": {},
     "output_type": "execute_result"
    }
   ],
   "source": [
    "# Unicode Handling\n",
    "from __future__ import unicode_literals\n",
    "\n",
    "import pandas as pd\n",
    "import json\n",
    "\n",
    "data = pd.read_csv(\"../dataset/stumbleupon.tsv\", sep='\\t',\n",
    "                  encoding=\"utf-8\")\n",
    "data['title'] = data.boilerplate.map(lambda x: json.loads(x).get('title', ''))\n",
    "data['body'] = data.boilerplate.map(lambda x: json.loads(x).get('body', ''))\n",
    "data.head()"
   ]
  },
  {
   "cell_type": "code",
   "execution_count": 2,
   "metadata": {},
   "outputs": [
    {
     "data": {
      "text/plain": [
       "<spacy.en.English at 0x10700bba8>"
      ]
     },
     "execution_count": 2,
     "metadata": {},
     "output_type": "execute_result"
    }
   ],
   "source": [
    "## Load spacy\n",
    "\n",
    "from spacy.en import English\n",
    "nlp_toolkit = English()\n",
    "nlp_toolkit"
   ]
  },
  {
   "cell_type": "markdown",
   "metadata": {},
   "source": [
    "Another way to load `spacy`:\n",
    "```\n",
    "import spacy\n",
    "nlp_toolkit = spacy.load(\"en\")\n",
    "```"
   ]
  },
  {
   "cell_type": "code",
   "execution_count": 12,
   "metadata": {},
   "outputs": [
    {
     "name": "stdout",
     "output_type": "stream",
     "text": [
      "Word: Mary\n",
      "\t Phrase type: nsubj\n",
      "\t Is the word a known entity type? PERSON\n",
      "\t Lemma: mary\n",
      "\t Parent of this word: have\n",
      "Word: had\n",
      "\t Phrase type: ROOT\n",
      "\t Is the word a known entity type? No\n",
      "\t Lemma: have\n",
      "\t Parent of this word: have\n",
      "Word: a\n",
      "\t Phrase type: det\n",
      "\t Is the word a known entity type? No\n",
      "\t Lemma: a\n",
      "\t Parent of this word: lamb\n",
      "Word: little\n",
      "\t Phrase type: amod\n",
      "\t Is the word a known entity type? No\n",
      "\t Lemma: little\n",
      "\t Parent of this word: lamb\n",
      "Word: lamb\n",
      "\t Phrase type: dobj\n",
      "\t Is the word a known entity type? No\n",
      "\t Lemma: lamb\n",
      "\t Parent of this word: have\n",
      "Word: .\n",
      "\t Phrase type: punct\n",
      "\t Is the word a known entity type? No\n",
      "\t Lemma: .\n",
      "\t Parent of this word: have\n"
     ]
    }
   ],
   "source": [
    "title = u\"Mary had a little lamb.\"\n",
    "parsed = nlp_toolkit(title)\n",
    "\n",
    "for (i, word) in enumerate(parsed): \n",
    "    print (\"Word: {}\".format(word))\n",
    "    print (\"\\t Phrase type: {}\".format(word.dep_))\n",
    "    print (\"\\t Is the word a known entity type? {}\".format(\n",
    "        word.ent_type_  if word.ent_type_ else \"No\"))\n",
    "    print (\"\\t Lemma: {}\".format(word.lemma_))\n",
    "    print (\"\\t Parent of this word: {}\".format(word.head.lemma_))"
   ]
  },
  {
   "cell_type": "markdown",
   "metadata": {},
   "source": [
    "## Investigate Page Titles\n",
    "\n",
    "Let's see if we can find organizations in our page titles."
   ]
  },
  {
   "cell_type": "code",
   "execution_count": 13,
   "metadata": {},
   "outputs": [
    {
     "data": {
      "text/html": [
       "<div>\n",
       "<style>\n",
       "    .dataframe thead tr:only-child th {\n",
       "        text-align: right;\n",
       "    }\n",
       "\n",
       "    .dataframe thead th {\n",
       "        text-align: left;\n",
       "    }\n",
       "\n",
       "    .dataframe tbody tr th {\n",
       "        vertical-align: top;\n",
       "    }\n",
       "</style>\n",
       "<table border=\"1\" class=\"dataframe\">\n",
       "  <thead>\n",
       "    <tr style=\"text-align: right;\">\n",
       "      <th></th>\n",
       "      <th>title</th>\n",
       "    </tr>\n",
       "  </thead>\n",
       "  <tbody>\n",
       "    <tr>\n",
       "      <th>0</th>\n",
       "      <td>IBM Sees Holographic Calls Air Breathing Batte...</td>\n",
       "    </tr>\n",
       "    <tr>\n",
       "      <th>5</th>\n",
       "      <td>Genital Herpes Treatment</td>\n",
       "    </tr>\n",
       "    <tr>\n",
       "      <th>6</th>\n",
       "      <td>fashion lane American Wild Child</td>\n",
       "    </tr>\n",
       "    <tr>\n",
       "      <th>8</th>\n",
       "      <td>Valet The Handbook 31 Days 31 days</td>\n",
       "    </tr>\n",
       "    <tr>\n",
       "      <th>10</th>\n",
       "      <td>Business Financial News Breaking US Internatio...</td>\n",
       "    </tr>\n",
       "  </tbody>\n",
       "</table>\n",
       "</div>"
      ],
      "text/plain": [
       "                                                title\n",
       "0   IBM Sees Holographic Calls Air Breathing Batte...\n",
       "5                           Genital Herpes Treatment \n",
       "6                   fashion lane American Wild Child \n",
       "8                  Valet The Handbook 31 Days 31 days\n",
       "10  Business Financial News Breaking US Internatio..."
      ]
     },
     "execution_count": 13,
     "metadata": {},
     "output_type": "execute_result"
    }
   ],
   "source": [
    "def references_organization(title):\n",
    "    parsed = nlp_toolkit(title)\n",
    "    return any([word.ent_type_ == 'ORG' for word in parsed])\n",
    "\n",
    "data['references_organization'] = data['title'].fillna(u'').map(references_organization)\n",
    "\n",
    "# Take a look\n",
    "data[data['references_organization']][['title']].head()"
   ]
  },
  {
   "cell_type": "markdown",
   "metadata": {},
   "source": [
    "## Exercise:\n",
    "\n",
    "Write a function to identify titles that mention an organization (ORG) and a person (PERSON).\n",
    "\n",
    ".\n",
    ".\n",
    ".\n",
    ".\n",
    ".\n",
    ".\n",
    ".\n",
    "."
   ]
  },
  {
   "cell_type": "code",
   "execution_count": 16,
   "metadata": {},
   "outputs": [
    {
     "data": {
      "text/html": [
       "<div>\n",
       "<style>\n",
       "    .dataframe thead tr:only-child th {\n",
       "        text-align: right;\n",
       "    }\n",
       "\n",
       "    .dataframe thead th {\n",
       "        text-align: left;\n",
       "    }\n",
       "\n",
       "    .dataframe tbody tr th {\n",
       "        vertical-align: top;\n",
       "    }\n",
       "</style>\n",
       "<table border=\"1\" class=\"dataframe\">\n",
       "  <thead>\n",
       "    <tr style=\"text-align: right;\">\n",
       "      <th></th>\n",
       "      <th>title</th>\n",
       "    </tr>\n",
       "  </thead>\n",
       "  <tbody>\n",
       "    <tr>\n",
       "      <th>11</th>\n",
       "      <td>A Tip of the Cap to The Greatest Iron Man of T...</td>\n",
       "    </tr>\n",
       "    <tr>\n",
       "      <th>29</th>\n",
       "      <td>Genevieve Morton Swimsuit by Tyler Rose Swimwe...</td>\n",
       "    </tr>\n",
       "    <tr>\n",
       "      <th>44</th>\n",
       "      <td>Alyssa Miller Swimsuit by Charlie by Matthew Z...</td>\n",
       "    </tr>\n",
       "    <tr>\n",
       "      <th>114</th>\n",
       "      <td>Baby Gorilla Tries To Act Tough Video</td>\n",
       "    </tr>\n",
       "    <tr>\n",
       "      <th>115</th>\n",
       "      <td>BBC News UK Sweet message in a bottle</td>\n",
       "    </tr>\n",
       "  </tbody>\n",
       "</table>\n",
       "</div>"
      ],
      "text/plain": [
       "                                                 title\n",
       "11   A Tip of the Cap to The Greatest Iron Man of T...\n",
       "29   Genevieve Morton Swimsuit by Tyler Rose Swimwe...\n",
       "44   Alyssa Miller Swimsuit by Charlie by Matthew Z...\n",
       "114             Baby Gorilla Tries To Act Tough Video \n",
       "115             BBC News UK Sweet message in a bottle "
      ]
     },
     "execution_count": 16,
     "metadata": {},
     "output_type": "execute_result"
    }
   ],
   "source": [
    "## Exercise solution\n",
    "def references_organization_person(title):\n",
    "    parsed = nlp_toolkit(title)\n",
    "    return any([word.ent_type_ == 'ORG' for word in parsed]) and any([word.ent_type_ == 'PERSON' for word in parsed])\n",
    "\n",
    "data['references_organization_person'] = data['title'].fillna(u'').map(references_organization_person)\n",
    "\n",
    "# Take a look\n",
    "data[data['references_organization_person']][['title']].head()\n",
    "# Take a look\n"
   ]
  },
  {
   "cell_type": "markdown",
   "metadata": {},
   "source": [
    "## Predicting \"Greenness\" Of Content"
   ]
  },
  {
   "cell_type": "markdown",
   "metadata": {},
   "source": [
    "This dataset comes from [stumbleupon](https://www.stumbleupon.com/), a web page recommender.  \n",
    "\n",
    "A description of the columns is below"
   ]
  },
  {
   "cell_type": "markdown",
   "metadata": {},
   "source": [
    "FieldName|Type|Description\n",
    "---------|----|-----------\n",
    "url|string|Url of the webpage to be classified\n",
    "title|string|Title of the article\n",
    "body|string|Body text of article\n",
    "urlid|integer| StumbleUpon's unique identifier for each url\n",
    "boilerplate|json|Boilerplate text\n",
    "alchemy_category|string|Alchemy category (per the publicly available Alchemy API found at www.alchemyapi.com)\n",
    "alchemy_category_score|double|Alchemy category score (per the publicly available Alchemy API found at www.alchemyapi.com)\n",
    "avglinksize| double|Average number of words in each link\n",
    "commonlinkratio_1|double|# of links sharing at least 1 word with 1 other links / # of links\n",
    "commonlinkratio_2|double|# of links sharing at least 1 word with 2 other links / # of links\n",
    "commonlinkratio_3|double|# of links sharing at least 1 word with 3 other links / # of links\n",
    "commonlinkratio_4|double|# of links sharing at least 1 word with 4 other links / # of links\n",
    "compression_ratio|double|Compression achieved on this page via gzip (measure of redundancy)\n",
    "embed_ratio|double|Count of number of <embed> usage\n",
    "frameBased|integer (0 or 1)|A page is frame-based (1) if it has no body markup but have a frameset markup\n",
    "frameTagRatio|double|Ratio of iframe markups over total number of markups\n",
    "hasDomainLink|integer (0 or 1)|True (1) if it contains an <a> with an url with domain\n",
    "html_ratio|double|Ratio of tags vs text in the page\n",
    "image_ratio|double|Ratio of <img> tags vs text in the page\n",
    "is_news|integer (0 or 1) | True (1) if StumbleUpon's news classifier determines that this webpage is news\n",
    "lengthyLinkDomain| integer (0 or 1)|True (1) if at least 3 <a> 's text contains more than 30 alphanumeric characters\n",
    "linkwordscore|double|Percentage of words on the page that are in hyperlink's text\n",
    "news_front_page| integer (0 or 1)|True (1) if StumbleUpon's news classifier determines that this webpage is front-page news\n",
    "non_markup_alphanum_characters|integer| Page's text's number of alphanumeric characters\n",
    "numberOfLinks|integer Number of <a>|markups\n",
    "numwords_in_url| double|Number of words in url\n",
    "parametrizedLinkRatio|double|A link is parametrized if it's url contains parameters or has an attached onClick event\n",
    "spelling_errors_ratio|double|Ratio of words not found in wiki (considered to be a spelling mistake)\n",
    "label|integer (0 or 1)|User-determined label. Either evergreen (1) or non-evergreen (0); available for train.tsv only"
   ]
  },
  {
   "cell_type": "markdown",
   "metadata": {},
   "source": [
    "> ### Let's try extracting some of the text content.\n",
    "> ### Create a feature for the title containing 'recipe'. Is the % of evegreen websites higher or lower on pages that have recipe in the the title?"
   ]
  },
  {
   "cell_type": "code",
   "execution_count": 17,
   "metadata": {
    "collapsed": true
   },
   "outputs": [],
   "source": [
    "# Option 1: Create a function to check for this\n",
    "\n",
    "def has_recipe(text_in):    #trying to extract if the sentence has recipe or not\n",
    "    try:\n",
    "        if 'recipe' in str(text_in).lower():\n",
    "            return 1\n",
    "        else:\n",
    "            return 0\n",
    "    except: \n",
    "        return 0\n",
    "        \n",
    "data['recipe'] = data['title'].map(has_recipe)\n",
    "\n",
    "# Option 2: lambda functions\n",
    "\n",
    "#data['recipe'] = data['title'].map(lambda t: 1 if 'recipe' in str(t).lower() else 0)\n",
    "\n",
    "\n",
    "# Option 3: string functions\n",
    "data['recipe'] = data['title'].str.contains('recipe')"
   ]
  },
  {
   "cell_type": "markdown",
   "metadata": {},
   "source": [
    " ### Demo: Use of the Count Vectorizer"
   ]
  },
  {
   "cell_type": "code",
   "execution_count": 18,
   "metadata": {
    "collapsed": true
   },
   "outputs": [],
   "source": [
    "titles = data['title'].fillna('')\n",
    "\n",
    "from sklearn.feature_extraction.text import CountVectorizer\n",
    "\n",
    "vectorizer = CountVectorizer(max_features = 1000, \n",
    "                             ngram_range=(1, 2), \n",
    "                             stop_words='english',\n",
    "                             binary=True)\n",
    "\n",
    "# Use `fit` to learn the vocabulary of the titles\n",
    "vectorizer.fit(titles)\n",
    "\n",
    "# Use `tranform` to generate the sample X word matrix - one column per feature (word or n-grams)\n",
    "X = vectorizer.transform(titles)"
   ]
  },
  {
   "cell_type": "code",
   "execution_count": 20,
   "metadata": {},
   "outputs": [
    {
     "name": "stdout",
     "output_type": "stream",
     "text": [
      "(7395, 32)\n"
     ]
    }
   ],
   "source": [
    "X\n",
    "print (data.shape)  #typing just X will also give the information below"
   ]
  },
  {
   "cell_type": "code",
   "execution_count": 29,
   "metadata": {},
   "outputs": [
    {
     "name": "stdout",
     "output_type": "stream",
     "text": [
      "alton brown\n"
     ]
    }
   ],
   "source": [
    "print (vectorizer.get_feature_names()[48])"
   ]
  },
  {
   "cell_type": "code",
   "execution_count": 30,
   "metadata": {},
   "outputs": [
    {
     "name": "stdout",
     "output_type": "stream",
     "text": [
      "['000', '10', '10 best', '10 things', '10 ways', '100', '101', '101 cookbooks', '11', '12', '13', '14', '15', '16', '17', '18', '20', '2007', '2008', '2008 sports', '2009', '2010', '2010 sports', '2011', '2011 sports', '2012', '2013', '2013 check', '2013 sports', '22', '24', '25', '30', '3d', '50', '8211', '8217', '8230', 'abs', 'accessories', 'actually', 'adventures', 'advice', 'air', 'alcohol', 'allrecipes', 'allrecipes com', 'almond', 'alton brown', 'amazing', 'america', 'american', 'analysis', 'anderson', 'android', 'angeles', 'angeles slideshows', 'anxiety', 'apple', 'apple pie', 'apples', 'apps', 'archive', 'art', 'artichoke', 'asian', 'athletes', 'atlantic', 'attack', 'avocado', 'awesome', 'baby', 'bacon', 'bad', 'bake', 'baked', 'baker', 'bakers', 'baking', 'ball', 'balls', 'balsamic', 'banana', 'banana bread', 'bar', 'bar refaeli', 'bars', 'basil', 'bbc', 'bbc food', 'bbc news', 'bbq', 'beach', 'bean', 'beautiful', 'beauty', 'beef', 'beer', 'bell', 'benefits', 'best', 'best new', 'better', 'betty', 'betty crocker', 'big', 'biggest', 'birthday', 'biscuits', 'bites', 'black', 'black bean', 'blog', 'blog archive', 'blogs', 'blood', 'blue', 'blueberry', 'body', 'boost', 'boots', 'boston', 'bowl', 'boy', 'brain', 'bread', 'bread recipe', 'break', 'break com', 'breakfast', 'breaking', 'breaking news', 'broccoli', 'brooklyn', 'brooklyn decker', 'brown', 'brownie', 'brownies', 'brownies recipe', 'buffalo', 'buffalo chicken', 'build', 'burger', 'burgers', 'burn', 'business', 'butt', 'butter', 'butter cookies', 'buttercream', 'buttermilk', 'buy', 'cajun', 'cake', 'cake recipe', 'cakes', 'camera', 'cancer', 'candy', 'car', 'caramel', 'caramelized', 'care', 'carrot', 'casserole', 'casserole recipe', 'celebrity', 'cell', 'center', 'challenge', 'change', 'check', 'cheddar', 'cheese', 'cheese frosting', 'cheesecake', 'cheesecake recipe', 'cheesecakes', 'cheesy', 'chef', 'cherry', 'chic', 'chicago', 'chicken', 'chicken recipe', 'chicken recipes', 'children', 'chili', 'chinese', 'chip', 'chip cookies', 'chips', 'chocolate', 'chocolate cake', 'chocolate chip', 'chocolate peanut', 'christmas', 'cinnamon', 'cinnamon rolls', 'city', 'classic', 'clothes', 'clothing', 'clutch', 'cnn', 'cnn com', 'coconut', 'coffee', 'coffee cake', 'cold', 'collection', 'collection 2008', 'collection 2010', 'college', 'college fashion', 'collegehumor', 'collegehumor video', 'com', 'com insidershealth', 'com photos', 'common', 'community', 'computer', 'concept', 'control', 'cook', 'cookbooks', 'cooker', 'cookie', 'cookie dough', 'cookie recipe', 'cookies', 'cookies cream', 'cookies recipe', 'cookin', 'cooking', 'cooking food', 'cooking tips', 'cooks', 'cool', 'coolest', 'corn', 'costume', 'cranberry', 'crazy', 'cream', 'cream cheese', 'cream sauce', 'creamy', 'create', 'creative', 'crispy', 'crocker', 'crunch', 'crust', 'cuisine', 'culture', 'cup', 'cupcake', 'cupcakes', 'cups', 'cure', 'cures', 'current', 'cut', 'cute', 'cyanide', 'cyanide happiness', 'daily', 'dangerous', 'dark', 'dark chocolate', 'day', 'days', 'death', 'decker', 'decker si', 'delicious', 'denver', 'design', 'designer', 'designs', 'dessert', 'dessert recipe', 'dessert recipes', 'desserts', 'device', 'did', 'die', 'diet', 'dining', 'dinner', 'dip', 'dipping', 'diseases', 'dish', 'dishes', 'disorders', 'diy', 'does', 'doesn', 'dog', 'doing', 'don', 'dough', 'dress', 'dresses', 'drink', 'drugs', 'earth', 'easy', 'eat', 'eating', 'eats', 'edition', 'edition check', 'edition si', 'egg', 'eggs', 'elle', 'elle com', 'enchiladas', 'energy', 'entertainment', 'epic', 'epicurious', 'epicurious com', 'espresso', 'everyday', 'evolution', 'exercise', 'exercises', 'expensive', 'explosm', 'explosm net', 'eye', 'eyed', 'fabulous', 'face', 'facebook', 'facts', 'fake', 'fall', 'family', 'family kitchen', 'famous', 'fans', 'fashion', 'fashion week', 'fast', 'fast food', 'fat', 'favorite', 'feel', 'female', 'feta', 'field', 'fight', 'filled', 'film', 'finally', 'fitness', 'flickr', 'food', 'food blog', 'food cooking', 'food network', 'food photography', 'food recipes', 'foodie', 'foods', 'foods eat', 'football', 'fox', 'francisco', 'free', 'free online', 'french', 'french toast', 'fresh', 'fried', 'fries', 'frosting', 'fruit', 'fruits', 'fudge', 'fun', 'funny', 'funny pictures', 'future', 'future technology', 'g4tv', 'g4tv com', 'gallery', 'game', 'games', 'garden', 'garlic', 'geek', 'german', 'gets', 'getting', 'gifs', 'ginger', 'girl', 'girls', 'glass', 'global', 'gluten', 'gluten free', 'goes', 'going', 'gomes', 'good', 'google', 'got', 'gourmet', 'granola', 'great', 'greatest', 'greek', 'green', 'grilled', 'grilled cheese', 'guide', 'guy', 'habits', 'hair', 'halloween', 'happens', 'happiness', 'happy', 'hate', 'having', 'headlines', 'health', 'health benefits', 'health com', 'healthier', 'healthy', 'healthy food', 'healthy recipes', 'heart', 'heather', 'help', 'high', 'history', 'holiday', 'home', 'homemade', 'honey', 'hot', 'hot chocolate', 'hottest', 'house', 'human', 'hummus', 'humor', 'hungry', 'ice', 'ice cream', 'ideas', 'illustrated', 'illustrated swimsuit', 'image', 'images', 'improve', 'index', 'indie', 'indie clothing', 'indie urban', 'infographic', 'information', 'ingredient', 'ingredients', 'inside', 'insidershealth', 'insidershealth com', 'inspiration', 'inspired', 'international', 'internet', 'ipad', 'iphone', 'irish', 'iron', 'italian', 'items', 'ivillage', 'jessica', 'jessica gomes', 'joe', 'joy', 'joy baker', 'just', 'kate', 'kate upton', 'key', 'kick', 'kids', 'kill', 'kitchen', 'kitchens', 'kitchens food', 'know', 'la', 'lasagna', 'latest', 'league', 'learn', 'lemon', 'lemonade', 'life', 'life style', 'lifestyle', 'light', 'like', 'lime', 'list', 'little', 'live', 'living', 'll', 'local', 'london', 'london 2012', 'long', 'longer', 'look', 'looks', 'los', 'los angeles', 'lose', 'loss', 'lost', 'love', 'low', 'lunch', 'mac', 'mac cheese', 'macaroni', 'macaroni cheese', 'machine', 'magazine', 'make', 'makes', 'making', 'man', 'management', 'maple', 'marijuana', 'marshmallow', 'martha', 'martha stewart', 'mashed', 'meal', 'meals', 'meat', 'meatballs', 'media', 'medical', 'medicine', 'meme', 'memory', 'men', 'men health', 'mental', 'menus', 'mess', 'mexican', 'microsoft', 'mike', 'milk', 'miller', 'million', 'mind', 'mini', 'mint', 'minutes', 'mit', 'mix', 'mnn', 'mobile', 'model', 'model 2011', 'models', 'modern', 'mom', 'mom spark', 'moments', 'money', 'monkey', 'mores', 'morning', 'mother', 'movie', 'movies', 'mozzarella', 'muffins', 'museum', 'mushroom', 'mushrooms', 'music', 'mustard', 'nail', 'nanny', 'national', 'natural', 'need', 'net', 'network', 'network kitchens', 'new', 'new york', 'news', 'nfl', 'nice', 'night', 'npr', 'nutella', 'nutrition', 'oatmeal', 'obama', 'official', 'oh', 'oil', 'old', 'olive', 'olympic', 'olympics', 'onion', 'online', 'open', 'orange', 'oreo', 'oven', 'page', 'pain', 'pan', 'pancakes', 'parents', 'paris', 'parmesan', 'parsley', 'party', 'pasta', 'pastry', 'pea', 'peach', 'peanut', 'peanut butter', 'peas', 'pecan', 'people', 'pepper', 'peppermint', 'perfect', 'person', 'personal', 'pesto', 'phone', 'phones', 'photo', 'photo gallery', 'photography', 'photos', 'photos sports', 'pic', 'pics', 'picture', 'pictures', 'pie', 'pie recipe', 'pies', 'pig', 'pink', 'pioneer', 'pioneer woman', 'pizza', 'play', 'player', 'playing', 'police', 'polyvore', 'pop', 'pops', 'popular', 'pork', 'post', 'pot', 'potato', 'potatoes', 'power', 'pretty', 'pretzel', 'prevent', 'print', 'pro', 'probably', 'products', 'project', 'pudding', 'pumpkin', 'quick', 'quotes', 'rainbow', 'random', 'raspberry', 'raw', 'ready', 'real', 'real simple', 'reality', 'really', 'reasons', 'recipe', 'recipe allrecipes', 'recipe blog', 'recipe epicurious', 'recipe food', 'recipe simply', 'recipes', 'recipes cooking', 'recipes food', 'recipes ivillage', 'record', 'red', 'red velvet', 'refaeli', 'refaeli si', 'remedies', 'report', 'research', 'restaurant', 'restaurants', 'results', 'retro', 'review', 'reviews', 'rice', 'right', 'rings', 'risk', 'roast', 'roasted', 'robot', 'roll', 'rolls', 'rosemary', 'rules', 'runway', 'salad', 'salmon', 'salsa', 'salt', 'salted', 'salted caramel', 'san', 'san francisco', 'sandwich', 'sandwiches', 'sauce', 'sauce recipe', 'sausage', 'save', 'savory', 'say', 'says', 'school', 'science', 'scones', 'scores', 'search', 'secret', 'self', 'served', 'set', 'sex', 'sexy', 'sharing', 'shoes', 'shop', 'shopping', 'shot', 'shots', 'shows', 'shrimp', 'si', 'si com', 'si swimsuit', 'sign', 'simple', 'simple recipes', 'simply', 'site', 'skin', 'skinny', 'sleep', 'slide', 'slideshows', 'slow', 'slow cooker', 'smart', 'smile', 'smitten', 'smitten kitchen', 'smoked', 'snack', 'snacks', 'soccer', 'soda', 'soft', 'solar', 'soon', 'soup', 'soup recipe', 'sour', 'source', 'south', 'southern', 'space', 'spaghetti', 'spark', 'speed', 'spice', 'spiced', 'spicy', 'spinach', 'sport', 'sports', 'sports illustrated', 'sports news', 'spring', 'star', 'stars', 'stay', 'steak', 'stewart', 'stewart recipes', 'stop', 'store', 'stories', 'story', 'strawberries', 'strawberry', 'street', 'street style', 'stress', 'students', 'study', 'stuffed', 'stupid', 'style', 'sugar', 'sugar cookies', 'sugarcrafter', 'summer', 'sun', 'super', 'super bowl', 'support', 'surface', 'sushi', 'sweet', 'sweet potato', 'swimsuit', 'swimsuit 2013', 'swimsuit collection', 'swimsuit edition', 'swimsuit photo', 'swimsuit photos', 'sylvia', 'sylvia anderson', 'symptoms', 'syrup', 'table', 'taco', 'tacos', 'takes', 'tart', 'taste', 'tasty', 'tea', 'teacher', 'team', 'tech', 'techflesh', 'techniques', 'technologies', 'technology', 'technology news', 'technology review', 'ted', 'teen', 'telegraph', 'test', 'thanksgiving', 'thing', 'things', 'think', 'threadsence', 'threat', 'thyme', 'time', 'times', 'tiny', 'tip', 'tips', 'toast', 'today', 'tomato', 'tomatoes', 'tools', 'touch', 'treats', 'treehugger', 'trends', 'trick', 'tricks', 'truffles', 'try', 'turkey', 'turn', 'turns', 'tutorial', 'tv', 'twice', 'uk', 'ultimate', 'unique', 'upton', 'urban', 'use', 'uses', 'using', 'valentine', 'valentine day', 'vanilla', 've', 'vegan', 'vegetables', 'vegetarian', 'velvet', 'video', 'videos', 'village', 'village voice', 'vintage', 'visual', 'voice', 'vs', 'wall', 'want', 'watch', 'water', 'way', 'ways', 'wear', 'weather', 'web', 'wedding', 'week', 'weekly', 'weight', 'weight loss', 'weird', 'welcome', 'wheat', 'white', 'white chocolate', 'wild', 'windows', 'wine', 'wings', 'winter', 'woman', 'woman cooks', 'womansday', 'womansday com', 'women', 'women fashion', 'won', 'work', 'workout', 'works', 'world', 'world news', 'worst', 'wrong', 'wtf', 'year', 'year old', 'years', 'yes', 'york', 'york best', 'york village', 'youtube', 'yummy', 'zucchini']\n"
     ]
    }
   ],
   "source": [
    "print (vectorizer.get_feature_names())"
   ]
  },
  {
   "cell_type": "code",
   "execution_count": 27,
   "metadata": {},
   "outputs": [
    {
     "name": "stdout",
     "output_type": "stream",
     "text": [
      "  (0, 43)\t1\n",
      "  (2, 209)\t1\n",
      "  (2, 357)\t1\n",
      "  (2, 384)\t1\n",
      "  (2, 435)\t1\n",
      "  (2, 564)\t1\n",
      "  (2, 565)\t1\n",
      "  (3, 1)\t1\n",
      "  (3, 102)\t1\n",
      "  (3, 797)\t1\n",
      "  (3, 907)\t1\n",
      "  (4, 34)\t1\n",
      "  (4, 240)\t1\n",
      "  (4, 504)\t1\n",
      "  (6, 51)\t1\n",
      "  (6, 347)\t1\n",
      "  (6, 970)\t1\n",
      "  (7, 217)\t1\n",
      "  (7, 476)\t1\n",
      "  (7, 477)\t1\n",
      "  (8, 273)\t1\n",
      "  (9, 137)\t1\n",
      "  (9, 231)\t1\n",
      "  (9, 232)\t1\n",
      "  (9, 245)\t1\n",
      "  :\t:\n",
      "  (7391, 213)\t1\n",
      "  (7392, 311)\t1\n",
      "  (7392, 312)\t1\n",
      "  (7392, 691)\t1\n",
      "  (7392, 863)\t1\n",
      "  (7394, 23)\t1\n",
      "  (7394, 24)\t1\n",
      "  (7394, 217)\t1\n",
      "  (7394, 314)\t1\n",
      "  (7394, 316)\t1\n",
      "  (7394, 393)\t1\n",
      "  (7394, 462)\t1\n",
      "  (7394, 463)\t1\n",
      "  (7394, 583)\t1\n",
      "  (7394, 584)\t1\n",
      "  (7394, 662)\t1\n",
      "  (7394, 663)\t1\n",
      "  (7394, 787)\t1\n",
      "  (7394, 788)\t1\n",
      "  (7394, 789)\t1\n",
      "  (7394, 829)\t1\n",
      "  (7394, 830)\t1\n",
      "  (7394, 865)\t1\n",
      "  (7394, 868)\t1\n",
      "  (7394, 869)\t1\n"
     ]
    }
   ],
   "source": [
    "print (X)"
   ]
  },
  {
   "cell_type": "markdown",
   "metadata": {},
   "source": [
    " ### Demo: Build a random forest model to predict evergreeness of a website using the title features"
   ]
  },
  {
   "cell_type": "code",
   "execution_count": 34,
   "metadata": {},
   "outputs": [
    {
     "name": "stdout",
     "output_type": "stream",
     "text": [
      "CV AUC [ 0.78625527  0.80724769  0.80781976], Average AUC 0.8004409059451499\n"
     ]
    }
   ],
   "source": [
    "from sklearn.ensemble import RandomForestClassifier\n",
    "\n",
    "model = RandomForestClassifier(n_estimators = 20)\n",
    "    \n",
    "# Use `fit` to learn the vocabulary of the titles\n",
    "vectorizer.fit(titles)\n",
    "\n",
    "# Use `tranform` to generate the sample X word matrix - one column per feature (word or n-grams)\n",
    "X = vectorizer.transform(titles).toarray()\n",
    "y = data['label']\n",
    "\n",
    "from sklearn.cross_validation import cross_val_score\n",
    "\n",
    "scores = cross_val_score(model, X, y, scoring='roc_auc')\n",
    "print('CV AUC {}, Average AUC {}'.format(scores, scores.mean()))"
   ]
  },
  {
   "cell_type": "code",
   "execution_count": 35,
   "metadata": {},
   "outputs": [
    {
     "data": {
      "text/html": [
       "<div>\n",
       "<style>\n",
       "    .dataframe thead tr:only-child th {\n",
       "        text-align: right;\n",
       "    }\n",
       "\n",
       "    .dataframe thead th {\n",
       "        text-align: left;\n",
       "    }\n",
       "\n",
       "    .dataframe tbody tr th {\n",
       "        vertical-align: top;\n",
       "    }\n",
       "</style>\n",
       "<table border=\"1\" class=\"dataframe\">\n",
       "  <thead>\n",
       "    <tr style=\"text-align: right;\">\n",
       "      <th></th>\n",
       "      <th>Features</th>\n",
       "      <th>Importance Score</th>\n",
       "    </tr>\n",
       "  </thead>\n",
       "  <tbody>\n",
       "    <tr>\n",
       "      <th>715</th>\n",
       "      <td>recipe</td>\n",
       "      <td>0.036845</td>\n",
       "    </tr>\n",
       "    <tr>\n",
       "      <th>721</th>\n",
       "      <td>recipes</td>\n",
       "      <td>0.024295</td>\n",
       "    </tr>\n",
       "    <tr>\n",
       "      <th>192</th>\n",
       "      <td>chocolate</td>\n",
       "      <td>0.017476</td>\n",
       "    </tr>\n",
       "    <tr>\n",
       "      <th>183</th>\n",
       "      <td>chicken</td>\n",
       "      <td>0.013982</td>\n",
       "    </tr>\n",
       "    <tr>\n",
       "      <th>347</th>\n",
       "      <td>fashion</td>\n",
       "      <td>0.012763</td>\n",
       "    </tr>\n",
       "  </tbody>\n",
       "</table>\n",
       "</div>"
      ],
      "text/plain": [
       "      Features  Importance Score\n",
       "715     recipe          0.036845\n",
       "721    recipes          0.024295\n",
       "192  chocolate          0.017476\n",
       "183    chicken          0.013982\n",
       "347    fashion          0.012763"
      ]
     },
     "execution_count": 35,
     "metadata": {},
     "output_type": "execute_result"
    }
   ],
   "source": [
    "model.fit(X, y)\n",
    "\n",
    "all_feature_names = vectorizer.get_feature_names() #to get the name of this one feature\n",
    "feature_importances = pd.DataFrame({'Features' : all_feature_names, 'Importance Score': model.feature_importances_})\n",
    "feature_importances.sort_values('Importance Score', ascending=False).head()"
   ]
  },
  {
   "cell_type": "code",
   "execution_count": null,
   "metadata": {
    "collapsed": true
   },
   "outputs": [],
   "source": [
    "model"
   ]
  },
  {
   "cell_type": "markdown",
   "metadata": {},
   "source": [
    "### Exercise: Build a random forest model to predict evergreeness of a website using the title features and quantitative features"
   ]
  },
  {
   "cell_type": "code",
   "execution_count": 31,
   "metadata": {},
   "outputs": [
    {
     "name": "stdout",
     "output_type": "stream",
     "text": [
      "CV AUC [ 0.78097123  0.79240349  0.78938872], Average AUC 0.787587815381813\n"
     ]
    }
   ],
   "source": [
    "## TODO\n",
    "X = vectorizer.transform(titles)\n",
    "X_additional_cols = ['html_ratio', 'image_ratio']\n",
    "X_additional_data = data[X_additional_cols]\n",
    "\n",
    "from scipy.sparse import hstack\n",
    "X = hstack((X, X_additional_data)).toarray()\n",
    "y = data['label']\n",
    "\n",
    "from sklearn.cross_validation import cross_val_score\n",
    "\n",
    "model = RandomForestClassifier(n_estimators = 20)\n",
    "scores = cross_val_score(model, X, y, scoring='roc_auc')\n",
    "print('CV AUC {}, Average AUC {}'.format(scores, scores.mean()))\n"
   ]
  },
  {
   "cell_type": "code",
   "execution_count": 32,
   "metadata": {},
   "outputs": [
    {
     "data": {
      "text/html": [
       "<div>\n",
       "<style>\n",
       "    .dataframe thead tr:only-child th {\n",
       "        text-align: right;\n",
       "    }\n",
       "\n",
       "    .dataframe thead th {\n",
       "        text-align: left;\n",
       "    }\n",
       "\n",
       "    .dataframe tbody tr th {\n",
       "        vertical-align: top;\n",
       "    }\n",
       "</style>\n",
       "<table border=\"1\" class=\"dataframe\">\n",
       "  <thead>\n",
       "    <tr style=\"text-align: right;\">\n",
       "      <th></th>\n",
       "      <th>Features</th>\n",
       "      <th>Importance Score</th>\n",
       "    </tr>\n",
       "  </thead>\n",
       "  <tbody>\n",
       "    <tr>\n",
       "      <th>1000</th>\n",
       "      <td>html_ratio</td>\n",
       "      <td>0.154508</td>\n",
       "    </tr>\n",
       "    <tr>\n",
       "      <th>1001</th>\n",
       "      <td>image_ratio</td>\n",
       "      <td>0.094720</td>\n",
       "    </tr>\n",
       "    <tr>\n",
       "      <th>715</th>\n",
       "      <td>recipe</td>\n",
       "      <td>0.043839</td>\n",
       "    </tr>\n",
       "    <tr>\n",
       "      <th>721</th>\n",
       "      <td>recipes</td>\n",
       "      <td>0.018380</td>\n",
       "    </tr>\n",
       "    <tr>\n",
       "      <th>192</th>\n",
       "      <td>chocolate</td>\n",
       "      <td>0.011846</td>\n",
       "    </tr>\n",
       "  </tbody>\n",
       "</table>\n",
       "</div>"
      ],
      "text/plain": [
       "         Features  Importance Score\n",
       "1000   html_ratio          0.154508\n",
       "1001  image_ratio          0.094720\n",
       "715        recipe          0.043839\n",
       "721       recipes          0.018380\n",
       "192     chocolate          0.011846"
      ]
     },
     "execution_count": 32,
     "metadata": {},
     "output_type": "execute_result"
    }
   ],
   "source": [
    "model.fit(X, y)\n",
    "\n",
    "all_feature_names = vectorizer.get_feature_names() + X_additional_cols  #to get the names of the features\n",
    "feature_importances = pd.DataFrame({'Features' : all_feature_names, 'Importance Score': model.feature_importances_})\n",
    "feature_importances.sort_values('Importance Score', ascending=False).head()\n"
   ]
  },
  {
   "cell_type": "markdown",
   "metadata": {},
   "source": [
    " ### Exercise: Build a random forest model to predict evergreeness of a website using the body features"
   ]
  },
  {
   "cell_type": "code",
   "execution_count": 37,
   "metadata": {},
   "outputs": [
    {
     "name": "stdout",
     "output_type": "stream",
     "text": [
      "CV AUC [ 0.83550619  0.85767194  0.83681559], Average AUC 0.8433312394162226\n"
     ]
    }
   ],
   "source": [
    "## TODO\n",
    "from sklearn.ensemble import RandomForestClassifier\n",
    "\n",
    "body = data['body'].fillna('')\n",
    "\n",
    "model = RandomForestClassifier(n_estimators = 20)\n",
    "    \n",
    "# Use `fit` to learn the vocabulary of the titles\n",
    "vectorizer.fit(body)\n",
    "\n",
    "# Use `tranform` to generate the sample X word matrix - one column per feature (word or n-grams)\n",
    "X = vectorizer.transform(body).toarray()\n",
    "y = data['label']\n",
    "\n",
    "from sklearn.cross_validation import cross_val_score\n",
    "\n",
    "scores = cross_val_score(model, X, y, scoring='roc_auc')\n",
    "print('CV AUC {}, Average AUC {}'.format(scores, scores.mean()))"
   ]
  },
  {
   "cell_type": "code",
   "execution_count": 43,
   "metadata": {},
   "outputs": [
    {
     "name": "stdout",
     "output_type": "stream",
     "text": [
      "['000', '10', '10 minutes', '100', '11', '12', '13', '14', '15', '15 minutes', '16', '17', '18', '19', '20', '20 minutes', '2008', '2009', '2010', '2011', '2012', '21', '22', '23', '24', '25', '26', '28', '30', '30 minutes', '35', '350', '350 degrees', '40', '400', '45', '50', '60', 'ability', 'able', 'absolutely', 'according', 'actually', 'adapted', 'add', 'added', 'adding', 'addition', 'additional', 'advice', 'age', 'ago', 'ahead', 'air', 'allow', 'alternative', 'amazing', 'america', 'american', 'apart', 'apple', 'area', 'aren', 'art', 'article', 'aside', 'ask', 'asked', 'attention', 'author', 'available', 'average', 'avoid', 'away', 'awesome', 'baby', 'bacon', 'bad', 'bag', 'bake', 'baked', 'baking', 'baking powder', 'baking sheet', 'baking soda', 'ball', 'bar', 'base', 'based', 'basic', 'batter', 'beans', 'beat', 'beautiful', 'beauty', 'beef', 'begin', 'believe', 'benefits', 'best', 'better', 'big', 'bit', 'bite', 'black', 'blend', 'blog', 'blood', 'blue', 'board', 'body', 'boil', 'book', 'bought', 'bowl', 'box', 'brain', 'brand', 'bread', 'break', 'breakfast', 'bring', 'brown', 'brown sugar', 'brush', 'build', 'business', 'butter', 'buy', 'cake', 'cakes', 'california', 'called', 'calories', 'came', 'cancer', 'candy', 'car', 'care', 'carefully', 'case', 'cause', 'center', 'certain', 'certainly', 'chance', 'change', 'changes', 'check', 'cheese', 'chef', 'chicken', 'children', 'chips', 'chocolate', 'chocolate chips', 'choice', 'choose', 'chopped', 'cinnamon', 'city', 'class', 'classic', 'clean', 'clear', 'click', 'close', 'cloves', 'coat', 'coffee', 'cold', 'collection', 'college', 'color', 'com', 'combination', 'combine', 'combined', 'come', 'comes', 'coming', 'comment', 'comments', 'common', 'community', 'company', 'complete', 'completely', 'computer', 'consider', 'contact', 'container', 'content', 'continue', 'control', 'cook', 'cooked', 'cookie', 'cookies', 'cooking', 'cool', 'cool completely', 'corn', 'cost', 'couldn', 'country', 'couple', 'course', 'cover', 'covered', 'cream', 'cream cheese', 'creamy', 'create', 'created', 'creating', 'crisp', 'crust', 'cup', 'cups', 'current', 'currently', 'cut', 'cutting', 'daily', 'dark', 'date', 'day', 'days', 'deal', 'decided', 'deep', 'definitely', 'degrees', 'delicious', 'depending', 'design', 'designed', 'desired', 'dessert', 'desserts', 'developed', 'did', 'didn', 'diet', 'difference', 'different', 'difficult', 'dinner', 'dip', 'directions', 'directly', 'disease', 'dish', 'dishes', 'display', 'does', 'doesn', 'doing', 'don', 'don know', 'don want', 'double', 'dough', 'drain', 'dried', 'drink', 'drizzle', 'drop', 'dry', 'early', 'easier', 'easily', 'easy', 'eat', 'eating', 'edge', 'edges', 'effect', 'effective', 'effects', 'egg', 'eggs', 'electric', 'email', 'end', 'energy', 'enjoy', 'entire', 'especially', 'evenly', 'exactly', 'example', 'exercise', 'experience', 'extra', 'extract', 'eye', 'eyes', 'face', 'facebook', 'fact', 'fall', 'family', 'fan', 'far', 'fashion', 'fast', 'fat', 'favorite', 'features', 'feed', 'feel', 'feeling', 'feet', 'filled', 'filling', 'final', 'finally', 'fine', 'finely', 'finish', 'finished', 'firm', 'fish', 'fit', 'flat', 'flavor', 'flavors', 'flour', 'fluffy', 'fold', 'follow', 'following', 'food', 'food processor', 'foods', 'forget', 'form', 'forward', 'free', 'freezer', 'french', 'fresh', 'fridge', 'fried', 'friend', 'friendly', 'friends', 'frozen', 'fruit', 'fruits', 'fully', 'fun', 'function', 'funny', 'future', 'game', 'games', 'garlic', 'gave', 'general', 'gently', 'gets', 'getting', 'girl', 'given', 'gives', 'giving', 'glass', 'goes', 'going', 'golden', 'golden brown', 'gone', 'good', 'google', 'got', 'grated', 'great', 'green', 'ground', 'group', 'guess', 'guide', 'guy', 'guys', 'hair', 'half', 'hand', 'hands', 'happen', 'happy', 'hard', 'haven', 'having', 'head', 'health', 'healthy', 'heard', 'heart', 'heat', 'heavy', 'help', 'helps', 'high', 'high heat', 'higher', 'history', 'hit', 'hold', 'home', 'homemade', 'honey', 'hope', 'hot', 'hour', 'hours', 'house', 'http', 'huge', 'human', 'husband', 'ice', 'ice cream', 'idea', 'ideas', 'image', 'images', 'immediately', 'important', 'improve', 'inch', 'inches', 'include', 'included', 'including', 'increase', 'individual', 'information', 'ingredients', 'inside', 'inspired', 'instead', 'instructions', 'interesting', 'international', 'internet', 'isn', 'issue', 'italian', 'items', 'job', 'juice', 'just', 'keeping', 'key', 'kid', 'kids', 'kind', 'kitchen', 'knew', 'knife', 'know', 'known', 'large', 'large bowl', 'late', 'later', 'latest', 'layer', 'lead', 'learn', 'leave', 'leaves', 'leaving', 'left', 'lemon', 'let', 'let cool', 'level', 'levels', 'life', 'light', 'lightly', 'like', 'likely', 'line', 'lined', 'link', 'liquid', 'list', 'little', 'live', 'lives', 'living', 'll', 'local', 'long', 'longer', 'look', 'looked', 'looking', 'looks', 'lose', 'loss', 'lost', 'lot', 'lots', 'love', 'loved', 'low', 'lower', 'lunch', 'magazine', 'main', 'major', 'make', 'make sure', 'makes', 'making', 'man', 'march', 'market', 'matter', 'maybe', 'meal', 'meals', 'mean', 'means', 'meat', 'media', 'medical', 'medicine', 'medium', 'medium heat', 'medium high', 'melt', 'melted', 'men', 'method', 'microwave', 'middle', 'milk', 'million', 'mind', 'mini', 'minute', 'minutes', 'mix', 'mixed', 'mixer', 'mixing', 'mixture', 'model', 'models', 'mom', 'moment', 'money', 'month', 'months', 'morning', 'mother', 'mouth', 'multiple', 'music', 'national', 'natural', 'near', 'nearly', 'necessary', 'need', 'needed', 'needs', 'network', 'new', 'new york', 'news', 'nice', 'night', 'non', 'normal', 'note', 'number', 'nutrition', 'nuts', 'offer', 'oh', 'oil', 'old', 'olive', 'olive oil', 'ones', 'onion', 'onions', 'online', 'open', 'optional', 'orange', 'order', 'original', 'ounces', 'outside', 'oven', 'oven 350', 'oz', 'package', 'packed', 'page', 'pain', 'pan', 'paper', 'parchment', 'particular', 'parts', 'party', 'past', 'pasta', 'pay', 'peanut', 'peanut butter', 'people', 'pepper', 'percent', 'perfect', 'perfectly', 'person', 'personal', 'phone', 'photo', 'photography', 'photos', 'physical', 'pick', 'picture', 'pictures', 'pie', 'piece', 'pieces', 'pinch', 'pizza', 'place', 'plain', 'plan', 'plastic', 'plate', 'play', 'plenty', 'plus', 'point', 'pop', 'popular', 'position', 'possible', 'post', 'posted', 'posts', 'pot', 'potato', 'potatoes', 'pound', 'pounds', 'pour', 'powder', 'powdered', 'power', 'pre', 'prefer', 'preheat', 'preheat oven', 'prepare', 'prepared', 'press', 'pretty', 'prevent', 'print', 'probably', 'problem', 'problems', 'process', 'processor', 'produce', 'product', 'products', 'project', 'protein', 'provide', 'public', 'published', 'pull', 'pure', 'purpose', 'purpose flour', 'quality', 'question', 'quick', 'quickly', 'quite', 'rack', 'range', 'raw', 'reach', 'read', 'reading', 'ready', 'real', 'really', 'reason', 'recent', 'recently', 'recipe', 'recipes', 'recommend', 'red', 'reduce', 'refrigerate', 'refrigerator', 'regular', 'related', 'remaining', 'remember', 'remove', 'remove heat', 'repeat', 'research', 'researchers', 'rest', 'restaurant', 'result', 'results', 'return', 'rice', 'rich', 'right', 'risk', 'roasted', 'roll', 'room', 'room temperature', 'round', 'run', 'running', 'safe', 'said', 'salad', 'salt', 'salt pepper', 'salt1', 'sandwich', 'sauce', 'saucepan', 'save', 'saw', 'say', 'saying', 'says', 'school', 'science', 'search', 'season', 'second', 'seconds', 'secret', 'seeds', 'seen', 'self', 'send', 'sense', 'separate', 'seriously', 'serve', 'served', 'serves', 'serving', 'servings', 'set', 'set aside', 'shape', 'share', 'sheet', 'shop', 'short', 'shown', 'shows', 'sides', 'sign', 'similar', 'simmer', 'simple', 'simply', 'single', 'sit', 'site', 'size', 'sized', 'skillet', 'skin', 'sleep', 'slice', 'sliced', 'slices', 'slightly', 'slow', 'slowly', 'small', 'small bowl', 'smooth', 'snack', 'social', 'soda', 'soft', 'soon', 'sort', 'soup', 'sour', 'source', 'space', 'special', 'speed', 'spend', 'spent', 'spoon', 'sports', 'spray', 'spread', 'spring', 'sprinkle', 'stand', 'standard', 'star', 'start', 'started', 'starting', 'state', 'states', 'stay', 'step', 'stick', 'sticks', 'stir', 'stirring', 'stop', 'store', 'story', 'straight', 'street', 'strong', 'studies', 'study', 'stuff', 'style', 'sugar', 'sugar1', 'summer', 'super', 'support', 'sure', 'surface', 'sweet', 'syrup', 'table', 'tablespoon', 'tablespoons', 'tags', 'taken', 'takes', 'taking', 'talk', 'talking', 'taste', 'tasty', 'tbsp', 'tea', 'team', 'teaspoon', 'teaspoons', 'technology', 'tell', 'temperature', 'tender', 'term', 'test', 'text', 'texture', 'thank', 'thanks', 'thing', 'things', 'think', 'thinking', 'thought', 'throw', 'time', 'times', 'tiny', 'tip', 'tips', 'today', 'told', 'tomato', 'tomatoes', 'took', 'topping', 'toss', 'total', 'totally', 'touch', 'traditional', 'transfer', 'treat', 'tried', 'true', 'truly', 'try', 'trying', 'tsp', 'turn', 'turned', 'turns', 'tv', 'twice', 'twitter', 'type', 'types', 'understand', 'unique', 'united', 'university', 'unsalted', 'unsalted butter', 'use', 'used', 'users', 'uses', 'using', 'usually', 'vanilla', 'vanilla extract', 'variety', 'various', 've', 've got', 'vegetable', 'vegetables', 'version', 'video', 'videos', 'view', 'visit', 'wait', 'want', 'wanted', 'warm', 'wasn', 'watch', 'water', 'way', 'ways', 'wear', 'web', 'website', 'week', 'weekend', 'weeks', 'weight', 'went', 'wet', 'whisk', 'white', 'wide', 'win', 'wine', 'winter', 'wire', 'woman', 'women', 'won', 'wonderful', 'word', 'words', 'work', 'worked', 'working', 'works', 'world', 'worth', 'wouldn', 'wrap', 'write', 'written', 'wrong', 'www', 'year', 'year old', 'years', 'years ago', 'yellow', 'yes', 'york', 'young']\n"
     ]
    }
   ],
   "source": [
    "print (vectorizer.get_feature_names())"
   ]
  },
  {
   "cell_type": "markdown",
   "metadata": {},
   "source": [
    " ### Exercise: Use `TfIdfVectorizer` instead of `CountVectorizer` - is this an improvement?"
   ]
  },
  {
   "cell_type": "code",
   "execution_count": 44,
   "metadata": {
    "collapsed": true
   },
   "outputs": [],
   "source": [
    "## TODO\n",
    "titles = data['title'].fillna('')\n",
    "\n",
    "from sklearn.feature_extraction.text import TfidfVectorizer\n",
    "\n",
    "vectorizer = TfidfVectorizer(max_features = 1000, \n",
    "                             ngram_range=(1, 2), \n",
    "                             stop_words='english',\n",
    "                             binary=True)\n",
    "\n",
    "# Use `fit` to learn the vocabulary of the titles\n",
    "vectorizer.fit(titles)\n",
    "\n",
    "# Use `tranform` to generate the sample X word matrix - one column per feature (word or n-grams)\n",
    "X = vectorizer.transform(titles)"
   ]
  },
  {
   "cell_type": "code",
   "execution_count": 45,
   "metadata": {},
   "outputs": [
    {
     "name": "stdout",
     "output_type": "stream",
     "text": [
      "  (0, 43)\t1.0\n",
      "  (2, 565)\t0.41781645344\n",
      "  (2, 564)\t0.37709195865\n",
      "  (2, 435)\t0.290522221666\n",
      "  (2, 384)\t0.462977562902\n",
      "  (2, 357)\t0.434368832665\n",
      "  (2, 209)\t0.44249677754\n",
      "  (3, 907)\t0.472699800791\n",
      "  (3, 797)\t0.555710769333\n",
      "  (3, 102)\t0.545795421579\n",
      "  (3, 1)\t0.412125947936\n",
      "  (4, 504)\t0.538787638016\n",
      "  (4, 240)\t0.657863515637\n",
      "  (4, 34)\t0.526235190685\n",
      "  (6, 970)\t0.640015183735\n",
      "  (6, 347)\t0.415171163017\n",
      "  (6, 51)\t0.64653961208\n",
      "  (7, 477)\t0.643567020854\n",
      "  (7, 476)\t0.643567020854\n",
      "  (7, 217)\t0.414298176846\n",
      "  (8, 273)\t1.0\n",
      "  (9, 863)\t0.413875045697\n",
      "  (9, 245)\t0.389188856094\n",
      "  (9, 232)\t0.572177693714\n",
      "  (9, 231)\t0.380605274431\n",
      "  :\t:\n",
      "  (7391, 213)\t1.0\n",
      "  (7392, 863)\t0.460333229964\n",
      "  (7392, 691)\t0.539842979303\n",
      "  (7392, 312)\t0.531719000912\n",
      "  (7392, 311)\t0.46253408432\n",
      "  (7394, 869)\t0.253626854812\n",
      "  (7394, 868)\t0.22868874972\n",
      "  (7394, 865)\t0.197933028856\n",
      "  (7394, 830)\t0.198968457536\n",
      "  (7394, 829)\t0.166110079322\n",
      "  (7394, 789)\t0.211244420005\n",
      "  (7394, 788)\t0.242290886472\n",
      "  (7394, 787)\t0.20627294863\n",
      "  (7394, 663)\t0.248169568626\n",
      "  (7394, 662)\t0.21868324004\n",
      "  (7394, 584)\t0.269830177771\n",
      "  (7394, 583)\t0.253626854812\n",
      "  (7394, 463)\t0.225054005756\n",
      "  (7394, 462)\t0.198620181627\n",
      "  (7394, 393)\t0.236256864198\n",
      "  (7394, 316)\t0.253626854812\n",
      "  (7394, 314)\t0.221105383913\n",
      "  (7394, 217)\t0.135680410663\n",
      "  (7394, 24)\t0.248169568626\n",
      "  (7394, 23)\t0.213225953854\n"
     ]
    }
   ],
   "source": [
    "print(X)"
   ]
  },
  {
   "cell_type": "code",
   "execution_count": 46,
   "metadata": {},
   "outputs": [
    {
     "data": {
      "text/plain": [
       "(7395, 32)"
      ]
     },
     "execution_count": 46,
     "metadata": {},
     "output_type": "execute_result"
    }
   ],
   "source": [
    "data.shape"
   ]
  },
  {
   "cell_type": "code",
   "execution_count": 47,
   "metadata": {},
   "outputs": [
    {
     "name": "stdout",
     "output_type": "stream",
     "text": [
      "['000', '10', '10 best', '10 things', '10 ways', '100', '101', '101 cookbooks', '11', '12', '13', '14', '15', '16', '17', '18', '20', '2007', '2008', '2008 sports', '2009', '2010', '2010 sports', '2011', '2011 sports', '2012', '2013', '2013 check', '2013 sports', '22', '24', '25', '30', '3d', '50', '8211', '8217', '8230', 'abs', 'accessories', 'actually', 'adventures', 'advice', 'air', 'alcohol', 'allrecipes', 'allrecipes com', 'almond', 'alton brown', 'amazing', 'america', 'american', 'analysis', 'anderson', 'android', 'angeles', 'angeles slideshows', 'anxiety', 'apple', 'apple pie', 'apples', 'apps', 'archive', 'art', 'artichoke', 'asian', 'athletes', 'atlantic', 'attack', 'avocado', 'awesome', 'baby', 'bacon', 'bad', 'bake', 'baked', 'baker', 'bakers', 'baking', 'ball', 'balls', 'balsamic', 'banana', 'banana bread', 'bar', 'bar refaeli', 'bars', 'basil', 'bbc', 'bbc food', 'bbc news', 'bbq', 'beach', 'bean', 'beautiful', 'beauty', 'beef', 'beer', 'bell', 'benefits', 'best', 'best new', 'better', 'betty', 'betty crocker', 'big', 'biggest', 'birthday', 'biscuits', 'bites', 'black', 'black bean', 'blog', 'blog archive', 'blogs', 'blood', 'blue', 'blueberry', 'body', 'boost', 'boots', 'boston', 'bowl', 'boy', 'brain', 'bread', 'bread recipe', 'break', 'break com', 'breakfast', 'breaking', 'breaking news', 'broccoli', 'brooklyn', 'brooklyn decker', 'brown', 'brownie', 'brownies', 'brownies recipe', 'buffalo', 'buffalo chicken', 'build', 'burger', 'burgers', 'burn', 'business', 'butt', 'butter', 'butter cookies', 'buttercream', 'buttermilk', 'buy', 'cajun', 'cake', 'cake recipe', 'cakes', 'camera', 'cancer', 'candy', 'car', 'caramel', 'caramelized', 'care', 'carrot', 'casserole', 'casserole recipe', 'celebrity', 'cell', 'center', 'challenge', 'change', 'check', 'cheddar', 'cheese', 'cheese frosting', 'cheesecake', 'cheesecake recipe', 'cheesecakes', 'cheesy', 'chef', 'cherry', 'chic', 'chicago', 'chicken', 'chicken recipe', 'chicken recipes', 'children', 'chili', 'chinese', 'chip', 'chip cookies', 'chips', 'chocolate', 'chocolate cake', 'chocolate chip', 'chocolate peanut', 'christmas', 'cinnamon', 'cinnamon rolls', 'city', 'classic', 'clothes', 'clothing', 'clutch', 'cnn', 'cnn com', 'coconut', 'coffee', 'coffee cake', 'cold', 'collection', 'collection 2008', 'collection 2010', 'college', 'college fashion', 'collegehumor', 'collegehumor video', 'com', 'com insidershealth', 'com photos', 'common', 'community', 'computer', 'concept', 'control', 'cook', 'cookbooks', 'cooker', 'cookie', 'cookie dough', 'cookie recipe', 'cookies', 'cookies cream', 'cookies recipe', 'cookin', 'cooking', 'cooking food', 'cooking tips', 'cooks', 'cool', 'coolest', 'corn', 'costume', 'cranberry', 'crazy', 'cream', 'cream cheese', 'cream sauce', 'creamy', 'create', 'creative', 'crispy', 'crocker', 'crunch', 'crust', 'cuisine', 'culture', 'cup', 'cupcake', 'cupcakes', 'cups', 'cure', 'cures', 'current', 'cut', 'cute', 'cyanide', 'cyanide happiness', 'daily', 'dangerous', 'dark', 'dark chocolate', 'day', 'days', 'death', 'decker', 'decker si', 'delicious', 'denver', 'design', 'designer', 'designs', 'dessert', 'dessert recipe', 'dessert recipes', 'desserts', 'device', 'did', 'die', 'diet', 'dining', 'dinner', 'dip', 'dipping', 'diseases', 'dish', 'dishes', 'disorders', 'diy', 'does', 'doesn', 'dog', 'doing', 'don', 'dough', 'dress', 'dresses', 'drink', 'drugs', 'earth', 'easy', 'eat', 'eating', 'eats', 'edition', 'edition check', 'edition si', 'egg', 'eggs', 'elle', 'elle com', 'enchiladas', 'energy', 'entertainment', 'epic', 'epicurious', 'epicurious com', 'espresso', 'everyday', 'evolution', 'exercise', 'exercises', 'expensive', 'explosm', 'explosm net', 'eye', 'eyed', 'fabulous', 'face', 'facebook', 'facts', 'fake', 'fall', 'family', 'family kitchen', 'famous', 'fans', 'fashion', 'fashion week', 'fast', 'fast food', 'fat', 'favorite', 'feel', 'female', 'feta', 'field', 'fight', 'filled', 'film', 'finally', 'fitness', 'flickr', 'food', 'food blog', 'food cooking', 'food network', 'food photography', 'food recipes', 'foodie', 'foods', 'foods eat', 'football', 'fox', 'francisco', 'free', 'free online', 'french', 'french toast', 'fresh', 'fried', 'fries', 'frosting', 'fruit', 'fruits', 'fudge', 'fun', 'funny', 'funny pictures', 'future', 'future technology', 'g4tv', 'g4tv com', 'gallery', 'game', 'games', 'garden', 'garlic', 'geek', 'german', 'gets', 'getting', 'gifs', 'ginger', 'girl', 'girls', 'glass', 'global', 'gluten', 'gluten free', 'goes', 'going', 'gomes', 'good', 'google', 'got', 'gourmet', 'granola', 'great', 'greatest', 'greek', 'green', 'grilled', 'grilled cheese', 'guide', 'guy', 'habits', 'hair', 'halloween', 'happens', 'happiness', 'happy', 'hate', 'having', 'headlines', 'health', 'health benefits', 'health com', 'healthier', 'healthy', 'healthy food', 'healthy recipes', 'heart', 'heather', 'help', 'high', 'history', 'holiday', 'home', 'homemade', 'honey', 'hot', 'hot chocolate', 'hottest', 'house', 'human', 'hummus', 'humor', 'hungry', 'ice', 'ice cream', 'ideas', 'illustrated', 'illustrated swimsuit', 'image', 'images', 'improve', 'index', 'indie', 'indie clothing', 'indie urban', 'infographic', 'information', 'ingredient', 'ingredients', 'inside', 'insidershealth', 'insidershealth com', 'inspiration', 'inspired', 'international', 'internet', 'ipad', 'iphone', 'irish', 'iron', 'italian', 'items', 'ivillage', 'jessica', 'jessica gomes', 'joe', 'joy', 'joy baker', 'just', 'kate', 'kate upton', 'key', 'kick', 'kids', 'kill', 'kitchen', 'kitchens', 'kitchens food', 'know', 'la', 'lasagna', 'latest', 'league', 'learn', 'lemon', 'lemonade', 'life', 'life style', 'lifestyle', 'light', 'like', 'lime', 'list', 'little', 'live', 'living', 'll', 'local', 'london', 'london 2012', 'long', 'longer', 'look', 'looks', 'los', 'los angeles', 'lose', 'loss', 'lost', 'love', 'low', 'lunch', 'mac', 'mac cheese', 'macaroni', 'macaroni cheese', 'machine', 'magazine', 'make', 'makes', 'making', 'man', 'management', 'maple', 'marijuana', 'marshmallow', 'martha', 'martha stewart', 'mashed', 'meal', 'meals', 'meat', 'meatballs', 'media', 'medical', 'medicine', 'meme', 'memory', 'men', 'men health', 'mental', 'menus', 'mess', 'mexican', 'microsoft', 'mike', 'milk', 'miller', 'million', 'mind', 'mini', 'mint', 'minutes', 'mit', 'mix', 'mnn', 'mobile', 'model', 'model 2011', 'models', 'modern', 'mom', 'mom spark', 'moments', 'money', 'monkey', 'mores', 'morning', 'mother', 'movie', 'movies', 'mozzarella', 'muffins', 'museum', 'mushroom', 'mushrooms', 'music', 'mustard', 'nail', 'nanny', 'national', 'natural', 'need', 'net', 'network', 'network kitchens', 'new', 'new york', 'news', 'nfl', 'nice', 'night', 'npr', 'nutella', 'nutrition', 'oatmeal', 'obama', 'official', 'oh', 'oil', 'old', 'olive', 'olympic', 'olympics', 'onion', 'online', 'open', 'orange', 'oreo', 'oven', 'page', 'pain', 'pan', 'pancakes', 'parents', 'paris', 'parmesan', 'parsley', 'party', 'pasta', 'pastry', 'pea', 'peach', 'peanut', 'peanut butter', 'peas', 'pecan', 'people', 'pepper', 'peppermint', 'perfect', 'person', 'personal', 'pesto', 'phone', 'phones', 'photo', 'photo gallery', 'photography', 'photos', 'photos sports', 'pic', 'pics', 'picture', 'pictures', 'pie', 'pie recipe', 'pies', 'pig', 'pink', 'pioneer', 'pioneer woman', 'pizza', 'play', 'player', 'playing', 'police', 'polyvore', 'pop', 'pops', 'popular', 'pork', 'post', 'pot', 'potato', 'potatoes', 'power', 'pretty', 'pretzel', 'prevent', 'print', 'pro', 'probably', 'products', 'project', 'pudding', 'pumpkin', 'quick', 'quotes', 'rainbow', 'random', 'raspberry', 'raw', 'ready', 'real', 'real simple', 'reality', 'really', 'reasons', 'recipe', 'recipe allrecipes', 'recipe blog', 'recipe epicurious', 'recipe food', 'recipe simply', 'recipes', 'recipes cooking', 'recipes food', 'recipes ivillage', 'record', 'red', 'red velvet', 'refaeli', 'refaeli si', 'remedies', 'report', 'research', 'restaurant', 'restaurants', 'results', 'retro', 'review', 'reviews', 'rice', 'right', 'rings', 'risk', 'roast', 'roasted', 'robot', 'roll', 'rolls', 'rosemary', 'rules', 'runway', 'salad', 'salmon', 'salsa', 'salt', 'salted', 'salted caramel', 'san', 'san francisco', 'sandwich', 'sandwiches', 'sauce', 'sauce recipe', 'sausage', 'save', 'savory', 'say', 'says', 'school', 'science', 'scones', 'scores', 'search', 'secret', 'self', 'served', 'set', 'sex', 'sexy', 'sharing', 'shoes', 'shop', 'shopping', 'shot', 'shots', 'shows', 'shrimp', 'si', 'si com', 'si swimsuit', 'sign', 'simple', 'simple recipes', 'simply', 'site', 'skin', 'skinny', 'sleep', 'slide', 'slideshows', 'slow', 'slow cooker', 'smart', 'smile', 'smitten', 'smitten kitchen', 'smoked', 'snack', 'snacks', 'soccer', 'soda', 'soft', 'solar', 'soon', 'soup', 'soup recipe', 'sour', 'source', 'south', 'southern', 'space', 'spaghetti', 'spark', 'speed', 'spice', 'spiced', 'spicy', 'spinach', 'sport', 'sports', 'sports illustrated', 'sports news', 'spring', 'star', 'stars', 'stay', 'steak', 'stewart', 'stewart recipes', 'stop', 'store', 'stories', 'story', 'strawberries', 'strawberry', 'street', 'street style', 'stress', 'students', 'study', 'stuffed', 'stupid', 'style', 'sugar', 'sugar cookies', 'sugarcrafter', 'summer', 'sun', 'super', 'super bowl', 'support', 'surface', 'sushi', 'sweet', 'sweet potato', 'swimsuit', 'swimsuit 2013', 'swimsuit collection', 'swimsuit edition', 'swimsuit photo', 'swimsuit photos', 'sylvia', 'sylvia anderson', 'symptoms', 'syrup', 'table', 'taco', 'tacos', 'takes', 'tart', 'taste', 'tasty', 'tea', 'teacher', 'team', 'tech', 'techflesh', 'techniques', 'technologies', 'technology', 'technology news', 'technology review', 'ted', 'teen', 'telegraph', 'test', 'thanksgiving', 'thing', 'things', 'think', 'threadsence', 'threat', 'thyme', 'time', 'times', 'tiny', 'tip', 'tips', 'toast', 'today', 'tomato', 'tomatoes', 'tools', 'touch', 'treats', 'treehugger', 'trends', 'trick', 'tricks', 'truffles', 'try', 'turkey', 'turn', 'turns', 'tutorial', 'tv', 'twice', 'uk', 'ultimate', 'unique', 'upton', 'urban', 'use', 'uses', 'using', 'valentine', 'valentine day', 'vanilla', 've', 'vegan', 'vegetables', 'vegetarian', 'velvet', 'video', 'videos', 'village', 'village voice', 'vintage', 'visual', 'voice', 'vs', 'wall', 'want', 'watch', 'water', 'way', 'ways', 'wear', 'weather', 'web', 'wedding', 'week', 'weekly', 'weight', 'weight loss', 'weird', 'welcome', 'wheat', 'white', 'white chocolate', 'wild', 'windows', 'wine', 'wings', 'winter', 'woman', 'woman cooks', 'womansday', 'womansday com', 'women', 'women fashion', 'won', 'work', 'workout', 'works', 'world', 'world news', 'worst', 'wrong', 'wtf', 'year', 'year old', 'years', 'yes', 'york', 'york best', 'york village', 'youtube', 'yummy', 'zucchini']\n"
     ]
    }
   ],
   "source": [
    "print (vectorizer.get_feature_names())"
   ]
  },
  {
   "cell_type": "markdown",
   "metadata": {},
   "source": [
    "# Build a Random Forest Model (Below)"
   ]
  },
  {
   "cell_type": "code",
   "execution_count": 50,
   "metadata": {},
   "outputs": [
    {
     "name": "stdout",
     "output_type": "stream",
     "text": [
      "CV AUC [ 0.84032221  0.84993511  0.84622825], Average AUC 0.8454951893020218\n"
     ]
    }
   ],
   "source": [
    "from sklearn.ensemble import RandomForestClassifier\n",
    "\n",
    "title = data['title'].fillna('')\n",
    "\n",
    "model = RandomForestClassifier(n_estimators = 20)\n",
    "    \n",
    "# Use `fit` to learn the vocabulary of the titles\n",
    "vectorizer.fit(title)\n",
    "\n",
    "# Use `tranform` to generate the sample X word matrix - one column per feature (word or n-grams)\n",
    "X = vectorizer.transform(body).toarray()\n",
    "y = data['label']\n",
    "\n",
    "from sklearn.cross_validation import cross_val_score\n",
    "\n",
    "scores = cross_val_score(model, X, y, scoring='roc_auc')\n",
    "print('CV AUC {}, Average AUC {}'.format(scores, scores.mean()))"
   ]
  },
  {
   "cell_type": "code",
   "execution_count": null,
   "metadata": {
    "collapsed": true
   },
   "outputs": [],
   "source": []
  }
 ],
 "metadata": {
  "kernelspec": {
   "display_name": "Python 3",
   "language": "python",
   "name": "python3"
  },
  "language_info": {
   "codemirror_mode": {
    "name": "ipython",
    "version": 3
   },
   "file_extension": ".py",
   "mimetype": "text/x-python",
   "name": "python",
   "nbconvert_exporter": "python",
   "pygments_lexer": "ipython3",
   "version": "3.6.2"
  }
 },
 "nbformat": 4,
 "nbformat_minor": 1
}
