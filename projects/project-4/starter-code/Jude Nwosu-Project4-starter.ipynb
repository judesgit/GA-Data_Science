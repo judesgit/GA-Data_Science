{
 "cells": [
  {
   "cell_type": "markdown",
   "metadata": {},
   "source": [
    "# Project 4\n",
    "\n",
    "In this project, you will summarize and present your analysis from Projects 1-3."
   ]
  },
  {
   "cell_type": "markdown",
   "metadata": {},
   "source": [
    "### Intro: Write a problem Statement/ Specific Aim for this project"
   ]
  },
  {
   "cell_type": "markdown",
   "metadata": {},
   "source": [
    "Answer: The problem statement of this project involves predicting the status of college-educated students seeking admission into the University of California, Los Angeles (UCLA) Graduate School program for academic and professional advancement. The aim of this project is to predict which students are most likely to be admitted into the UCLA graduate program based on a combination of factors as Rank, representing the prestige of the institution attended for undergraduate studies; GPA; and GRE among others."
   ]
  },
  {
   "cell_type": "markdown",
   "metadata": {},
   "source": [
    "### Dataset:  Write up a description of your data and any cleaning that was completed"
   ]
  },
  {
   "cell_type": "markdown",
   "metadata": {},
   "source": [
    "Answer: Using Pandas's describe(), a summarized view of the data used in this project indicated the columns to be Admit, GRE, GPA, and Rank (Rank was changed to Prestige avoid conflict with one of Pandas's eponemously named DataFrame method.  In addition to the named columns, the data also has rows that ranged from Count, Mean, Std, Min, ... to Max.\n",
    "\n",
    "First data cleaning was done using the \"df = df_raw.dropna()\" to drop any null values in the data file, and then df.columns was used to rename \"rank\" to \"prestige\" in the List column. \"df.shape\" was to determine that the data comprised of 397 Rows, and 4 Columns.  This information was also visible in the \"df.describe\".  \"df.hist()\" and \"pl.show()\" was used to obtain a visual inspection of the data I am working with."
   ]
  },
  {
   "cell_type": "markdown",
   "metadata": {
    "collapsed": true
   },
   "source": [
    "### Demo: Provide a table that explains the data by admission status"
   ]
  },
  {
   "cell_type": "code",
   "execution_count": null,
   "metadata": {
    "collapsed": true
   },
   "outputs": [],
   "source": [
    "            admit         gre         gpa    prestige\n",
    "count  397.000000  397.000000  397.000000  397.000000\n",
    "mean     0.317380  587.858942    3.392242    2.488665\n",
    "std      0.466044  115.717787    0.380208    0.947083\n",
    "min      0.000000  220.000000    2.260000    1.000000\n",
    "25%      0.000000  520.000000    3.130000    2.000000\n",
    "50%      0.000000  580.000000    3.400000    2.000000\n",
    "75%      1.000000  660.000000    3.670000    3.000000\n",
    "max      1.000000  800.000000    4.000000    4.000000"
   ]
  },
  {
   "cell_type": "markdown",
   "metadata": {},
   "source": [
    "### Methods: Write up the methods used in your analysis"
   ]
  },
  {
   "cell_type": "markdown",
   "metadata": {},
   "source": [
    "Answer:  After loading the admissions data into the DataFrame and viewing its summary using .describe(), a dummy variable was creatd using \"Prestige\" as this is project is about Muliple Regression; hence the need for an n - 1 column set.  The 'admit', 'gre', 'gpa', and 'prestige' columns were used in the regression process.  A set of Histogram plots were used to depict the visuals for 'admit', 'gre', 'gpa', 'prestige' variables to understand the data.  The Odds Ratio was also used to determine a student's admittability based on the Prestige of the institution attended.  The data was also fitted to minimize the effect of outliers from the multiple independent variables and thereby resulting in predicted values close to the observed data values."
   ]
  },
  {
   "cell_type": "markdown",
   "metadata": {},
   "source": [
    "### Results: Write up your results"
   ]
  },
  {
   "cell_type": "markdown",
   "metadata": {},
   "source": [
    "Answer:  The obtained results indicate amongst other things that the Prestige of the institution attended by the graduate school applicant is vital to his/her admissibility.  The higher the Prestige of the intitution attended by the student, the better their chances of getting accepted.  It can also be deduced from the results that a higher GPA is positively associated with a student's chances of admission into the grad program."
   ]
  },
  {
   "cell_type": "markdown",
   "metadata": {},
   "source": [
    "# Visuals: Provide a table or visualization of these results"
   ]
  },
  {
   "cell_type": "markdown",
   "metadata": {},
   "source": [
    "![tite name](../assets/images/figure1.jpg)"
   ]
  },
  {
   "cell_type": "markdown",
   "metadata": {},
   "source": [
    "![tite name](../assets/images/figure2.jpg)"
   ]
  },
  {
   "cell_type": "markdown",
   "metadata": {},
   "source": [
    "### Discussion: Write up your discussion and future steps"
   ]
  },
  {
   "cell_type": "markdown",
   "metadata": {},
   "source": [
    "Answer: After studying the results from the data analysis process, it is obvious that the Prestige of an applicant's institution, and the GPA of the student are highly important in ensuring admisison into the grad program.  Future steps would involve "
   ]
  }
 ],
 "metadata": {
  "kernelspec": {
   "display_name": "Python 3",
   "language": "python",
   "name": "python3"
  },
  "language_info": {
   "codemirror_mode": {
    "name": "ipython",
    "version": 3
   },
   "file_extension": ".py",
   "mimetype": "text/x-python",
   "name": "python",
   "nbconvert_exporter": "python",
   "pygments_lexer": "ipython3",
   "version": "3.6.2"
  }
 },
 "nbformat": 4,
 "nbformat_minor": 1
}
