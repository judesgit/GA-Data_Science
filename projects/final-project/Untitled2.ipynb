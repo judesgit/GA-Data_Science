{
 "cells": [
  {
   "cell_type": "code",
   "execution_count": 1,
   "metadata": {},
   "outputs": [
    {
     "name": "stderr",
     "output_type": "stream",
     "text": [
      "/Users/judenwosu/anaconda/lib/python3.6/site-packages/statsmodels/compat/pandas.py:56: FutureWarning: The pandas.core.datetools module is deprecated and will be removed in a future version. Please use the pandas.tseries module instead.\n",
      "  from pandas.core import datetools\n"
     ]
    }
   ],
   "source": [
    "%matplotlib inline\n",
    "import pandas as pd\n",
    "import matplotlib.pyplot as plt\n",
    "import numpy as np\n",
    "from scipy import stats\n",
    "import seaborn as sns\n",
    "import statsmodels.api as sm\n",
    "from sklearn import linear_model"
   ]
  },
  {
   "cell_type": "code",
   "execution_count": 11,
   "metadata": {},
   "outputs": [
    {
     "data": {
      "text/html": [
       "<div>\n",
       "<style>\n",
       "    .dataframe thead tr:only-child th {\n",
       "        text-align: right;\n",
       "    }\n",
       "\n",
       "    .dataframe thead th {\n",
       "        text-align: left;\n",
       "    }\n",
       "\n",
       "    .dataframe tbody tr th {\n",
       "        vertical-align: top;\n",
       "    }\n",
       "</style>\n",
       "<table border=\"1\" class=\"dataframe\">\n",
       "  <thead>\n",
       "    <tr style=\"text-align: right;\">\n",
       "      <th></th>\n",
       "      <th>2009</th>\n",
       "      <th>2010</th>\n",
       "      <th>2011</th>\n",
       "      <th>2012</th>\n",
       "      <th>2013</th>\n",
       "      <th>2014</th>\n",
       "      <th>2015</th>\n",
       "      <th>2016</th>\n",
       "    </tr>\n",
       "    <tr>\n",
       "      <th>Expenditure</th>\n",
       "      <th></th>\n",
       "      <th></th>\n",
       "      <th></th>\n",
       "      <th></th>\n",
       "      <th></th>\n",
       "      <th></th>\n",
       "      <th></th>\n",
       "      <th></th>\n",
       "    </tr>\n",
       "  </thead>\n",
       "  <tbody>\n",
       "    <tr>\n",
       "      <th>Total Nat Health Exp</th>\n",
       "      <td>2495414</td>\n",
       "      <td>2598823</td>\n",
       "      <td>2689349</td>\n",
       "      <td>2797260</td>\n",
       "      <td>2879008</td>\n",
       "      <td>3026157</td>\n",
       "      <td>3200815</td>\n",
       "      <td>3337248</td>\n",
       "    </tr>\n",
       "    <tr>\n",
       "      <th>Out of Pocket</th>\n",
       "      <td>293723</td>\n",
       "      <td>299742</td>\n",
       "      <td>309973</td>\n",
       "      <td>318330</td>\n",
       "      <td>325189</td>\n",
       "      <td>330068</td>\n",
       "      <td>339315</td>\n",
       "      <td>352537</td>\n",
       "    </tr>\n",
       "    <tr>\n",
       "      <th>Priv Health Ins</th>\n",
       "      <td>832906</td>\n",
       "      <td>864344</td>\n",
       "      <td>898631</td>\n",
       "      <td>928211</td>\n",
       "      <td>946398</td>\n",
       "      <td>999940</td>\n",
       "      <td>1068778</td>\n",
       "      <td>1123372</td>\n",
       "    </tr>\n",
       "    <tr>\n",
       "      <th>Medicare</th>\n",
       "      <td>498859</td>\n",
       "      <td>519787</td>\n",
       "      <td>544679</td>\n",
       "      <td>569634</td>\n",
       "      <td>590163</td>\n",
       "      <td>618889</td>\n",
       "      <td>648808</td>\n",
       "      <td>672093</td>\n",
       "    </tr>\n",
       "    <tr>\n",
       "      <th>Medicaid (XIX)</th>\n",
       "      <td>374421</td>\n",
       "      <td>397226</td>\n",
       "      <td>406744</td>\n",
       "      <td>422688</td>\n",
       "      <td>445361</td>\n",
       "      <td>496645</td>\n",
       "      <td>544073</td>\n",
       "      <td>565550</td>\n",
       "    </tr>\n",
       "  </tbody>\n",
       "</table>\n",
       "</div>"
      ],
      "text/plain": [
       "                         2009     2010     2011     2012     2013     2014  \\\n",
       "Expenditure                                                                  \n",
       "Total Nat Health Exp  2495414  2598823  2689349  2797260  2879008  3026157   \n",
       "Out of Pocket          293723   299742   309973   318330   325189   330068   \n",
       "Priv Health Ins        832906   864344   898631   928211   946398   999940   \n",
       "Medicare               498859   519787   544679   569634   590163   618889   \n",
       "Medicaid (XIX)         374421   397226   406744   422688   445361   496645   \n",
       "\n",
       "                         2015     2016  \n",
       "Expenditure                             \n",
       "Total Nat Health Exp  3200815  3337248  \n",
       "Out of Pocket          339315   352537  \n",
       "Priv Health Ins       1068778  1123372  \n",
       "Medicare               648808   672093  \n",
       "Medicaid (XIX)         544073   565550  "
      ]
     },
     "execution_count": 11,
     "metadata": {},
     "output_type": "execute_result"
    }
   ],
   "source": [
    "# Reading in the .csv file\n",
    "df = pd.read_csv('HealthExpData3.csv', index_col=0)\n",
    "df.head()"
   ]
  },
  {
   "cell_type": "code",
   "execution_count": 13,
   "metadata": {},
   "outputs": [
    {
     "data": {
      "image/png": "[encoded data removed]",
      "text/plain": [
       "<matplotlib.figure.Figure at 0x10f1cf9e8>"
      ]
     },
     "metadata": {},
     "output_type": "display_data"
    }
   ],
   "source": [
    "plt.plot(df[\"2016\"], df[\"2015\"], label=\"2015\")\n",
    "plt.plot(df[\"2016\"], df[\"2014\"], label=\"2014\")\n",
    "plt.xlabel(\"Years\")\n",
    "plt.ylabel(\"Health Expenses\")\n",
    "plt.title(\"US Healthcare Expenditure\")\n",
    "plt.legend()\n",
    "plt.show()"
   ]
  },
  {
   "cell_type": "code",
   "execution_count": null,
   "metadata": {
    "collapsed": true
   },
   "outputs": [],
   "source": []
  }
 ],
 "metadata": {
  "kernelspec": {
   "display_name": "Python 3",
   "language": "python",
   "name": "python3"
  },
  "language_info": {
   "codemirror_mode": {
    "name": "ipython",
    "version": 3
   },
   "file_extension": ".py",
   "mimetype": "text/x-python",
   "name": "python",
   "nbconvert_exporter": "python",
   "pygments_lexer": "ipython3",
   "version": "3.6.2"
  }
 },
 "nbformat": 4,
 "nbformat_minor": 2
}
