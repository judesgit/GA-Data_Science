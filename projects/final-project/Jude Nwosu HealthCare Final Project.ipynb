{
 "cells": [
  {
   "cell_type": "code",
   "execution_count": 18,
   "metadata": {
    "collapsed": true
   },
   "outputs": [],
   "source": [
    "import pandas as pd\n",
    "import numpy as np\n",
    "import matplotlib.pyplot as plt\n",
    "from scipy import stats\n",
    "\n",
    "%matplotlib inline"
   ]
  },
  {
   "cell_type": "code",
   "execution_count": 19,
   "metadata": {
    "collapsed": true
   },
   "outputs": [],
   "source": [
    "df = pd.read_csv('Clean_Healthcare_df_transposed_v7.csv', index_col=0)"
   ]
  },
  {
   "cell_type": "code",
   "execution_count": 20,
   "metadata": {},
   "outputs": [
    {
     "data": {
      "text/html": [
       "<div>\n",
       "<style>\n",
       "    .dataframe thead tr:only-child th {\n",
       "        text-align: right;\n",
       "    }\n",
       "\n",
       "    .dataframe thead th {\n",
       "        text-align: left;\n",
       "    }\n",
       "\n",
       "    .dataframe tbody tr th {\n",
       "        vertical-align: top;\n",
       "    }\n",
       "</style>\n",
       "<table border=\"1\" class=\"dataframe\">\n",
       "  <thead>\n",
       "    <tr style=\"text-align: right;\">\n",
       "      <th></th>\n",
       "      <th>Date</th>\n",
       "      <th>Total Expenditure</th>\n",
       "      <th>Out of pocket</th>\n",
       "      <th>Health Insurance</th>\n",
       "      <th>Private Health Insurance</th>\n",
       "      <th>Medicare</th>\n",
       "      <th>Medicaid (Title XIX)</th>\n",
       "    </tr>\n",
       "  </thead>\n",
       "  <tbody>\n",
       "    <tr>\n",
       "      <th>1</th>\n",
       "      <td>1995-01</td>\n",
       "      <td>1021635</td>\n",
       "      <td>144816</td>\n",
       "      <td>681480</td>\n",
       "      <td>325339</td>\n",
       "      <td>184393</td>\n",
       "      <td>144862</td>\n",
       "    </tr>\n",
       "    <tr>\n",
       "      <th>2</th>\n",
       "      <td>1996-01</td>\n",
       "      <td>1074409</td>\n",
       "      <td>150354</td>\n",
       "      <td>722124</td>\n",
       "      <td>343686</td>\n",
       "      <td>198750</td>\n",
       "      <td>152170</td>\n",
       "    </tr>\n",
       "    <tr>\n",
       "      <th>3</th>\n",
       "      <td>1997-01</td>\n",
       "      <td>1135224</td>\n",
       "      <td>161370</td>\n",
       "      <td>758320</td>\n",
       "      <td>359553</td>\n",
       "      <td>210376</td>\n",
       "      <td>160849</td>\n",
       "    </tr>\n",
       "    <tr>\n",
       "      <th>4</th>\n",
       "      <td>1998-01</td>\n",
       "      <td>1201451</td>\n",
       "      <td>176812</td>\n",
       "      <td>792102</td>\n",
       "      <td>384738</td>\n",
       "      <td>209420</td>\n",
       "      <td>169011</td>\n",
       "    </tr>\n",
       "    <tr>\n",
       "      <th>5</th>\n",
       "      <td>1999-01</td>\n",
       "      <td>1277700</td>\n",
       "      <td>187575</td>\n",
       "      <td>845592</td>\n",
       "      <td>417078</td>\n",
       "      <td>213173</td>\n",
       "      <td>183455</td>\n",
       "    </tr>\n",
       "    <tr>\n",
       "      <th>6</th>\n",
       "      <td>2000-01</td>\n",
       "      <td>1369125</td>\n",
       "      <td>198886</td>\n",
       "      <td>918957</td>\n",
       "      <td>457978</td>\n",
       "      <td>224829</td>\n",
       "      <td>200345</td>\n",
       "    </tr>\n",
       "    <tr>\n",
       "      <th>7</th>\n",
       "      <td>2001-01</td>\n",
       "      <td>1486158</td>\n",
       "      <td>206200</td>\n",
       "      <td>1014390</td>\n",
       "      <td>501939</td>\n",
       "      <td>247686</td>\n",
       "      <td>224092</td>\n",
       "    </tr>\n",
       "    <tr>\n",
       "      <th>8</th>\n",
       "      <td>2002-01</td>\n",
       "      <td>1628624</td>\n",
       "      <td>219273</td>\n",
       "      <td>1121517</td>\n",
       "      <td>560963</td>\n",
       "      <td>265381</td>\n",
       "      <td>248050</td>\n",
       "    </tr>\n",
       "    <tr>\n",
       "      <th>9</th>\n",
       "      <td>2003-01</td>\n",
       "      <td>1767567</td>\n",
       "      <td>235635</td>\n",
       "      <td>1221745</td>\n",
       "      <td>615138</td>\n",
       "      <td>282668</td>\n",
       "      <td>268903</td>\n",
       "    </tr>\n",
       "    <tr>\n",
       "      <th>10</th>\n",
       "      <td>2004-01</td>\n",
       "      <td>1895724</td>\n",
       "      <td>248494</td>\n",
       "      <td>1320086</td>\n",
       "      <td>658268</td>\n",
       "      <td>311122</td>\n",
       "      <td>290679</td>\n",
       "    </tr>\n",
       "    <tr>\n",
       "      <th>11</th>\n",
       "      <td>2005-01</td>\n",
       "      <td>2023744</td>\n",
       "      <td>263815</td>\n",
       "      <td>1414078</td>\n",
       "      <td>701176</td>\n",
       "      <td>339762</td>\n",
       "      <td>309275</td>\n",
       "    </tr>\n",
       "    <tr>\n",
       "      <th>12</th>\n",
       "      <td>2006-01</td>\n",
       "      <td>2156158</td>\n",
       "      <td>273254</td>\n",
       "      <td>1517387</td>\n",
       "      <td>737122</td>\n",
       "      <td>403690</td>\n",
       "      <td>306584</td>\n",
       "    </tr>\n",
       "    <tr>\n",
       "      <th>13</th>\n",
       "      <td>2007-01</td>\n",
       "      <td>2295307</td>\n",
       "      <td>290000</td>\n",
       "      <td>1609250</td>\n",
       "      <td>776176</td>\n",
       "      <td>432751</td>\n",
       "      <td>325746</td>\n",
       "    </tr>\n",
       "    <tr>\n",
       "      <th>14</th>\n",
       "      <td>2008-01</td>\n",
       "      <td>2399121</td>\n",
       "      <td>295184</td>\n",
       "      <td>1695968</td>\n",
       "      <td>802857</td>\n",
       "      <td>466971</td>\n",
       "      <td>344214</td>\n",
       "    </tr>\n",
       "    <tr>\n",
       "      <th>15</th>\n",
       "      <td>2009-01</td>\n",
       "      <td>2495414</td>\n",
       "      <td>293723</td>\n",
       "      <td>1796424</td>\n",
       "      <td>832906</td>\n",
       "      <td>498859</td>\n",
       "      <td>374421</td>\n",
       "    </tr>\n",
       "    <tr>\n",
       "      <th>16</th>\n",
       "      <td>2010-01</td>\n",
       "      <td>2598823</td>\n",
       "      <td>299742</td>\n",
       "      <td>1876922</td>\n",
       "      <td>864344</td>\n",
       "      <td>519787</td>\n",
       "      <td>397226</td>\n",
       "    </tr>\n",
       "    <tr>\n",
       "      <th>17</th>\n",
       "      <td>2011-01</td>\n",
       "      <td>2689349</td>\n",
       "      <td>309973</td>\n",
       "      <td>1950187</td>\n",
       "      <td>898631</td>\n",
       "      <td>544679</td>\n",
       "      <td>406744</td>\n",
       "    </tr>\n",
       "    <tr>\n",
       "      <th>18</th>\n",
       "      <td>2012-01</td>\n",
       "      <td>2797260</td>\n",
       "      <td>318330</td>\n",
       "      <td>2022904</td>\n",
       "      <td>928211</td>\n",
       "      <td>569634</td>\n",
       "      <td>422688</td>\n",
       "    </tr>\n",
       "    <tr>\n",
       "      <th>19</th>\n",
       "      <td>2013-01</td>\n",
       "      <td>2879008</td>\n",
       "      <td>325189</td>\n",
       "      <td>2087804</td>\n",
       "      <td>946398</td>\n",
       "      <td>590163</td>\n",
       "      <td>445361</td>\n",
       "    </tr>\n",
       "    <tr>\n",
       "      <th>20</th>\n",
       "      <td>2014-01</td>\n",
       "      <td>3026157</td>\n",
       "      <td>330068</td>\n",
       "      <td>2228136</td>\n",
       "      <td>999940</td>\n",
       "      <td>618889</td>\n",
       "      <td>496645</td>\n",
       "    </tr>\n",
       "    <tr>\n",
       "      <th>21</th>\n",
       "      <td>2015-01</td>\n",
       "      <td>3200815</td>\n",
       "      <td>339315</td>\n",
       "      <td>2382770</td>\n",
       "      <td>1068778</td>\n",
       "      <td>648808</td>\n",
       "      <td>544073</td>\n",
       "    </tr>\n",
       "    <tr>\n",
       "      <th>22</th>\n",
       "      <td>2016-01</td>\n",
       "      <td>3337248</td>\n",
       "      <td>352537</td>\n",
       "      <td>2486842</td>\n",
       "      <td>1123372</td>\n",
       "      <td>672093</td>\n",
       "      <td>565550</td>\n",
       "    </tr>\n",
       "  </tbody>\n",
       "</table>\n",
       "</div>"
      ],
      "text/plain": [
       "       Date  Total Expenditure       Out of pocket       Health Insurance  \\\n",
       "1   1995-01            1021635              144816                 681480   \n",
       "2   1996-01            1074409              150354                 722124   \n",
       "3   1997-01            1135224              161370                 758320   \n",
       "4   1998-01            1201451              176812                 792102   \n",
       "5   1999-01            1277700              187575                 845592   \n",
       "6   2000-01            1369125              198886                 918957   \n",
       "7   2001-01            1486158              206200                1014390   \n",
       "8   2002-01            1628624              219273                1121517   \n",
       "9   2003-01            1767567              235635                1221745   \n",
       "10  2004-01            1895724              248494                1320086   \n",
       "11  2005-01            2023744              263815                1414078   \n",
       "12  2006-01            2156158              273254                1517387   \n",
       "13  2007-01            2295307              290000                1609250   \n",
       "14  2008-01            2399121              295184                1695968   \n",
       "15  2009-01            2495414              293723                1796424   \n",
       "16  2010-01            2598823              299742                1876922   \n",
       "17  2011-01            2689349              309973                1950187   \n",
       "18  2012-01            2797260              318330                2022904   \n",
       "19  2013-01            2879008              325189                2087804   \n",
       "20  2014-01            3026157              330068                2228136   \n",
       "21  2015-01            3200815              339315                2382770   \n",
       "22  2016-01            3337248              352537                2486842   \n",
       "\n",
       "              Private Health Insurance            Medicare  \\\n",
       "1                               325339              184393   \n",
       "2                               343686              198750   \n",
       "3                               359553              210376   \n",
       "4                               384738              209420   \n",
       "5                               417078              213173   \n",
       "6                               457978              224829   \n",
       "7                               501939              247686   \n",
       "8                               560963              265381   \n",
       "9                               615138              282668   \n",
       "10                              658268              311122   \n",
       "11                              701176              339762   \n",
       "12                              737122              403690   \n",
       "13                              776176              432751   \n",
       "14                              802857              466971   \n",
       "15                              832906              498859   \n",
       "16                              864344              519787   \n",
       "17                              898631              544679   \n",
       "18                              928211              569634   \n",
       "19                              946398              590163   \n",
       "20                              999940              618889   \n",
       "21                             1068778              648808   \n",
       "22                             1123372              672093   \n",
       "\n",
       "              Medicaid (Title XIX)  \n",
       "1                           144862  \n",
       "2                           152170  \n",
       "3                           160849  \n",
       "4                           169011  \n",
       "5                           183455  \n",
       "6                           200345  \n",
       "7                           224092  \n",
       "8                           248050  \n",
       "9                           268903  \n",
       "10                          290679  \n",
       "11                          309275  \n",
       "12                          306584  \n",
       "13                          325746  \n",
       "14                          344214  \n",
       "15                          374421  \n",
       "16                          397226  \n",
       "17                          406744  \n",
       "18                          422688  \n",
       "19                          445361  \n",
       "20                          496645  \n",
       "21                          544073  \n",
       "22                          565550  "
      ]
     },
     "execution_count": 20,
     "metadata": {},
     "output_type": "execute_result"
    }
   ],
   "source": [
    "df.head(30)"
   ]
  },
  {
   "cell_type": "code",
   "execution_count": 21,
   "metadata": {},
   "outputs": [
    {
     "data": {
      "text/plain": [
       "array(['1995-01', '1996-01', '1997-01', '1998-01', '1999-01'], dtype=object)"
      ]
     },
     "execution_count": 21,
     "metadata": {},
     "output_type": "execute_result"
    }
   ],
   "source": [
    "df.Date.head().values"
   ]
  },
  {
   "cell_type": "code",
   "execution_count": 22,
   "metadata": {},
   "outputs": [
    {
     "data": {
      "text/plain": [
       "1    1995-01-01\n",
       "2    1996-01-01\n",
       "3    1997-01-01\n",
       "4    1998-01-01\n",
       "5    1999-01-01\n",
       "6    2000-01-01\n",
       "7    2001-01-01\n",
       "8    2002-01-01\n",
       "9    2003-01-01\n",
       "10   2004-01-01\n",
       "11   2005-01-01\n",
       "12   2006-01-01\n",
       "13   2007-01-01\n",
       "14   2008-01-01\n",
       "15   2009-01-01\n",
       "16   2010-01-01\n",
       "17   2011-01-01\n",
       "18   2012-01-01\n",
       "19   2013-01-01\n",
       "20   2014-01-01\n",
       "21   2015-01-01\n",
       "22   2016-01-01\n",
       "Name: Date, dtype: datetime64[ns]"
      ]
     },
     "execution_count": 22,
     "metadata": {},
     "output_type": "execute_result"
    }
   ],
   "source": [
    "pd.to_datetime(df.Date)"
   ]
  },
  {
   "cell_type": "code",
   "execution_count": 23,
   "metadata": {},
   "outputs": [
    {
     "data": {
      "text/plain": [
       "(22, 7)"
      ]
     },
     "execution_count": 23,
     "metadata": {},
     "output_type": "execute_result"
    }
   ],
   "source": [
    "df.shape"
   ]
  },
  {
   "cell_type": "code",
   "execution_count": 24,
   "metadata": {},
   "outputs": [
    {
     "data": {
      "text/plain": [
       "array(['Date', 'Total Expenditure', '     Out of pocket',\n",
       "       '     Health Insurance', '          Private Health Insurance',\n",
       "       '          Medicare', '          Medicaid (Title XIX)'], dtype=object)"
      ]
     },
     "execution_count": 24,
     "metadata": {},
     "output_type": "execute_result"
    }
   ],
   "source": [
    "df.columns.values"
   ]
  },
  {
   "cell_type": "code",
   "execution_count": 25,
   "metadata": {
    "collapsed": true
   },
   "outputs": [],
   "source": [
    "df['Date'] = pd.to_datetime(df['Date'])\n",
    "df.set_index('Date', inplace=True)\n",
    "\n",
    "df['Year'] = df.index.year\n",
    "df['Month'] = df.index.month"
   ]
  },
  {
   "cell_type": "code",
   "execution_count": 26,
   "metadata": {},
   "outputs": [
    {
     "data": {
      "text/html": [
       "<div>\n",
       "<style>\n",
       "    .dataframe thead tr:only-child th {\n",
       "        text-align: right;\n",
       "    }\n",
       "\n",
       "    .dataframe thead th {\n",
       "        text-align: left;\n",
       "    }\n",
       "\n",
       "    .dataframe tbody tr th {\n",
       "        vertical-align: top;\n",
       "    }\n",
       "</style>\n",
       "<table border=\"1\" class=\"dataframe\">\n",
       "  <thead>\n",
       "    <tr style=\"text-align: right;\">\n",
       "      <th></th>\n",
       "      <th>Total Expenditure</th>\n",
       "      <th>Out of pocket</th>\n",
       "      <th>Health Insurance</th>\n",
       "      <th>Private Health Insurance</th>\n",
       "      <th>Medicare</th>\n",
       "      <th>Medicaid (Title XIX)</th>\n",
       "      <th>Year</th>\n",
       "      <th>Month</th>\n",
       "    </tr>\n",
       "    <tr>\n",
       "      <th>Date</th>\n",
       "      <th></th>\n",
       "      <th></th>\n",
       "      <th></th>\n",
       "      <th></th>\n",
       "      <th></th>\n",
       "      <th></th>\n",
       "      <th></th>\n",
       "      <th></th>\n",
       "    </tr>\n",
       "  </thead>\n",
       "  <tbody>\n",
       "    <tr>\n",
       "      <th>1995-01-01</th>\n",
       "      <td>1021635</td>\n",
       "      <td>144816</td>\n",
       "      <td>681480</td>\n",
       "      <td>325339</td>\n",
       "      <td>184393</td>\n",
       "      <td>144862</td>\n",
       "      <td>1995</td>\n",
       "      <td>1</td>\n",
       "    </tr>\n",
       "    <tr>\n",
       "      <th>1996-01-01</th>\n",
       "      <td>1074409</td>\n",
       "      <td>150354</td>\n",
       "      <td>722124</td>\n",
       "      <td>343686</td>\n",
       "      <td>198750</td>\n",
       "      <td>152170</td>\n",
       "      <td>1996</td>\n",
       "      <td>1</td>\n",
       "    </tr>\n",
       "    <tr>\n",
       "      <th>1997-01-01</th>\n",
       "      <td>1135224</td>\n",
       "      <td>161370</td>\n",
       "      <td>758320</td>\n",
       "      <td>359553</td>\n",
       "      <td>210376</td>\n",
       "      <td>160849</td>\n",
       "      <td>1997</td>\n",
       "      <td>1</td>\n",
       "    </tr>\n",
       "    <tr>\n",
       "      <th>1998-01-01</th>\n",
       "      <td>1201451</td>\n",
       "      <td>176812</td>\n",
       "      <td>792102</td>\n",
       "      <td>384738</td>\n",
       "      <td>209420</td>\n",
       "      <td>169011</td>\n",
       "      <td>1998</td>\n",
       "      <td>1</td>\n",
       "    </tr>\n",
       "    <tr>\n",
       "      <th>1999-01-01</th>\n",
       "      <td>1277700</td>\n",
       "      <td>187575</td>\n",
       "      <td>845592</td>\n",
       "      <td>417078</td>\n",
       "      <td>213173</td>\n",
       "      <td>183455</td>\n",
       "      <td>1999</td>\n",
       "      <td>1</td>\n",
       "    </tr>\n",
       "  </tbody>\n",
       "</table>\n",
       "</div>"
      ],
      "text/plain": [
       "            Total Expenditure       Out of pocket       Health Insurance  \\\n",
       "Date                                                                       \n",
       "1995-01-01            1021635              144816                 681480   \n",
       "1996-01-01            1074409              150354                 722124   \n",
       "1997-01-01            1135224              161370                 758320   \n",
       "1998-01-01            1201451              176812                 792102   \n",
       "1999-01-01            1277700              187575                 845592   \n",
       "\n",
       "                      Private Health Insurance            Medicare  \\\n",
       "Date                                                                 \n",
       "1995-01-01                              325339              184393   \n",
       "1996-01-01                              343686              198750   \n",
       "1997-01-01                              359553              210376   \n",
       "1998-01-01                              384738              209420   \n",
       "1999-01-01                              417078              213173   \n",
       "\n",
       "                      Medicaid (Title XIX)  Year  Month  \n",
       "Date                                                     \n",
       "1995-01-01                          144862  1995      1  \n",
       "1996-01-01                          152170  1996      1  \n",
       "1997-01-01                          160849  1997      1  \n",
       "1998-01-01                          169011  1998      1  \n",
       "1999-01-01                          183455  1999      1  "
      ]
     },
     "execution_count": 26,
     "metadata": {},
     "output_type": "execute_result"
    }
   ],
   "source": [
    "df.head()"
   ]
  },
  {
   "cell_type": "code",
   "execution_count": 27,
   "metadata": {},
   "outputs": [
    {
     "data": {
      "text/plain": [
       "array(['Total Expenditure', '     Out of pocket', '     Health Insurance',\n",
       "       '          Private Health Insurance', '          Medicare',\n",
       "       '          Medicaid (Title XIX)', 'Year', 'Month'], dtype=object)"
      ]
     },
     "execution_count": 27,
     "metadata": {},
     "output_type": "execute_result"
    }
   ],
   "source": [
    "df.columns.values"
   ]
  },
  {
   "cell_type": "code",
   "execution_count": 28,
   "metadata": {},
   "outputs": [
    {
     "data": {
      "text/plain": [
       "DatetimeIndex(['1995-01-01', '1996-01-01', '1997-01-01', '1998-01-01',\n",
       "               '1999-01-01', '2000-01-01', '2001-01-01', '2002-01-01',\n",
       "               '2003-01-01', '2004-01-01', '2005-01-01', '2006-01-01',\n",
       "               '2007-01-01', '2008-01-01', '2009-01-01', '2010-01-01',\n",
       "               '2011-01-01', '2012-01-01', '2013-01-01', '2014-01-01',\n",
       "               '2015-01-01', '2016-01-01'],\n",
       "              dtype='datetime64[ns]', name='Date', freq=None)"
      ]
     },
     "execution_count": 28,
     "metadata": {},
     "output_type": "execute_result"
    }
   ],
   "source": [
    "df.index"
   ]
  },
  {
   "cell_type": "code",
   "execution_count": 29,
   "metadata": {
    "collapsed": true
   },
   "outputs": [],
   "source": [
    "df.columns = [x.strip() for x in df.columns.values]"
   ]
  },
  {
   "cell_type": "code",
   "execution_count": 30,
   "metadata": {},
   "outputs": [
    {
     "data": {
      "text/plain": [
       "Index(['Total Expenditure', 'Out of pocket', 'Health Insurance',\n",
       "       'Private Health Insurance', 'Medicare', 'Medicaid (Title XIX)', 'Year',\n",
       "       'Month'],\n",
       "      dtype='object')"
      ]
     },
     "execution_count": 30,
     "metadata": {},
     "output_type": "execute_result"
    }
   ],
   "source": [
    "df.columns"
   ]
  },
  {
   "cell_type": "markdown",
   "metadata": {},
   "source": [
    "## VISUALIZING OVERALL U.S. HEALTH EXPENDITURE USING SELECT VARIABLES"
   ]
  },
  {
   "cell_type": "code",
   "execution_count": 31,
   "metadata": {},
   "outputs": [
    {
     "data": {
      "image/png": "[encoded data removed]",
      "text/plain": [
       "<matplotlib.figure.Figure at 0x11cfe7240>"
      ]
     },
     "metadata": {},
     "output_type": "display_data"
    }
   ],
   "source": [
    "plt.plot(df[\"Year\"], df[\"Total Expenditure\"], label=\"Total Expenditure\")\n",
    "plt.plot(df[\"Year\"], df[\"Out of pocket\"], label=\"Out of pocket\")\n",
    "plt.plot(df[\"Year\"], df[\"Health Insurance\"], label=\"Health Insurance\")\n",
    "plt.plot(df[\"Year\"], df[\"Private Health Insurance\"], label=\"Private Ins\")\n",
    "plt.plot(df[\"Year\"], df[\"Medicare\"], label=\"Medicare\")\n",
    "plt.plot(df[\"Year\"], df[\"Medicaid (Title XIX)\"], label=\"Medicaid\")\n",
    "plt.xlabel(\"Year\")\n",
    "plt.ylabel(\"Expenditure Variables\")\n",
    "plt.title(\"US Health Care Expenditure\")\n",
    "plt.legend()\n",
    "plt.show()"
   ]
  },
  {
   "cell_type": "markdown",
   "metadata": {},
   "source": [
    "## VISUALIZING IMPACT OF MEDICARE ON HEALTHCARE EXPENDITURE"
   ]
  },
  {
   "cell_type": "code",
   "execution_count": 32,
   "metadata": {},
   "outputs": [
    {
     "data": {
      "image/png": "[encoded data removed]",
      "text/plain": [
       "<matplotlib.figure.Figure at 0x11cfe7e10>"
      ]
     },
     "metadata": {},
     "output_type": "display_data"
    }
   ],
   "source": [
    "plt.plot(df[\"Year\"], df[\"Total Expenditure\"], label=\"Total Expenditure\")\n",
    "plt.plot(df[\"Year\"], df[\"Medicare\"], label=\"Medicare\")\n",
    "plt.xlabel(\"Year\")\n",
    "plt.ylabel(\"Expenditure Variables\")\n",
    "plt.title(\"Medicare and Expenditure Relationship\")\n",
    "plt.legend()\n",
    "plt.show()"
   ]
  },
  {
   "cell_type": "markdown",
   "metadata": {},
   "source": [
    "## VISUALIZING IMPACT OF MEDICAID ON HEALTHCARE EXPENDITURE"
   ]
  },
  {
   "cell_type": "code",
   "execution_count": 33,
   "metadata": {},
   "outputs": [
    {
     "data": {
      "image/png": "[encoded data removed]",
      "text/plain": [
       "<matplotlib.figure.Figure at 0x119b6d240>"
      ]
     },
     "metadata": {},
     "output_type": "display_data"
    }
   ],
   "source": [
    "plt.plot(df[\"Year\"], df[\"Total Expenditure\"], label=\"Total Expenditure\")\n",
    "plt.plot(df[\"Year\"], df[\"Medicaid (Title XIX)\"], label=\"Medicaid\")\n",
    "plt.xlabel(\"Year\")\n",
    "plt.ylabel(\"Expenditure Variables\")\n",
    "plt.title(\"Medicaid and Expenditure Relationship\")\n",
    "plt.legend()\n",
    "plt.show()"
   ]
  },
  {
   "cell_type": "code",
   "execution_count": 40,
   "metadata": {},
   "outputs": [
    {
     "data": {
      "text/html": [
       "<div>\n",
       "<style>\n",
       "    .dataframe thead tr:only-child th {\n",
       "        text-align: right;\n",
       "    }\n",
       "\n",
       "    .dataframe thead th {\n",
       "        text-align: left;\n",
       "    }\n",
       "\n",
       "    .dataframe tbody tr th {\n",
       "        vertical-align: top;\n",
       "    }\n",
       "</style>\n",
       "<table border=\"1\" class=\"dataframe\">\n",
       "  <thead>\n",
       "    <tr style=\"text-align: right;\">\n",
       "      <th></th>\n",
       "      <th>Total Expenditure</th>\n",
       "    </tr>\n",
       "    <tr>\n",
       "      <th>Date</th>\n",
       "      <th></th>\n",
       "    </tr>\n",
       "  </thead>\n",
       "  <tbody>\n",
       "    <tr>\n",
       "      <th>1995-12-31</th>\n",
       "      <td>1021635</td>\n",
       "    </tr>\n",
       "    <tr>\n",
       "      <th>1996-12-31</th>\n",
       "      <td>1074409</td>\n",
       "    </tr>\n",
       "    <tr>\n",
       "      <th>1997-12-31</th>\n",
       "      <td>1135224</td>\n",
       "    </tr>\n",
       "    <tr>\n",
       "      <th>1998-12-31</th>\n",
       "      <td>1201451</td>\n",
       "    </tr>\n",
       "    <tr>\n",
       "      <th>1999-12-31</th>\n",
       "      <td>1277700</td>\n",
       "    </tr>\n",
       "    <tr>\n",
       "      <th>2000-12-31</th>\n",
       "      <td>1369125</td>\n",
       "    </tr>\n",
       "    <tr>\n",
       "      <th>2001-12-31</th>\n",
       "      <td>1486158</td>\n",
       "    </tr>\n",
       "    <tr>\n",
       "      <th>2002-12-31</th>\n",
       "      <td>1628624</td>\n",
       "    </tr>\n",
       "    <tr>\n",
       "      <th>2003-12-31</th>\n",
       "      <td>1767567</td>\n",
       "    </tr>\n",
       "    <tr>\n",
       "      <th>2004-12-31</th>\n",
       "      <td>1895724</td>\n",
       "    </tr>\n",
       "    <tr>\n",
       "      <th>2005-12-31</th>\n",
       "      <td>2023744</td>\n",
       "    </tr>\n",
       "    <tr>\n",
       "      <th>2006-12-31</th>\n",
       "      <td>2156158</td>\n",
       "    </tr>\n",
       "    <tr>\n",
       "      <th>2007-12-31</th>\n",
       "      <td>2295307</td>\n",
       "    </tr>\n",
       "    <tr>\n",
       "      <th>2008-12-31</th>\n",
       "      <td>2399121</td>\n",
       "    </tr>\n",
       "    <tr>\n",
       "      <th>2009-12-31</th>\n",
       "      <td>2495414</td>\n",
       "    </tr>\n",
       "    <tr>\n",
       "      <th>2010-12-31</th>\n",
       "      <td>2598823</td>\n",
       "    </tr>\n",
       "    <tr>\n",
       "      <th>2011-12-31</th>\n",
       "      <td>2689349</td>\n",
       "    </tr>\n",
       "    <tr>\n",
       "      <th>2012-12-31</th>\n",
       "      <td>2797260</td>\n",
       "    </tr>\n",
       "    <tr>\n",
       "      <th>2013-12-31</th>\n",
       "      <td>2879008</td>\n",
       "    </tr>\n",
       "    <tr>\n",
       "      <th>2014-12-31</th>\n",
       "      <td>3026157</td>\n",
       "    </tr>\n",
       "    <tr>\n",
       "      <th>2015-12-31</th>\n",
       "      <td>3200815</td>\n",
       "    </tr>\n",
       "    <tr>\n",
       "      <th>2016-12-31</th>\n",
       "      <td>3337248</td>\n",
       "    </tr>\n",
       "  </tbody>\n",
       "</table>\n",
       "</div>"
      ],
      "text/plain": [
       "            Total Expenditure\n",
       "Date                         \n",
       "1995-12-31            1021635\n",
       "1996-12-31            1074409\n",
       "1997-12-31            1135224\n",
       "1998-12-31            1201451\n",
       "1999-12-31            1277700\n",
       "2000-12-31            1369125\n",
       "2001-12-31            1486158\n",
       "2002-12-31            1628624\n",
       "2003-12-31            1767567\n",
       "2004-12-31            1895724\n",
       "2005-12-31            2023744\n",
       "2006-12-31            2156158\n",
       "2007-12-31            2295307\n",
       "2008-12-31            2399121\n",
       "2009-12-31            2495414\n",
       "2010-12-31            2598823\n",
       "2011-12-31            2689349\n",
       "2012-12-31            2797260\n",
       "2013-12-31            2879008\n",
       "2014-12-31            3026157\n",
       "2015-12-31            3200815\n",
       "2016-12-31            3337248"
      ]
     },
     "execution_count": 40,
     "metadata": {},
     "output_type": "execute_result"
    }
   ],
   "source": [
    "df[['Total Expenditure']].resample('A').mean().sort_values(by='Total Expenditure')"
   ]
  },
  {
   "cell_type": "code",
   "execution_count": 41,
   "metadata": {},
   "outputs": [
    {
     "data": {
      "text/plain": [
       "<matplotlib.axes._subplots.AxesSubplot at 0x119cb8a20>"
      ]
     },
     "execution_count": 41,
     "metadata": {},
     "output_type": "execute_result"
    },
    {
     "data": {
      "image/png": "[encoded data removed]",
      "text/plain": [
       "<matplotlib.figure.Figure at 0x11ced2dd8>"
      ]
     },
     "metadata": {},
     "output_type": "display_data"
    }
   ],
   "source": [
    "df.Medicare.plot(kind='box')"
   ]
  },
  {
   "cell_type": "markdown",
   "metadata": {},
   "source": [
    "## CORRELATION BETWEEN EXPENDITURE AND MEDICARE IN THE HEALTHCARE SYSTEM"
   ]
  },
  {
   "cell_type": "code",
   "execution_count": 46,
   "metadata": {},
   "outputs": [
    {
     "data": {
      "text/plain": [
       "0.99925761014641656"
      ]
     },
     "execution_count": 46,
     "metadata": {},
     "output_type": "execute_result"
    }
   ],
   "source": [
    "df['Total Expenditure'].resample('A').mean().autocorr(lag=1)"
   ]
  },
  {
   "cell_type": "code",
   "execution_count": 47,
   "metadata": {},
   "outputs": [
    {
     "data": {
      "text/plain": [
       "0.99732918047196129"
      ]
     },
     "execution_count": 47,
     "metadata": {},
     "output_type": "execute_result"
    }
   ],
   "source": [
    "df['Medicare'].resample('A').mean().autocorr(lag=1)"
   ]
  },
  {
   "cell_type": "code",
   "execution_count": null,
   "metadata": {
    "collapsed": true
   },
   "outputs": [],
   "source": []
  }
 ],
 "metadata": {
  "kernelspec": {
   "display_name": "Python 3",
   "language": "python",
   "name": "python3"
  },
  "language_info": {
   "codemirror_mode": {
    "name": "ipython",
    "version": 3
   },
   "file_extension": ".py",
   "mimetype": "text/x-python",
   "name": "python",
   "nbconvert_exporter": "python",
   "pygments_lexer": "ipython3",
   "version": "3.6.2"
  }
 },
 "nbformat": 4,
 "nbformat_minor": 2
}
