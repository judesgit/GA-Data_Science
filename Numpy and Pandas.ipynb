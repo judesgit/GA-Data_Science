{
 "cells": [
  {
   "cell_type": "code",
   "execution_count": 1,
   "metadata": {
    "collapsed": true
   },
   "outputs": [],
   "source": [
    "import numpy as np"
   ]
  },
  {
   "cell_type": "code",
   "execution_count": 2,
   "metadata": {
    "collapsed": true
   },
   "outputs": [],
   "source": [
    "# Creating arrays\n",
    "a = np.zeros((3))\n",
    "b = np.ones((2,3))\n",
    "c = np.random.randint(1,10,(2,3,4))\n",
    "d = np.arange(0,11,1)"
   ]
  },
  {
   "cell_type": "code",
   "execution_count": 3,
   "metadata": {},
   "outputs": [
    {
     "data": {
      "text/plain": [
       "(array([ 0.,  0.,  0.]), array([[ 1.,  1.,  1.],\n",
       "        [ 1.,  1.,  1.]]), array([[[5, 2, 6, 6],\n",
       "         [8, 7, 8, 5],\n",
       "         [8, 6, 9, 3]],\n",
       " \n",
       "        [[2, 5, 3, 6],\n",
       "         [8, 9, 4, 2],\n",
       "         [6, 4, 2, 1]]]), array([ 0,  1,  2,  3,  4,  5,  6,  7,  8,  9, 10]))"
      ]
     },
     "execution_count": 3,
     "metadata": {},
     "output_type": "execute_result"
    }
   ],
   "source": [
    "# Note the way each array is printed:\n",
    "a,b,c,d"
   ]
  },
  {
   "cell_type": "code",
   "execution_count": 4,
   "metadata": {
    "collapsed": true
   },
   "outputs": [],
   "source": [
    "## Arithmetic in arrays is element wise"
   ]
  },
  {
   "cell_type": "code",
   "execution_count": 5,
   "metadata": {},
   "outputs": [
    {
     "data": {
      "text/plain": [
       "array([0, 1, 2, 3])"
      ]
     },
     "execution_count": 5,
     "metadata": {},
     "output_type": "execute_result"
    }
   ],
   "source": [
    "a = np.array( [20,30,40,50] )\n",
    "b = np.arange( 4 )\n",
    "b"
   ]
  },
  {
   "cell_type": "code",
   "execution_count": 6,
   "metadata": {},
   "outputs": [
    {
     "data": {
      "text/plain": [
       "array([20, 29, 38, 47])"
      ]
     },
     "execution_count": 6,
     "metadata": {},
     "output_type": "execute_result"
    }
   ],
   "source": [
    "c = a-b\n",
    "c"
   ]
  },
  {
   "cell_type": "code",
   "execution_count": 7,
   "metadata": {},
   "outputs": [
    {
     "data": {
      "text/plain": [
       "array([0, 1, 4, 9])"
      ]
     },
     "execution_count": 7,
     "metadata": {},
     "output_type": "execute_result"
    }
   ],
   "source": [
    "b**2"
   ]
  },
  {
   "cell_type": "code",
   "execution_count": 8,
   "metadata": {
    "collapsed": true
   },
   "outputs": [],
   "source": [
    "# one-dimensional arrays work like lists:\n",
    "a = np.arange(10)**2"
   ]
  },
  {
   "cell_type": "code",
   "execution_count": 9,
   "metadata": {},
   "outputs": [
    {
     "data": {
      "text/plain": [
       "array([ 0,  1,  4,  9, 16, 25, 36, 49, 64, 81])"
      ]
     },
     "execution_count": 9,
     "metadata": {},
     "output_type": "execute_result"
    }
   ],
   "source": [
    "a"
   ]
  },
  {
   "cell_type": "code",
   "execution_count": 10,
   "metadata": {},
   "outputs": [
    {
     "data": {
      "text/plain": [
       "array([ 4,  9, 16])"
      ]
     },
     "execution_count": 10,
     "metadata": {},
     "output_type": "execute_result"
    }
   ],
   "source": [
    "a[2:5]"
   ]
  },
  {
   "cell_type": "code",
   "execution_count": 11,
   "metadata": {
    "collapsed": true
   },
   "outputs": [],
   "source": [
    "# Multidimensional arrays use tuples with commas for indexing\n",
    "# with (row,column) conventions beginning, as always in Python, from 0"
   ]
  },
  {
   "cell_type": "code",
   "execution_count": 12,
   "metadata": {
    "collapsed": true
   },
   "outputs": [],
   "source": [
    "b = np.random.randint(1,100,(4,4))"
   ]
  },
  {
   "cell_type": "code",
   "execution_count": 13,
   "metadata": {},
   "outputs": [
    {
     "data": {
      "text/plain": [
       "array([[76, 18, 63, 19],\n",
       "       [66, 76, 36, 36],\n",
       "       [77, 54, 80, 45],\n",
       "       [72, 36,  7, 67]])"
      ]
     },
     "execution_count": 13,
     "metadata": {},
     "output_type": "execute_result"
    }
   ],
   "source": [
    "b"
   ]
  },
  {
   "cell_type": "code",
   "execution_count": 17,
   "metadata": {},
   "outputs": [
    {
     "name": "stdout",
     "output_type": "stream",
     "text": [
      "45\n",
      "76\n"
     ]
    }
   ],
   "source": [
    "# Guess the output\n",
    "print(b[2,3])\n",
    "print(b[0,0])"
   ]
  },
  {
   "cell_type": "code",
   "execution_count": 18,
   "metadata": {},
   "outputs": [
    {
     "data": {
      "text/plain": [
       "(array([18, 76, 54]), array([18, 76, 54, 36]))"
      ]
     },
     "execution_count": 18,
     "metadata": {},
     "output_type": "execute_result"
    }
   ],
   "source": [
    "b[0:3,1],b[:,1]"
   ]
  },
  {
   "cell_type": "code",
   "execution_count": 19,
   "metadata": {},
   "outputs": [
    {
     "data": {
      "text/plain": [
       "array([[66, 76, 36, 36],\n",
       "       [77, 54, 80, 45]])"
      ]
     },
     "execution_count": 19,
     "metadata": {},
     "output_type": "execute_result"
    }
   ],
   "source": [
    "b[1:3,:]"
   ]
  },
  {
   "cell_type": "code",
   "execution_count": 20,
   "metadata": {
    "collapsed": true
   },
   "outputs": [],
   "source": [
    "import pandas as pd\n",
    "import numpy as np\n",
    "import matplotlib.pyplot as plt"
   ]
  },
  {
   "cell_type": "code",
   "execution_count": 21,
   "metadata": {},
   "outputs": [
    {
     "data": {
      "text/plain": [
       "DatetimeIndex(['2014-01-01', '2014-01-02', '2014-01-03', '2014-01-04',\n",
       "               '2014-01-05', '2014-01-06'],\n",
       "              dtype='datetime64[ns]', freq='D')"
      ]
     },
     "execution_count": 21,
     "metadata": {},
     "output_type": "execute_result"
    }
   ],
   "source": [
    "dates = pd.date_range('20140101',periods=6)\n",
    "dates"
   ]
  },
  {
   "cell_type": "code",
   "execution_count": 22,
   "metadata": {},
   "outputs": [
    {
     "data": {
      "text/plain": [
       "Index(['A', 'B', 'C', 'D'], dtype='object')"
      ]
     },
     "execution_count": 22,
     "metadata": {},
     "output_type": "execute_result"
    }
   ],
   "source": [
    "df = pd.DataFrame(np.random.randn(6,4),index=dates,columns=list('ABCD'))\n",
    "z = pd.DataFrame(index = df.index, columns = df.columns)\n",
    "df.columns"
   ]
  },
  {
   "cell_type": "code",
   "execution_count": 23,
   "metadata": {},
   "outputs": [
    {
     "data": {
      "text/html": [
       "<div>\n",
       "<style>\n",
       "    .dataframe thead tr:only-child th {\n",
       "        text-align: right;\n",
       "    }\n",
       "\n",
       "    .dataframe thead th {\n",
       "        text-align: left;\n",
       "    }\n",
       "\n",
       "    .dataframe tbody tr th {\n",
       "        vertical-align: top;\n",
       "    }\n",
       "</style>\n",
       "<table border=\"1\" class=\"dataframe\">\n",
       "  <thead>\n",
       "    <tr style=\"text-align: right;\">\n",
       "      <th></th>\n",
       "      <th>A</th>\n",
       "      <th>B</th>\n",
       "      <th>C</th>\n",
       "      <th>D</th>\n",
       "    </tr>\n",
       "  </thead>\n",
       "  <tbody>\n",
       "    <tr>\n",
       "      <th>2014-01-01</th>\n",
       "      <td>0.446105</td>\n",
       "      <td>-0.082390</td>\n",
       "      <td>1.383175</td>\n",
       "      <td>1.235848</td>\n",
       "    </tr>\n",
       "    <tr>\n",
       "      <th>2014-01-02</th>\n",
       "      <td>1.380626</td>\n",
       "      <td>0.983796</td>\n",
       "      <td>0.841653</td>\n",
       "      <td>-0.691361</td>\n",
       "    </tr>\n",
       "    <tr>\n",
       "      <th>2014-01-03</th>\n",
       "      <td>-2.036512</td>\n",
       "      <td>-0.612769</td>\n",
       "      <td>0.244205</td>\n",
       "      <td>0.121230</td>\n",
       "    </tr>\n",
       "    <tr>\n",
       "      <th>2014-01-04</th>\n",
       "      <td>-1.918239</td>\n",
       "      <td>-0.786577</td>\n",
       "      <td>2.109568</td>\n",
       "      <td>0.529927</td>\n",
       "    </tr>\n",
       "    <tr>\n",
       "      <th>2014-01-05</th>\n",
       "      <td>0.762545</td>\n",
       "      <td>-0.879686</td>\n",
       "      <td>0.616104</td>\n",
       "      <td>-0.523969</td>\n",
       "    </tr>\n",
       "    <tr>\n",
       "      <th>2014-01-06</th>\n",
       "      <td>0.622504</td>\n",
       "      <td>0.260750</td>\n",
       "      <td>0.382190</td>\n",
       "      <td>0.488227</td>\n",
       "    </tr>\n",
       "  </tbody>\n",
       "</table>\n",
       "</div>"
      ],
      "text/plain": [
       "                   A         B         C         D\n",
       "2014-01-01  0.446105 -0.082390  1.383175  1.235848\n",
       "2014-01-02  1.380626  0.983796  0.841653 -0.691361\n",
       "2014-01-03 -2.036512 -0.612769  0.244205  0.121230\n",
       "2014-01-04 -1.918239 -0.786577  2.109568  0.529927\n",
       "2014-01-05  0.762545 -0.879686  0.616104 -0.523969\n",
       "2014-01-06  0.622504  0.260750  0.382190  0.488227"
      ]
     },
     "execution_count": 23,
     "metadata": {},
     "output_type": "execute_result"
    }
   ],
   "source": [
    "# Index, columns, underlying numpy data\n",
    "df.T\n",
    "df"
   ]
  },
  {
   "cell_type": "code",
   "execution_count": 24,
   "metadata": {},
   "outputs": [
    {
     "data": {
      "text/html": [
       "<div>\n",
       "<style>\n",
       "    .dataframe thead tr:only-child th {\n",
       "        text-align: right;\n",
       "    }\n",
       "\n",
       "    .dataframe thead th {\n",
       "        text-align: left;\n",
       "    }\n",
       "\n",
       "    .dataframe tbody tr th {\n",
       "        vertical-align: top;\n",
       "    }\n",
       "</style>\n",
       "<table border=\"1\" class=\"dataframe\">\n",
       "  <thead>\n",
       "    <tr style=\"text-align: right;\">\n",
       "      <th></th>\n",
       "      <th>A</th>\n",
       "      <th>B</th>\n",
       "      <th>C</th>\n",
       "      <th>D</th>\n",
       "      <th>E</th>\n",
       "    </tr>\n",
       "  </thead>\n",
       "  <tbody>\n",
       "    <tr>\n",
       "      <th>0</th>\n",
       "      <td>1.0</td>\n",
       "      <td>2013-01-02</td>\n",
       "      <td>1.0</td>\n",
       "      <td>3</td>\n",
       "      <td>foo</td>\n",
       "    </tr>\n",
       "    <tr>\n",
       "      <th>1</th>\n",
       "      <td>1.0</td>\n",
       "      <td>2013-01-02</td>\n",
       "      <td>1.0</td>\n",
       "      <td>3</td>\n",
       "      <td>foo</td>\n",
       "    </tr>\n",
       "    <tr>\n",
       "      <th>2</th>\n",
       "      <td>1.0</td>\n",
       "      <td>2013-01-02</td>\n",
       "      <td>1.0</td>\n",
       "      <td>3</td>\n",
       "      <td>foo</td>\n",
       "    </tr>\n",
       "    <tr>\n",
       "      <th>3</th>\n",
       "      <td>1.0</td>\n",
       "      <td>2013-01-02</td>\n",
       "      <td>1.0</td>\n",
       "      <td>3</td>\n",
       "      <td>foo</td>\n",
       "    </tr>\n",
       "  </tbody>\n",
       "</table>\n",
       "</div>"
      ],
      "text/plain": [
       "     A          B    C  D    E\n",
       "0  1.0 2013-01-02  1.0  3  foo\n",
       "1  1.0 2013-01-02  1.0  3  foo\n",
       "2  1.0 2013-01-02  1.0  3  foo\n",
       "3  1.0 2013-01-02  1.0  3  foo"
      ]
     },
     "execution_count": 24,
     "metadata": {},
     "output_type": "execute_result"
    }
   ],
   "source": [
    "df2 = pd.DataFrame({ 'A' : 1.,\n",
    "                         'B' : pd.Timestamp('20130102'),\n",
    "                         'C' : pd.Series(1,index=list(range(4)),dtype='float32'),\n",
    "                         'D' : np.array([3] * 4,dtype='int32'),\n",
    "                         'E' : 'foo' })\n",
    "    \n",
    "\n",
    "df2"
   ]
  },
  {
   "cell_type": "code",
   "execution_count": 25,
   "metadata": {},
   "outputs": [
    {
     "data": {
      "text/plain": [
       "A           float64\n",
       "B    datetime64[ns]\n",
       "C           float32\n",
       "D             int32\n",
       "E            object\n",
       "dtype: object"
      ]
     },
     "execution_count": 25,
     "metadata": {},
     "output_type": "execute_result"
    }
   ],
   "source": [
    "# With specific dtypes\n",
    "df2.dtypes"
   ]
  },
  {
   "cell_type": "code",
   "execution_count": 26,
   "metadata": {},
   "outputs": [
    {
     "data": {
      "text/html": [
       "<div>\n",
       "<style>\n",
       "    .dataframe thead tr:only-child th {\n",
       "        text-align: right;\n",
       "    }\n",
       "\n",
       "    .dataframe thead th {\n",
       "        text-align: left;\n",
       "    }\n",
       "\n",
       "    .dataframe tbody tr th {\n",
       "        vertical-align: top;\n",
       "    }\n",
       "</style>\n",
       "<table border=\"1\" class=\"dataframe\">\n",
       "  <thead>\n",
       "    <tr style=\"text-align: right;\">\n",
       "      <th></th>\n",
       "      <th>A</th>\n",
       "      <th>B</th>\n",
       "      <th>C</th>\n",
       "      <th>D</th>\n",
       "    </tr>\n",
       "  </thead>\n",
       "  <tbody>\n",
       "    <tr>\n",
       "      <th>2014-01-01</th>\n",
       "      <td>0.446105</td>\n",
       "      <td>-0.082390</td>\n",
       "      <td>1.383175</td>\n",
       "      <td>1.235848</td>\n",
       "    </tr>\n",
       "    <tr>\n",
       "      <th>2014-01-02</th>\n",
       "      <td>1.380626</td>\n",
       "      <td>0.983796</td>\n",
       "      <td>0.841653</td>\n",
       "      <td>-0.691361</td>\n",
       "    </tr>\n",
       "    <tr>\n",
       "      <th>2014-01-03</th>\n",
       "      <td>-2.036512</td>\n",
       "      <td>-0.612769</td>\n",
       "      <td>0.244205</td>\n",
       "      <td>0.121230</td>\n",
       "    </tr>\n",
       "    <tr>\n",
       "      <th>2014-01-04</th>\n",
       "      <td>-1.918239</td>\n",
       "      <td>-0.786577</td>\n",
       "      <td>2.109568</td>\n",
       "      <td>0.529927</td>\n",
       "    </tr>\n",
       "    <tr>\n",
       "      <th>2014-01-05</th>\n",
       "      <td>0.762545</td>\n",
       "      <td>-0.879686</td>\n",
       "      <td>0.616104</td>\n",
       "      <td>-0.523969</td>\n",
       "    </tr>\n",
       "  </tbody>\n",
       "</table>\n",
       "</div>"
      ],
      "text/plain": [
       "                   A         B         C         D\n",
       "2014-01-01  0.446105 -0.082390  1.383175  1.235848\n",
       "2014-01-02  1.380626  0.983796  0.841653 -0.691361\n",
       "2014-01-03 -2.036512 -0.612769  0.244205  0.121230\n",
       "2014-01-04 -1.918239 -0.786577  2.109568  0.529927\n",
       "2014-01-05  0.762545 -0.879686  0.616104 -0.523969"
      ]
     },
     "execution_count": 26,
     "metadata": {},
     "output_type": "execute_result"
    }
   ],
   "source": [
    "df.head()"
   ]
  },
  {
   "cell_type": "code",
   "execution_count": 27,
   "metadata": {},
   "outputs": [
    {
     "data": {
      "text/html": [
       "<div>\n",
       "<style>\n",
       "    .dataframe thead tr:only-child th {\n",
       "        text-align: right;\n",
       "    }\n",
       "\n",
       "    .dataframe thead th {\n",
       "        text-align: left;\n",
       "    }\n",
       "\n",
       "    .dataframe tbody tr th {\n",
       "        vertical-align: top;\n",
       "    }\n",
       "</style>\n",
       "<table border=\"1\" class=\"dataframe\">\n",
       "  <thead>\n",
       "    <tr style=\"text-align: right;\">\n",
       "      <th></th>\n",
       "      <th>A</th>\n",
       "      <th>B</th>\n",
       "      <th>C</th>\n",
       "      <th>D</th>\n",
       "    </tr>\n",
       "  </thead>\n",
       "  <tbody>\n",
       "    <tr>\n",
       "      <th>2014-01-02</th>\n",
       "      <td>1.380626</td>\n",
       "      <td>0.983796</td>\n",
       "      <td>0.841653</td>\n",
       "      <td>-0.691361</td>\n",
       "    </tr>\n",
       "    <tr>\n",
       "      <th>2014-01-03</th>\n",
       "      <td>-2.036512</td>\n",
       "      <td>-0.612769</td>\n",
       "      <td>0.244205</td>\n",
       "      <td>0.121230</td>\n",
       "    </tr>\n",
       "    <tr>\n",
       "      <th>2014-01-04</th>\n",
       "      <td>-1.918239</td>\n",
       "      <td>-0.786577</td>\n",
       "      <td>2.109568</td>\n",
       "      <td>0.529927</td>\n",
       "    </tr>\n",
       "    <tr>\n",
       "      <th>2014-01-05</th>\n",
       "      <td>0.762545</td>\n",
       "      <td>-0.879686</td>\n",
       "      <td>0.616104</td>\n",
       "      <td>-0.523969</td>\n",
       "    </tr>\n",
       "    <tr>\n",
       "      <th>2014-01-06</th>\n",
       "      <td>0.622504</td>\n",
       "      <td>0.260750</td>\n",
       "      <td>0.382190</td>\n",
       "      <td>0.488227</td>\n",
       "    </tr>\n",
       "  </tbody>\n",
       "</table>\n",
       "</div>"
      ],
      "text/plain": [
       "                   A         B         C         D\n",
       "2014-01-02  1.380626  0.983796  0.841653 -0.691361\n",
       "2014-01-03 -2.036512 -0.612769  0.244205  0.121230\n",
       "2014-01-04 -1.918239 -0.786577  2.109568  0.529927\n",
       "2014-01-05  0.762545 -0.879686  0.616104 -0.523969\n",
       "2014-01-06  0.622504  0.260750  0.382190  0.488227"
      ]
     },
     "execution_count": 27,
     "metadata": {},
     "output_type": "execute_result"
    }
   ],
   "source": [
    "df.tail()"
   ]
  },
  {
   "cell_type": "code",
   "execution_count": 28,
   "metadata": {},
   "outputs": [
    {
     "data": {
      "text/plain": [
       "DatetimeIndex(['2014-01-01', '2014-01-02', '2014-01-03', '2014-01-04',\n",
       "               '2014-01-05', '2014-01-06'],\n",
       "              dtype='datetime64[ns]', freq='D')"
      ]
     },
     "execution_count": 28,
     "metadata": {},
     "output_type": "execute_result"
    }
   ],
   "source": [
    "df.index"
   ]
  },
  {
   "cell_type": "code",
   "execution_count": 29,
   "metadata": {},
   "outputs": [
    {
     "data": {
      "text/html": [
       "<div>\n",
       "<style>\n",
       "    .dataframe thead tr:only-child th {\n",
       "        text-align: right;\n",
       "    }\n",
       "\n",
       "    .dataframe thead th {\n",
       "        text-align: left;\n",
       "    }\n",
       "\n",
       "    .dataframe tbody tr th {\n",
       "        vertical-align: top;\n",
       "    }\n",
       "</style>\n",
       "<table border=\"1\" class=\"dataframe\">\n",
       "  <thead>\n",
       "    <tr style=\"text-align: right;\">\n",
       "      <th></th>\n",
       "      <th>A</th>\n",
       "      <th>B</th>\n",
       "      <th>C</th>\n",
       "      <th>D</th>\n",
       "    </tr>\n",
       "  </thead>\n",
       "  <tbody>\n",
       "    <tr>\n",
       "      <th>count</th>\n",
       "      <td>6.000000</td>\n",
       "      <td>6.000000</td>\n",
       "      <td>6.000000</td>\n",
       "      <td>6.000000</td>\n",
       "    </tr>\n",
       "    <tr>\n",
       "      <th>mean</th>\n",
       "      <td>-0.123829</td>\n",
       "      <td>-0.186146</td>\n",
       "      <td>0.929482</td>\n",
       "      <td>0.193317</td>\n",
       "    </tr>\n",
       "    <tr>\n",
       "      <th>std</th>\n",
       "      <td>1.470316</td>\n",
       "      <td>0.721494</td>\n",
       "      <td>0.703348</td>\n",
       "      <td>0.719652</td>\n",
       "    </tr>\n",
       "    <tr>\n",
       "      <th>min</th>\n",
       "      <td>-2.036512</td>\n",
       "      <td>-0.879686</td>\n",
       "      <td>0.244205</td>\n",
       "      <td>-0.691361</td>\n",
       "    </tr>\n",
       "    <tr>\n",
       "      <th>25%</th>\n",
       "      <td>-1.327153</td>\n",
       "      <td>-0.743125</td>\n",
       "      <td>0.440668</td>\n",
       "      <td>-0.362669</td>\n",
       "    </tr>\n",
       "    <tr>\n",
       "      <th>50%</th>\n",
       "      <td>0.534305</td>\n",
       "      <td>-0.347580</td>\n",
       "      <td>0.728878</td>\n",
       "      <td>0.304728</td>\n",
       "    </tr>\n",
       "    <tr>\n",
       "      <th>75%</th>\n",
       "      <td>0.727535</td>\n",
       "      <td>0.174965</td>\n",
       "      <td>1.247794</td>\n",
       "      <td>0.519502</td>\n",
       "    </tr>\n",
       "    <tr>\n",
       "      <th>max</th>\n",
       "      <td>1.380626</td>\n",
       "      <td>0.983796</td>\n",
       "      <td>2.109568</td>\n",
       "      <td>1.235848</td>\n",
       "    </tr>\n",
       "  </tbody>\n",
       "</table>\n",
       "</div>"
      ],
      "text/plain": [
       "              A         B         C         D\n",
       "count  6.000000  6.000000  6.000000  6.000000\n",
       "mean  -0.123829 -0.186146  0.929482  0.193317\n",
       "std    1.470316  0.721494  0.703348  0.719652\n",
       "min   -2.036512 -0.879686  0.244205 -0.691361\n",
       "25%   -1.327153 -0.743125  0.440668 -0.362669\n",
       "50%    0.534305 -0.347580  0.728878  0.304728\n",
       "75%    0.727535  0.174965  1.247794  0.519502\n",
       "max    1.380626  0.983796  2.109568  1.235848"
      ]
     },
     "execution_count": 29,
     "metadata": {},
     "output_type": "execute_result"
    }
   ],
   "source": [
    "df.describe()"
   ]
  },
  {
   "cell_type": "code",
   "execution_count": 30,
   "metadata": {},
   "outputs": [
    {
     "data": {
      "text/html": [
       "<div>\n",
       "<style>\n",
       "    .dataframe thead tr:only-child th {\n",
       "        text-align: right;\n",
       "    }\n",
       "\n",
       "    .dataframe thead th {\n",
       "        text-align: left;\n",
       "    }\n",
       "\n",
       "    .dataframe tbody tr th {\n",
       "        vertical-align: top;\n",
       "    }\n",
       "</style>\n",
       "<table border=\"1\" class=\"dataframe\">\n",
       "  <thead>\n",
       "    <tr style=\"text-align: right;\">\n",
       "      <th></th>\n",
       "      <th>A</th>\n",
       "      <th>B</th>\n",
       "      <th>C</th>\n",
       "      <th>D</th>\n",
       "    </tr>\n",
       "  </thead>\n",
       "  <tbody>\n",
       "    <tr>\n",
       "      <th>2014-01-01</th>\n",
       "      <td>0.446105</td>\n",
       "      <td>-0.082390</td>\n",
       "      <td>1.383175</td>\n",
       "      <td>1.235848</td>\n",
       "    </tr>\n",
       "    <tr>\n",
       "      <th>2014-01-02</th>\n",
       "      <td>1.380626</td>\n",
       "      <td>0.983796</td>\n",
       "      <td>0.841653</td>\n",
       "      <td>-0.691361</td>\n",
       "    </tr>\n",
       "    <tr>\n",
       "      <th>2014-01-03</th>\n",
       "      <td>-2.036512</td>\n",
       "      <td>-0.612769</td>\n",
       "      <td>0.244205</td>\n",
       "      <td>0.121230</td>\n",
       "    </tr>\n",
       "    <tr>\n",
       "      <th>2014-01-04</th>\n",
       "      <td>-1.918239</td>\n",
       "      <td>-0.786577</td>\n",
       "      <td>2.109568</td>\n",
       "      <td>0.529927</td>\n",
       "    </tr>\n",
       "    <tr>\n",
       "      <th>2014-01-05</th>\n",
       "      <td>0.762545</td>\n",
       "      <td>-0.879686</td>\n",
       "      <td>0.616104</td>\n",
       "      <td>-0.523969</td>\n",
       "    </tr>\n",
       "    <tr>\n",
       "      <th>2014-01-06</th>\n",
       "      <td>0.622504</td>\n",
       "      <td>0.260750</td>\n",
       "      <td>0.382190</td>\n",
       "      <td>0.488227</td>\n",
       "    </tr>\n",
       "  </tbody>\n",
       "</table>\n",
       "</div>"
      ],
      "text/plain": [
       "                   A         B         C         D\n",
       "2014-01-01  0.446105 -0.082390  1.383175  1.235848\n",
       "2014-01-02  1.380626  0.983796  0.841653 -0.691361\n",
       "2014-01-03 -2.036512 -0.612769  0.244205  0.121230\n",
       "2014-01-04 -1.918239 -0.786577  2.109568  0.529927\n",
       "2014-01-05  0.762545 -0.879686  0.616104 -0.523969\n",
       "2014-01-06  0.622504  0.260750  0.382190  0.488227"
      ]
     },
     "execution_count": 30,
     "metadata": {},
     "output_type": "execute_result"
    }
   ],
   "source": [
    "df.sort_values(by='B')\n",
    "df"
   ]
  },
  {
   "cell_type": "code",
   "execution_count": 31,
   "metadata": {},
   "outputs": [
    {
     "data": {
      "text/html": [
       "<div>\n",
       "<style>\n",
       "    .dataframe thead tr:only-child th {\n",
       "        text-align: right;\n",
       "    }\n",
       "\n",
       "    .dataframe thead th {\n",
       "        text-align: left;\n",
       "    }\n",
       "\n",
       "    .dataframe tbody tr th {\n",
       "        vertical-align: top;\n",
       "    }\n",
       "</style>\n",
       "<table border=\"1\" class=\"dataframe\">\n",
       "  <thead>\n",
       "    <tr style=\"text-align: right;\">\n",
       "      <th></th>\n",
       "      <th>A</th>\n",
       "      <th>B</th>\n",
       "    </tr>\n",
       "  </thead>\n",
       "  <tbody>\n",
       "    <tr>\n",
       "      <th>2014-01-01</th>\n",
       "      <td>0.446105</td>\n",
       "      <td>-0.082390</td>\n",
       "    </tr>\n",
       "    <tr>\n",
       "      <th>2014-01-02</th>\n",
       "      <td>1.380626</td>\n",
       "      <td>0.983796</td>\n",
       "    </tr>\n",
       "    <tr>\n",
       "      <th>2014-01-03</th>\n",
       "      <td>-2.036512</td>\n",
       "      <td>-0.612769</td>\n",
       "    </tr>\n",
       "    <tr>\n",
       "      <th>2014-01-04</th>\n",
       "      <td>-1.918239</td>\n",
       "      <td>-0.786577</td>\n",
       "    </tr>\n",
       "    <tr>\n",
       "      <th>2014-01-05</th>\n",
       "      <td>0.762545</td>\n",
       "      <td>-0.879686</td>\n",
       "    </tr>\n",
       "    <tr>\n",
       "      <th>2014-01-06</th>\n",
       "      <td>0.622504</td>\n",
       "      <td>0.260750</td>\n",
       "    </tr>\n",
       "  </tbody>\n",
       "</table>\n",
       "</div>"
      ],
      "text/plain": [
       "                   A         B\n",
       "2014-01-01  0.446105 -0.082390\n",
       "2014-01-02  1.380626  0.983796\n",
       "2014-01-03 -2.036512 -0.612769\n",
       "2014-01-04 -1.918239 -0.786577\n",
       "2014-01-05  0.762545 -0.879686\n",
       "2014-01-06  0.622504  0.260750"
      ]
     },
     "execution_count": 31,
     "metadata": {},
     "output_type": "execute_result"
    }
   ],
   "source": [
    "df[['A','B']]"
   ]
  },
  {
   "cell_type": "code",
   "execution_count": 32,
   "metadata": {},
   "outputs": [
    {
     "data": {
      "text/html": [
       "<div>\n",
       "<style>\n",
       "    .dataframe thead tr:only-child th {\n",
       "        text-align: right;\n",
       "    }\n",
       "\n",
       "    .dataframe thead th {\n",
       "        text-align: left;\n",
       "    }\n",
       "\n",
       "    .dataframe tbody tr th {\n",
       "        vertical-align: top;\n",
       "    }\n",
       "</style>\n",
       "<table border=\"1\" class=\"dataframe\">\n",
       "  <thead>\n",
       "    <tr style=\"text-align: right;\">\n",
       "      <th></th>\n",
       "      <th>A</th>\n",
       "      <th>B</th>\n",
       "      <th>C</th>\n",
       "      <th>D</th>\n",
       "    </tr>\n",
       "  </thead>\n",
       "  <tbody>\n",
       "    <tr>\n",
       "      <th>2014-01-01</th>\n",
       "      <td>0.446105</td>\n",
       "      <td>-0.082390</td>\n",
       "      <td>1.383175</td>\n",
       "      <td>1.235848</td>\n",
       "    </tr>\n",
       "    <tr>\n",
       "      <th>2014-01-02</th>\n",
       "      <td>1.380626</td>\n",
       "      <td>0.983796</td>\n",
       "      <td>0.841653</td>\n",
       "      <td>-0.691361</td>\n",
       "    </tr>\n",
       "    <tr>\n",
       "      <th>2014-01-03</th>\n",
       "      <td>-2.036512</td>\n",
       "      <td>-0.612769</td>\n",
       "      <td>0.244205</td>\n",
       "      <td>0.121230</td>\n",
       "    </tr>\n",
       "  </tbody>\n",
       "</table>\n",
       "</div>"
      ],
      "text/plain": [
       "                   A         B         C         D\n",
       "2014-01-01  0.446105 -0.082390  1.383175  1.235848\n",
       "2014-01-02  1.380626  0.983796  0.841653 -0.691361\n",
       "2014-01-03 -2.036512 -0.612769  0.244205  0.121230"
      ]
     },
     "execution_count": 32,
     "metadata": {},
     "output_type": "execute_result"
    }
   ],
   "source": [
    "df[0:3]"
   ]
  },
  {
   "cell_type": "code",
   "execution_count": 33,
   "metadata": {},
   "outputs": [
    {
     "data": {
      "text/plain": [
       "A    0.446105\n",
       "B   -0.082390\n",
       "C    1.383175\n",
       "D    1.235848\n",
       "Name: 2014-01-01 00:00:00, dtype: float64"
      ]
     },
     "execution_count": 33,
     "metadata": {},
     "output_type": "execute_result"
    }
   ],
   "source": [
    "# By label\n",
    "df.loc[dates[0]]"
   ]
  },
  {
   "cell_type": "code",
   "execution_count": 34,
   "metadata": {},
   "outputs": [
    {
     "data": {
      "text/html": [
       "<div>\n",
       "<style>\n",
       "    .dataframe thead tr:only-child th {\n",
       "        text-align: right;\n",
       "    }\n",
       "\n",
       "    .dataframe thead th {\n",
       "        text-align: left;\n",
       "    }\n",
       "\n",
       "    .dataframe tbody tr th {\n",
       "        vertical-align: top;\n",
       "    }\n",
       "</style>\n",
       "<table border=\"1\" class=\"dataframe\">\n",
       "  <thead>\n",
       "    <tr style=\"text-align: right;\">\n",
       "      <th></th>\n",
       "      <th>A</th>\n",
       "      <th>B</th>\n",
       "    </tr>\n",
       "  </thead>\n",
       "  <tbody>\n",
       "    <tr>\n",
       "      <th>2014-01-01</th>\n",
       "      <td>0.446105</td>\n",
       "      <td>-0.082390</td>\n",
       "    </tr>\n",
       "    <tr>\n",
       "      <th>2014-01-02</th>\n",
       "      <td>1.380626</td>\n",
       "      <td>0.983796</td>\n",
       "    </tr>\n",
       "    <tr>\n",
       "      <th>2014-01-03</th>\n",
       "      <td>-2.036512</td>\n",
       "      <td>-0.612769</td>\n",
       "    </tr>\n",
       "    <tr>\n",
       "      <th>2014-01-04</th>\n",
       "      <td>-1.918239</td>\n",
       "      <td>-0.786577</td>\n",
       "    </tr>\n",
       "    <tr>\n",
       "      <th>2014-01-05</th>\n",
       "      <td>0.762545</td>\n",
       "      <td>-0.879686</td>\n",
       "    </tr>\n",
       "    <tr>\n",
       "      <th>2014-01-06</th>\n",
       "      <td>0.622504</td>\n",
       "      <td>0.260750</td>\n",
       "    </tr>\n",
       "  </tbody>\n",
       "</table>\n",
       "</div>"
      ],
      "text/plain": [
       "                   A         B\n",
       "2014-01-01  0.446105 -0.082390\n",
       "2014-01-02  1.380626  0.983796\n",
       "2014-01-03 -2.036512 -0.612769\n",
       "2014-01-04 -1.918239 -0.786577\n",
       "2014-01-05  0.762545 -0.879686\n",
       "2014-01-06  0.622504  0.260750"
      ]
     },
     "execution_count": 34,
     "metadata": {},
     "output_type": "execute_result"
    }
   ],
   "source": [
    "# multi-axis by label\n",
    "df.loc[:,['A','B']]"
   ]
  },
  {
   "cell_type": "code",
   "execution_count": 35,
   "metadata": {},
   "outputs": [
    {
     "data": {
      "text/html": [
       "<div>\n",
       "<style>\n",
       "    .dataframe thead tr:only-child th {\n",
       "        text-align: right;\n",
       "    }\n",
       "\n",
       "    .dataframe thead th {\n",
       "        text-align: left;\n",
       "    }\n",
       "\n",
       "    .dataframe tbody tr th {\n",
       "        vertical-align: top;\n",
       "    }\n",
       "</style>\n",
       "<table border=\"1\" class=\"dataframe\">\n",
       "  <thead>\n",
       "    <tr style=\"text-align: right;\">\n",
       "      <th></th>\n",
       "      <th>B</th>\n",
       "    </tr>\n",
       "  </thead>\n",
       "  <tbody>\n",
       "    <tr>\n",
       "      <th>2014-01-02</th>\n",
       "      <td>0.983796</td>\n",
       "    </tr>\n",
       "    <tr>\n",
       "      <th>2014-01-03</th>\n",
       "      <td>-0.612769</td>\n",
       "    </tr>\n",
       "    <tr>\n",
       "      <th>2014-01-04</th>\n",
       "      <td>-0.786577</td>\n",
       "    </tr>\n",
       "  </tbody>\n",
       "</table>\n",
       "</div>"
      ],
      "text/plain": [
       "                   B\n",
       "2014-01-02  0.983796\n",
       "2014-01-03 -0.612769\n",
       "2014-01-04 -0.786577"
      ]
     },
     "execution_count": 35,
     "metadata": {},
     "output_type": "execute_result"
    }
   ],
   "source": [
    "# Date Range\n",
    "df.loc['20140102':'20140104',['B']]"
   ]
  },
  {
   "cell_type": "code",
   "execution_count": 36,
   "metadata": {},
   "outputs": [
    {
     "data": {
      "text/plain": [
       "0.98379622599856087"
      ]
     },
     "execution_count": 36,
     "metadata": {},
     "output_type": "execute_result"
    }
   ],
   "source": [
    "# Fast access to scalar\n",
    "df.at[dates[1],'B']"
   ]
  },
  {
   "cell_type": "code",
   "execution_count": 37,
   "metadata": {},
   "outputs": [
    {
     "data": {
      "text/html": [
       "<div>\n",
       "<style>\n",
       "    .dataframe thead tr:only-child th {\n",
       "        text-align: right;\n",
       "    }\n",
       "\n",
       "    .dataframe thead th {\n",
       "        text-align: left;\n",
       "    }\n",
       "\n",
       "    .dataframe tbody tr th {\n",
       "        vertical-align: top;\n",
       "    }\n",
       "</style>\n",
       "<table border=\"1\" class=\"dataframe\">\n",
       "  <thead>\n",
       "    <tr style=\"text-align: right;\">\n",
       "      <th></th>\n",
       "      <th>A</th>\n",
       "      <th>B</th>\n",
       "      <th>C</th>\n",
       "      <th>D</th>\n",
       "    </tr>\n",
       "  </thead>\n",
       "  <tbody>\n",
       "    <tr>\n",
       "      <th>2014-01-04</th>\n",
       "      <td>-1.918239</td>\n",
       "      <td>-0.786577</td>\n",
       "      <td>2.109568</td>\n",
       "      <td>0.529927</td>\n",
       "    </tr>\n",
       "    <tr>\n",
       "      <th>2014-01-05</th>\n",
       "      <td>0.762545</td>\n",
       "      <td>-0.879686</td>\n",
       "      <td>0.616104</td>\n",
       "      <td>-0.523969</td>\n",
       "    </tr>\n",
       "    <tr>\n",
       "      <th>2014-01-06</th>\n",
       "      <td>0.622504</td>\n",
       "      <td>0.260750</td>\n",
       "      <td>0.382190</td>\n",
       "      <td>0.488227</td>\n",
       "    </tr>\n",
       "  </tbody>\n",
       "</table>\n",
       "</div>"
      ],
      "text/plain": [
       "                   A         B         C         D\n",
       "2014-01-04 -1.918239 -0.786577  2.109568  0.529927\n",
       "2014-01-05  0.762545 -0.879686  0.616104 -0.523969\n",
       "2014-01-06  0.622504  0.260750  0.382190  0.488227"
      ]
     },
     "execution_count": 37,
     "metadata": {},
     "output_type": "execute_result"
    }
   ],
   "source": [
    "# iloc provides integer locations similar to np style\n",
    "df.iloc[3:]"
   ]
  },
  {
   "cell_type": "code",
   "execution_count": 38,
   "metadata": {},
   "outputs": [
    {
     "data": {
      "text/html": [
       "<div>\n",
       "<style>\n",
       "    .dataframe thead tr:only-child th {\n",
       "        text-align: right;\n",
       "    }\n",
       "\n",
       "    .dataframe thead th {\n",
       "        text-align: left;\n",
       "    }\n",
       "\n",
       "    .dataframe tbody tr th {\n",
       "        vertical-align: top;\n",
       "    }\n",
       "</style>\n",
       "<table border=\"1\" class=\"dataframe\">\n",
       "  <thead>\n",
       "    <tr style=\"text-align: right;\">\n",
       "      <th></th>\n",
       "      <th>A</th>\n",
       "      <th>B</th>\n",
       "      <th>C</th>\n",
       "      <th>D</th>\n",
       "    </tr>\n",
       "  </thead>\n",
       "  <tbody>\n",
       "    <tr>\n",
       "      <th>2014-01-03</th>\n",
       "      <td>-2.036512</td>\n",
       "      <td>-0.612769</td>\n",
       "      <td>0.244205</td>\n",
       "      <td>0.121230</td>\n",
       "    </tr>\n",
       "    <tr>\n",
       "      <th>2014-01-04</th>\n",
       "      <td>-1.918239</td>\n",
       "      <td>-0.786577</td>\n",
       "      <td>2.109568</td>\n",
       "      <td>0.529927</td>\n",
       "    </tr>\n",
       "  </tbody>\n",
       "</table>\n",
       "</div>"
      ],
      "text/plain": [
       "                   A         B         C         D\n",
       "2014-01-03 -2.036512 -0.612769  0.244205  0.121230\n",
       "2014-01-04 -1.918239 -0.786577  2.109568  0.529927"
      ]
     },
     "execution_count": 38,
     "metadata": {},
     "output_type": "execute_result"
    }
   ],
   "source": [
    "df[df.A < 0] # Basically a 'where' operation"
   ]
  },
  {
   "cell_type": "code",
   "execution_count": 39,
   "metadata": {
    "collapsed": true
   },
   "outputs": [],
   "source": [
    "df_posA = df.copy() # Without \"copy\" it would act on the dataset\n",
    "\n",
    "df_posA[df_posA.A < 0] = -1*df_posA"
   ]
  },
  {
   "cell_type": "code",
   "execution_count": 40,
   "metadata": {},
   "outputs": [
    {
     "data": {
      "text/html": [
       "<div>\n",
       "<style>\n",
       "    .dataframe thead tr:only-child th {\n",
       "        text-align: right;\n",
       "    }\n",
       "\n",
       "    .dataframe thead th {\n",
       "        text-align: left;\n",
       "    }\n",
       "\n",
       "    .dataframe tbody tr th {\n",
       "        vertical-align: top;\n",
       "    }\n",
       "</style>\n",
       "<table border=\"1\" class=\"dataframe\">\n",
       "  <thead>\n",
       "    <tr style=\"text-align: right;\">\n",
       "      <th></th>\n",
       "      <th>A</th>\n",
       "      <th>B</th>\n",
       "      <th>C</th>\n",
       "      <th>D</th>\n",
       "    </tr>\n",
       "  </thead>\n",
       "  <tbody>\n",
       "    <tr>\n",
       "      <th>2014-01-01</th>\n",
       "      <td>0.446105</td>\n",
       "      <td>-0.082390</td>\n",
       "      <td>1.383175</td>\n",
       "      <td>1.235848</td>\n",
       "    </tr>\n",
       "    <tr>\n",
       "      <th>2014-01-02</th>\n",
       "      <td>1.380626</td>\n",
       "      <td>0.983796</td>\n",
       "      <td>0.841653</td>\n",
       "      <td>-0.691361</td>\n",
       "    </tr>\n",
       "    <tr>\n",
       "      <th>2014-01-03</th>\n",
       "      <td>2.036512</td>\n",
       "      <td>0.612769</td>\n",
       "      <td>-0.244205</td>\n",
       "      <td>-0.121230</td>\n",
       "    </tr>\n",
       "    <tr>\n",
       "      <th>2014-01-04</th>\n",
       "      <td>1.918239</td>\n",
       "      <td>0.786577</td>\n",
       "      <td>-2.109568</td>\n",
       "      <td>-0.529927</td>\n",
       "    </tr>\n",
       "    <tr>\n",
       "      <th>2014-01-05</th>\n",
       "      <td>0.762545</td>\n",
       "      <td>-0.879686</td>\n",
       "      <td>0.616104</td>\n",
       "      <td>-0.523969</td>\n",
       "    </tr>\n",
       "    <tr>\n",
       "      <th>2014-01-06</th>\n",
       "      <td>0.622504</td>\n",
       "      <td>0.260750</td>\n",
       "      <td>0.382190</td>\n",
       "      <td>0.488227</td>\n",
       "    </tr>\n",
       "  </tbody>\n",
       "</table>\n",
       "</div>"
      ],
      "text/plain": [
       "                   A         B         C         D\n",
       "2014-01-01  0.446105 -0.082390  1.383175  1.235848\n",
       "2014-01-02  1.380626  0.983796  0.841653 -0.691361\n",
       "2014-01-03  2.036512  0.612769 -0.244205 -0.121230\n",
       "2014-01-04  1.918239  0.786577 -2.109568 -0.529927\n",
       "2014-01-05  0.762545 -0.879686  0.616104 -0.523969\n",
       "2014-01-06  0.622504  0.260750  0.382190  0.488227"
      ]
     },
     "execution_count": 40,
     "metadata": {},
     "output_type": "execute_result"
    }
   ],
   "source": [
    "df_posA"
   ]
  },
  {
   "cell_type": "code",
   "execution_count": 41,
   "metadata": {
    "collapsed": true
   },
   "outputs": [],
   "source": [
    "#Setting new column aligns data by index\n",
    "s1 = pd.Series([1,2,3,4,5,6],index=pd.date_range('20140102',periods=6))"
   ]
  },
  {
   "cell_type": "code",
   "execution_count": 42,
   "metadata": {},
   "outputs": [
    {
     "data": {
      "text/plain": [
       "2014-01-02    1\n",
       "2014-01-03    2\n",
       "2014-01-04    3\n",
       "2014-01-05    4\n",
       "2014-01-06    5\n",
       "2014-01-07    6\n",
       "Freq: D, dtype: int64"
      ]
     },
     "execution_count": 42,
     "metadata": {},
     "output_type": "execute_result"
    }
   ],
   "source": [
    "s1"
   ]
  },
  {
   "cell_type": "code",
   "execution_count": 43,
   "metadata": {
    "collapsed": true
   },
   "outputs": [],
   "source": [
    "df['F'] = s1"
   ]
  },
  {
   "cell_type": "code",
   "execution_count": 44,
   "metadata": {},
   "outputs": [
    {
     "data": {
      "text/html": [
       "<div>\n",
       "<style>\n",
       "    .dataframe thead tr:only-child th {\n",
       "        text-align: right;\n",
       "    }\n",
       "\n",
       "    .dataframe thead th {\n",
       "        text-align: left;\n",
       "    }\n",
       "\n",
       "    .dataframe tbody tr th {\n",
       "        vertical-align: top;\n",
       "    }\n",
       "</style>\n",
       "<table border=\"1\" class=\"dataframe\">\n",
       "  <thead>\n",
       "    <tr style=\"text-align: right;\">\n",
       "      <th></th>\n",
       "      <th>A</th>\n",
       "      <th>B</th>\n",
       "      <th>C</th>\n",
       "      <th>D</th>\n",
       "      <th>F</th>\n",
       "    </tr>\n",
       "  </thead>\n",
       "  <tbody>\n",
       "    <tr>\n",
       "      <th>2014-01-01</th>\n",
       "      <td>0.446105</td>\n",
       "      <td>-0.082390</td>\n",
       "      <td>1.383175</td>\n",
       "      <td>1.235848</td>\n",
       "      <td>NaN</td>\n",
       "    </tr>\n",
       "    <tr>\n",
       "      <th>2014-01-02</th>\n",
       "      <td>1.380626</td>\n",
       "      <td>0.983796</td>\n",
       "      <td>0.841653</td>\n",
       "      <td>-0.691361</td>\n",
       "      <td>1.0</td>\n",
       "    </tr>\n",
       "    <tr>\n",
       "      <th>2014-01-03</th>\n",
       "      <td>-2.036512</td>\n",
       "      <td>-0.612769</td>\n",
       "      <td>0.244205</td>\n",
       "      <td>0.121230</td>\n",
       "      <td>2.0</td>\n",
       "    </tr>\n",
       "    <tr>\n",
       "      <th>2014-01-04</th>\n",
       "      <td>-1.918239</td>\n",
       "      <td>-0.786577</td>\n",
       "      <td>2.109568</td>\n",
       "      <td>0.529927</td>\n",
       "      <td>3.0</td>\n",
       "    </tr>\n",
       "    <tr>\n",
       "      <th>2014-01-05</th>\n",
       "      <td>0.762545</td>\n",
       "      <td>-0.879686</td>\n",
       "      <td>0.616104</td>\n",
       "      <td>-0.523969</td>\n",
       "      <td>4.0</td>\n",
       "    </tr>\n",
       "    <tr>\n",
       "      <th>2014-01-06</th>\n",
       "      <td>0.622504</td>\n",
       "      <td>0.260750</td>\n",
       "      <td>0.382190</td>\n",
       "      <td>0.488227</td>\n",
       "      <td>5.0</td>\n",
       "    </tr>\n",
       "  </tbody>\n",
       "</table>\n",
       "</div>"
      ],
      "text/plain": [
       "                   A         B         C         D    F\n",
       "2014-01-01  0.446105 -0.082390  1.383175  1.235848  NaN\n",
       "2014-01-02  1.380626  0.983796  0.841653 -0.691361  1.0\n",
       "2014-01-03 -2.036512 -0.612769  0.244205  0.121230  2.0\n",
       "2014-01-04 -1.918239 -0.786577  2.109568  0.529927  3.0\n",
       "2014-01-05  0.762545 -0.879686  0.616104 -0.523969  4.0\n",
       "2014-01-06  0.622504  0.260750  0.382190  0.488227  5.0"
      ]
     },
     "execution_count": 44,
     "metadata": {},
     "output_type": "execute_result"
    }
   ],
   "source": [
    "df"
   ]
  },
  {
   "cell_type": "code",
   "execution_count": 45,
   "metadata": {
    "collapsed": true
   },
   "outputs": [],
   "source": [
    "# Add a column with missing data\n",
    "df1 = df.reindex(index=dates[0:4],columns=list(df.columns) + ['E'])"
   ]
  },
  {
   "cell_type": "code",
   "execution_count": 46,
   "metadata": {
    "collapsed": true
   },
   "outputs": [],
   "source": [
    "df1.loc[dates[0]:dates[1],'E'] = 1"
   ]
  },
  {
   "cell_type": "code",
   "execution_count": 47,
   "metadata": {},
   "outputs": [
    {
     "data": {
      "text/html": [
       "<div>\n",
       "<style>\n",
       "    .dataframe thead tr:only-child th {\n",
       "        text-align: right;\n",
       "    }\n",
       "\n",
       "    .dataframe thead th {\n",
       "        text-align: left;\n",
       "    }\n",
       "\n",
       "    .dataframe tbody tr th {\n",
       "        vertical-align: top;\n",
       "    }\n",
       "</style>\n",
       "<table border=\"1\" class=\"dataframe\">\n",
       "  <thead>\n",
       "    <tr style=\"text-align: right;\">\n",
       "      <th></th>\n",
       "      <th>A</th>\n",
       "      <th>B</th>\n",
       "      <th>C</th>\n",
       "      <th>D</th>\n",
       "      <th>F</th>\n",
       "      <th>E</th>\n",
       "    </tr>\n",
       "  </thead>\n",
       "  <tbody>\n",
       "    <tr>\n",
       "      <th>2014-01-01</th>\n",
       "      <td>0.446105</td>\n",
       "      <td>-0.082390</td>\n",
       "      <td>1.383175</td>\n",
       "      <td>1.235848</td>\n",
       "      <td>NaN</td>\n",
       "      <td>1.0</td>\n",
       "    </tr>\n",
       "    <tr>\n",
       "      <th>2014-01-02</th>\n",
       "      <td>1.380626</td>\n",
       "      <td>0.983796</td>\n",
       "      <td>0.841653</td>\n",
       "      <td>-0.691361</td>\n",
       "      <td>1.0</td>\n",
       "      <td>1.0</td>\n",
       "    </tr>\n",
       "    <tr>\n",
       "      <th>2014-01-03</th>\n",
       "      <td>-2.036512</td>\n",
       "      <td>-0.612769</td>\n",
       "      <td>0.244205</td>\n",
       "      <td>0.121230</td>\n",
       "      <td>2.0</td>\n",
       "      <td>NaN</td>\n",
       "    </tr>\n",
       "    <tr>\n",
       "      <th>2014-01-04</th>\n",
       "      <td>-1.918239</td>\n",
       "      <td>-0.786577</td>\n",
       "      <td>2.109568</td>\n",
       "      <td>0.529927</td>\n",
       "      <td>3.0</td>\n",
       "      <td>NaN</td>\n",
       "    </tr>\n",
       "  </tbody>\n",
       "</table>\n",
       "</div>"
      ],
      "text/plain": [
       "                   A         B         C         D    F    E\n",
       "2014-01-01  0.446105 -0.082390  1.383175  1.235848  NaN  1.0\n",
       "2014-01-02  1.380626  0.983796  0.841653 -0.691361  1.0  1.0\n",
       "2014-01-03 -2.036512 -0.612769  0.244205  0.121230  2.0  NaN\n",
       "2014-01-04 -1.918239 -0.786577  2.109568  0.529927  3.0  NaN"
      ]
     },
     "execution_count": 47,
     "metadata": {},
     "output_type": "execute_result"
    }
   ],
   "source": [
    "df1"
   ]
  },
  {
   "cell_type": "code",
   "execution_count": 48,
   "metadata": {},
   "outputs": [
    {
     "data": {
      "text/html": [
       "<div>\n",
       "<style>\n",
       "    .dataframe thead tr:only-child th {\n",
       "        text-align: right;\n",
       "    }\n",
       "\n",
       "    .dataframe thead th {\n",
       "        text-align: left;\n",
       "    }\n",
       "\n",
       "    .dataframe tbody tr th {\n",
       "        vertical-align: top;\n",
       "    }\n",
       "</style>\n",
       "<table border=\"1\" class=\"dataframe\">\n",
       "  <thead>\n",
       "    <tr style=\"text-align: right;\">\n",
       "      <th></th>\n",
       "      <th>A</th>\n",
       "      <th>B</th>\n",
       "      <th>C</th>\n",
       "      <th>D</th>\n",
       "      <th>F</th>\n",
       "      <th>E</th>\n",
       "    </tr>\n",
       "  </thead>\n",
       "  <tbody>\n",
       "    <tr>\n",
       "      <th>2014-01-01</th>\n",
       "      <td>False</td>\n",
       "      <td>False</td>\n",
       "      <td>False</td>\n",
       "      <td>False</td>\n",
       "      <td>True</td>\n",
       "      <td>False</td>\n",
       "    </tr>\n",
       "    <tr>\n",
       "      <th>2014-01-02</th>\n",
       "      <td>False</td>\n",
       "      <td>False</td>\n",
       "      <td>False</td>\n",
       "      <td>False</td>\n",
       "      <td>False</td>\n",
       "      <td>False</td>\n",
       "    </tr>\n",
       "    <tr>\n",
       "      <th>2014-01-03</th>\n",
       "      <td>False</td>\n",
       "      <td>False</td>\n",
       "      <td>False</td>\n",
       "      <td>False</td>\n",
       "      <td>False</td>\n",
       "      <td>True</td>\n",
       "    </tr>\n",
       "    <tr>\n",
       "      <th>2014-01-04</th>\n",
       "      <td>False</td>\n",
       "      <td>False</td>\n",
       "      <td>False</td>\n",
       "      <td>False</td>\n",
       "      <td>False</td>\n",
       "      <td>True</td>\n",
       "    </tr>\n",
       "  </tbody>\n",
       "</table>\n",
       "</div>"
      ],
      "text/plain": [
       "                A      B      C      D      F      E\n",
       "2014-01-01  False  False  False  False   True  False\n",
       "2014-01-02  False  False  False  False  False  False\n",
       "2014-01-03  False  False  False  False  False   True\n",
       "2014-01-04  False  False  False  False  False   True"
      ]
     },
     "execution_count": 48,
     "metadata": {},
     "output_type": "execute_result"
    }
   ],
   "source": [
    "# find where values are null\n",
    "pd.isnull(df1)"
   ]
  },
  {
   "cell_type": "code",
   "execution_count": 49,
   "metadata": {},
   "outputs": [
    {
     "data": {
      "text/html": [
       "<div>\n",
       "<style>\n",
       "    .dataframe thead tr:only-child th {\n",
       "        text-align: right;\n",
       "    }\n",
       "\n",
       "    .dataframe thead th {\n",
       "        text-align: left;\n",
       "    }\n",
       "\n",
       "    .dataframe tbody tr th {\n",
       "        vertical-align: top;\n",
       "    }\n",
       "</style>\n",
       "<table border=\"1\" class=\"dataframe\">\n",
       "  <thead>\n",
       "    <tr style=\"text-align: right;\">\n",
       "      <th></th>\n",
       "      <th>A</th>\n",
       "      <th>B</th>\n",
       "      <th>C</th>\n",
       "      <th>D</th>\n",
       "      <th>F</th>\n",
       "    </tr>\n",
       "  </thead>\n",
       "  <tbody>\n",
       "    <tr>\n",
       "      <th>count</th>\n",
       "      <td>6.000000</td>\n",
       "      <td>6.000000</td>\n",
       "      <td>6.000000</td>\n",
       "      <td>6.000000</td>\n",
       "      <td>5.000000</td>\n",
       "    </tr>\n",
       "    <tr>\n",
       "      <th>mean</th>\n",
       "      <td>-0.123829</td>\n",
       "      <td>-0.186146</td>\n",
       "      <td>0.929482</td>\n",
       "      <td>0.193317</td>\n",
       "      <td>3.000000</td>\n",
       "    </tr>\n",
       "    <tr>\n",
       "      <th>std</th>\n",
       "      <td>1.470316</td>\n",
       "      <td>0.721494</td>\n",
       "      <td>0.703348</td>\n",
       "      <td>0.719652</td>\n",
       "      <td>1.581139</td>\n",
       "    </tr>\n",
       "    <tr>\n",
       "      <th>min</th>\n",
       "      <td>-2.036512</td>\n",
       "      <td>-0.879686</td>\n",
       "      <td>0.244205</td>\n",
       "      <td>-0.691361</td>\n",
       "      <td>1.000000</td>\n",
       "    </tr>\n",
       "    <tr>\n",
       "      <th>25%</th>\n",
       "      <td>-1.327153</td>\n",
       "      <td>-0.743125</td>\n",
       "      <td>0.440668</td>\n",
       "      <td>-0.362669</td>\n",
       "      <td>2.000000</td>\n",
       "    </tr>\n",
       "    <tr>\n",
       "      <th>50%</th>\n",
       "      <td>0.534305</td>\n",
       "      <td>-0.347580</td>\n",
       "      <td>0.728878</td>\n",
       "      <td>0.304728</td>\n",
       "      <td>3.000000</td>\n",
       "    </tr>\n",
       "    <tr>\n",
       "      <th>75%</th>\n",
       "      <td>0.727535</td>\n",
       "      <td>0.174965</td>\n",
       "      <td>1.247794</td>\n",
       "      <td>0.519502</td>\n",
       "      <td>4.000000</td>\n",
       "    </tr>\n",
       "    <tr>\n",
       "      <th>max</th>\n",
       "      <td>1.380626</td>\n",
       "      <td>0.983796</td>\n",
       "      <td>2.109568</td>\n",
       "      <td>1.235848</td>\n",
       "      <td>5.000000</td>\n",
       "    </tr>\n",
       "  </tbody>\n",
       "</table>\n",
       "</div>"
      ],
      "text/plain": [
       "              A         B         C         D         F\n",
       "count  6.000000  6.000000  6.000000  6.000000  5.000000\n",
       "mean  -0.123829 -0.186146  0.929482  0.193317  3.000000\n",
       "std    1.470316  0.721494  0.703348  0.719652  1.581139\n",
       "min   -2.036512 -0.879686  0.244205 -0.691361  1.000000\n",
       "25%   -1.327153 -0.743125  0.440668 -0.362669  2.000000\n",
       "50%    0.534305 -0.347580  0.728878  0.304728  3.000000\n",
       "75%    0.727535  0.174965  1.247794  0.519502  4.000000\n",
       "max    1.380626  0.983796  2.109568  1.235848  5.000000"
      ]
     },
     "execution_count": 49,
     "metadata": {},
     "output_type": "execute_result"
    }
   ],
   "source": [
    "df.describe()"
   ]
  },
  {
   "cell_type": "code",
   "execution_count": 50,
   "metadata": {},
   "outputs": [
    {
     "data": {
      "text/plain": [
       "(A   -0.123829\n",
       " B   -0.186146\n",
       " C    0.929482\n",
       " D    0.193317\n",
       " F    3.000000\n",
       " dtype: float64, 2014-01-01    0.745684\n",
       " 2014-01-02    0.702943\n",
       " 2014-01-03   -0.056769\n",
       " 2014-01-04    0.586936\n",
       " 2014-01-05    0.794999\n",
       " 2014-01-06    1.350734\n",
       " Freq: D, dtype: float64)"
      ]
     },
     "execution_count": 50,
     "metadata": {},
     "output_type": "execute_result"
    }
   ],
   "source": [
    "df.mean(),df.mean(1) # Operation on two different axes"
   ]
  },
  {
   "cell_type": "code",
   "execution_count": 51,
   "metadata": {},
   "outputs": [
    {
     "data": {
      "text/html": [
       "<div>\n",
       "<style>\n",
       "    .dataframe thead tr:only-child th {\n",
       "        text-align: right;\n",
       "    }\n",
       "\n",
       "    .dataframe thead th {\n",
       "        text-align: left;\n",
       "    }\n",
       "\n",
       "    .dataframe tbody tr th {\n",
       "        vertical-align: top;\n",
       "    }\n",
       "</style>\n",
       "<table border=\"1\" class=\"dataframe\">\n",
       "  <thead>\n",
       "    <tr style=\"text-align: right;\">\n",
       "      <th></th>\n",
       "      <th>A</th>\n",
       "      <th>B</th>\n",
       "      <th>C</th>\n",
       "      <th>D</th>\n",
       "      <th>F</th>\n",
       "    </tr>\n",
       "  </thead>\n",
       "  <tbody>\n",
       "    <tr>\n",
       "      <th>2014-01-01</th>\n",
       "      <td>0.446105</td>\n",
       "      <td>-0.082390</td>\n",
       "      <td>1.383175</td>\n",
       "      <td>1.235848</td>\n",
       "      <td>NaN</td>\n",
       "    </tr>\n",
       "    <tr>\n",
       "      <th>2014-01-02</th>\n",
       "      <td>1.380626</td>\n",
       "      <td>0.983796</td>\n",
       "      <td>0.841653</td>\n",
       "      <td>-0.691361</td>\n",
       "      <td>1.0</td>\n",
       "    </tr>\n",
       "    <tr>\n",
       "      <th>2014-01-03</th>\n",
       "      <td>-2.036512</td>\n",
       "      <td>-0.612769</td>\n",
       "      <td>0.244205</td>\n",
       "      <td>0.121230</td>\n",
       "      <td>2.0</td>\n",
       "    </tr>\n",
       "    <tr>\n",
       "      <th>2014-01-04</th>\n",
       "      <td>-1.918239</td>\n",
       "      <td>-0.786577</td>\n",
       "      <td>2.109568</td>\n",
       "      <td>0.529927</td>\n",
       "      <td>3.0</td>\n",
       "    </tr>\n",
       "    <tr>\n",
       "      <th>2014-01-05</th>\n",
       "      <td>0.762545</td>\n",
       "      <td>-0.879686</td>\n",
       "      <td>0.616104</td>\n",
       "      <td>-0.523969</td>\n",
       "      <td>4.0</td>\n",
       "    </tr>\n",
       "    <tr>\n",
       "      <th>2014-01-06</th>\n",
       "      <td>0.622504</td>\n",
       "      <td>0.260750</td>\n",
       "      <td>0.382190</td>\n",
       "      <td>0.488227</td>\n",
       "      <td>5.0</td>\n",
       "    </tr>\n",
       "  </tbody>\n",
       "</table>\n",
       "</div>"
      ],
      "text/plain": [
       "                   A         B         C         D    F\n",
       "2014-01-01  0.446105 -0.082390  1.383175  1.235848  NaN\n",
       "2014-01-02  1.380626  0.983796  0.841653 -0.691361  1.0\n",
       "2014-01-03 -2.036512 -0.612769  0.244205  0.121230  2.0\n",
       "2014-01-04 -1.918239 -0.786577  2.109568  0.529927  3.0\n",
       "2014-01-05  0.762545 -0.879686  0.616104 -0.523969  4.0\n",
       "2014-01-06  0.622504  0.260750  0.382190  0.488227  5.0"
      ]
     },
     "execution_count": 51,
     "metadata": {},
     "output_type": "execute_result"
    }
   ],
   "source": [
    "df"
   ]
  },
  {
   "cell_type": "code",
   "execution_count": 52,
   "metadata": {},
   "outputs": [
    {
     "data": {
      "text/html": [
       "<div>\n",
       "<style>\n",
       "    .dataframe thead tr:only-child th {\n",
       "        text-align: right;\n",
       "    }\n",
       "\n",
       "    .dataframe thead th {\n",
       "        text-align: left;\n",
       "    }\n",
       "\n",
       "    .dataframe tbody tr th {\n",
       "        vertical-align: top;\n",
       "    }\n",
       "</style>\n",
       "<table border=\"1\" class=\"dataframe\">\n",
       "  <thead>\n",
       "    <tr style=\"text-align: right;\">\n",
       "      <th></th>\n",
       "      <th>A</th>\n",
       "      <th>B</th>\n",
       "      <th>C</th>\n",
       "      <th>D</th>\n",
       "      <th>F</th>\n",
       "    </tr>\n",
       "  </thead>\n",
       "  <tbody>\n",
       "    <tr>\n",
       "      <th>2014-01-01</th>\n",
       "      <td>0.446105</td>\n",
       "      <td>-0.082390</td>\n",
       "      <td>1.383175</td>\n",
       "      <td>1.235848</td>\n",
       "      <td>NaN</td>\n",
       "    </tr>\n",
       "    <tr>\n",
       "      <th>2014-01-02</th>\n",
       "      <td>1.826731</td>\n",
       "      <td>0.901406</td>\n",
       "      <td>2.224827</td>\n",
       "      <td>0.544487</td>\n",
       "      <td>1.0</td>\n",
       "    </tr>\n",
       "    <tr>\n",
       "      <th>2014-01-03</th>\n",
       "      <td>-0.209781</td>\n",
       "      <td>0.288637</td>\n",
       "      <td>2.469032</td>\n",
       "      <td>0.665717</td>\n",
       "      <td>3.0</td>\n",
       "    </tr>\n",
       "    <tr>\n",
       "      <th>2014-01-04</th>\n",
       "      <td>-2.128020</td>\n",
       "      <td>-0.497940</td>\n",
       "      <td>4.578600</td>\n",
       "      <td>1.195644</td>\n",
       "      <td>6.0</td>\n",
       "    </tr>\n",
       "    <tr>\n",
       "      <th>2014-01-05</th>\n",
       "      <td>-1.365475</td>\n",
       "      <td>-1.377625</td>\n",
       "      <td>5.194704</td>\n",
       "      <td>0.671675</td>\n",
       "      <td>10.0</td>\n",
       "    </tr>\n",
       "    <tr>\n",
       "      <th>2014-01-06</th>\n",
       "      <td>-0.742971</td>\n",
       "      <td>-1.116876</td>\n",
       "      <td>5.576894</td>\n",
       "      <td>1.159902</td>\n",
       "      <td>15.0</td>\n",
       "    </tr>\n",
       "  </tbody>\n",
       "</table>\n",
       "</div>"
      ],
      "text/plain": [
       "                   A         B         C         D     F\n",
       "2014-01-01  0.446105 -0.082390  1.383175  1.235848   NaN\n",
       "2014-01-02  1.826731  0.901406  2.224827  0.544487   1.0\n",
       "2014-01-03 -0.209781  0.288637  2.469032  0.665717   3.0\n",
       "2014-01-04 -2.128020 -0.497940  4.578600  1.195644   6.0\n",
       "2014-01-05 -1.365475 -1.377625  5.194704  0.671675  10.0\n",
       "2014-01-06 -0.742971 -1.116876  5.576894  1.159902  15.0"
      ]
     },
     "execution_count": 52,
     "metadata": {},
     "output_type": "execute_result"
    }
   ],
   "source": [
    "df.apply(np.cumsum)"
   ]
  },
  {
   "cell_type": "code",
   "execution_count": 53,
   "metadata": {},
   "outputs": [
    {
     "data": {
      "text/plain": [
       "A    3.417138\n",
       "B    1.863482\n",
       "C    1.865363\n",
       "D    1.927208\n",
       "F    4.000000\n",
       "dtype: float64"
      ]
     },
     "execution_count": 53,
     "metadata": {},
     "output_type": "execute_result"
    }
   ],
   "source": [
    "df.apply(lambda x: x.max() - x.min())"
   ]
  },
  {
   "cell_type": "code",
   "execution_count": 54,
   "metadata": {},
   "outputs": [
    {
     "data": {
      "text/plain": [
       "0       a\n",
       "1       b\n",
       "2       c\n",
       "3    aaba\n",
       "4    baca\n",
       "5     NaN\n",
       "6    caba\n",
       "7     dog\n",
       "8     cat\n",
       "dtype: object"
      ]
     },
     "execution_count": 54,
     "metadata": {},
     "output_type": "execute_result"
    }
   ],
   "source": [
    "# Built in string methods\n",
    "s = pd.Series(['A', 'B', 'C', 'Aaba', 'Baca', np.nan, 'CABA', 'dog', 'cat'])\n",
    "s.str.lower()"
   ]
  },
  {
   "cell_type": "code",
   "execution_count": 55,
   "metadata": {},
   "outputs": [
    {
     "data": {
      "text/plain": [
       "array([[ 0.98221565, -0.15739041,  2.63848892, -0.60068982],\n",
       "       [-2.36050936,  0.70519844, -0.15396649, -0.33097752],\n",
       "       [ 0.39012116, -1.13766887,  1.12383843,  1.41432778],\n",
       "       [ 0.7863829 , -0.35332912, -0.49967548,  0.35973249],\n",
       "       [ 2.37058846, -1.38231904,  1.85060896,  0.36815636],\n",
       "       [ 1.07688697,  1.12036595, -1.06725128, -0.227009  ],\n",
       "       [ 0.7761993 , -0.03928848,  0.73772289,  0.16347765],\n",
       "       [-0.61773495,  0.33645658, -0.90589583,  0.45853716],\n",
       "       [ 0.10398077, -0.06305325,  0.60030611,  0.55490625],\n",
       "       [-0.27085427,  0.07679703, -0.31575467,  0.53600976]])"
      ]
     },
     "execution_count": 55,
     "metadata": {},
     "output_type": "execute_result"
    }
   ],
   "source": [
    "np.random.randn(10,4)"
   ]
  },
  {
   "cell_type": "code",
   "execution_count": 56,
   "metadata": {},
   "outputs": [
    {
     "data": {
      "text/html": [
       "<div>\n",
       "<style>\n",
       "    .dataframe thead tr:only-child th {\n",
       "        text-align: right;\n",
       "    }\n",
       "\n",
       "    .dataframe thead th {\n",
       "        text-align: left;\n",
       "    }\n",
       "\n",
       "    .dataframe tbody tr th {\n",
       "        vertical-align: top;\n",
       "    }\n",
       "</style>\n",
       "<table border=\"1\" class=\"dataframe\">\n",
       "  <thead>\n",
       "    <tr style=\"text-align: right;\">\n",
       "      <th></th>\n",
       "      <th>0</th>\n",
       "      <th>1</th>\n",
       "      <th>2</th>\n",
       "      <th>3</th>\n",
       "    </tr>\n",
       "  </thead>\n",
       "  <tbody>\n",
       "    <tr>\n",
       "      <th>0</th>\n",
       "      <td>-1.407023</td>\n",
       "      <td>0.869032</td>\n",
       "      <td>0.025283</td>\n",
       "      <td>1.047272</td>\n",
       "    </tr>\n",
       "    <tr>\n",
       "      <th>1</th>\n",
       "      <td>-0.100018</td>\n",
       "      <td>1.947626</td>\n",
       "      <td>0.037050</td>\n",
       "      <td>0.167512</td>\n",
       "    </tr>\n",
       "    <tr>\n",
       "      <th>2</th>\n",
       "      <td>1.179358</td>\n",
       "      <td>0.287644</td>\n",
       "      <td>-0.951534</td>\n",
       "      <td>1.127062</td>\n",
       "    </tr>\n",
       "    <tr>\n",
       "      <th>3</th>\n",
       "      <td>-0.940557</td>\n",
       "      <td>-0.728244</td>\n",
       "      <td>1.854306</td>\n",
       "      <td>0.903925</td>\n",
       "    </tr>\n",
       "    <tr>\n",
       "      <th>4</th>\n",
       "      <td>-2.059532</td>\n",
       "      <td>0.346408</td>\n",
       "      <td>-0.257612</td>\n",
       "      <td>0.947118</td>\n",
       "    </tr>\n",
       "    <tr>\n",
       "      <th>5</th>\n",
       "      <td>-0.397356</td>\n",
       "      <td>-1.878329</td>\n",
       "      <td>0.916838</td>\n",
       "      <td>-1.049146</td>\n",
       "    </tr>\n",
       "    <tr>\n",
       "      <th>6</th>\n",
       "      <td>-2.781764</td>\n",
       "      <td>-1.922038</td>\n",
       "      <td>0.670559</td>\n",
       "      <td>-3.332991</td>\n",
       "    </tr>\n",
       "    <tr>\n",
       "      <th>7</th>\n",
       "      <td>-0.076640</td>\n",
       "      <td>0.178754</td>\n",
       "      <td>0.637696</td>\n",
       "      <td>-1.604056</td>\n",
       "    </tr>\n",
       "    <tr>\n",
       "      <th>8</th>\n",
       "      <td>0.647178</td>\n",
       "      <td>1.336048</td>\n",
       "      <td>-0.154603</td>\n",
       "      <td>0.597191</td>\n",
       "    </tr>\n",
       "    <tr>\n",
       "      <th>9</th>\n",
       "      <td>0.643499</td>\n",
       "      <td>2.328243</td>\n",
       "      <td>0.086039</td>\n",
       "      <td>-0.432726</td>\n",
       "    </tr>\n",
       "  </tbody>\n",
       "</table>\n",
       "</div>"
      ],
      "text/plain": [
       "          0         1         2         3\n",
       "0 -1.407023  0.869032  0.025283  1.047272\n",
       "1 -0.100018  1.947626  0.037050  0.167512\n",
       "2  1.179358  0.287644 -0.951534  1.127062\n",
       "3 -0.940557 -0.728244  1.854306  0.903925\n",
       "4 -2.059532  0.346408 -0.257612  0.947118\n",
       "5 -0.397356 -1.878329  0.916838 -1.049146\n",
       "6 -2.781764 -1.922038  0.670559 -3.332991\n",
       "7 -0.076640  0.178754  0.637696 -1.604056\n",
       "8  0.647178  1.336048 -0.154603  0.597191\n",
       "9  0.643499  2.328243  0.086039 -0.432726"
      ]
     },
     "execution_count": 56,
     "metadata": {},
     "output_type": "execute_result"
    }
   ],
   "source": [
    "#Concatenating pandas objects together\n",
    "df = pd.DataFrame(np.random.randn(10,4))\n",
    "df"
   ]
  },
  {
   "cell_type": "code",
   "execution_count": 57,
   "metadata": {},
   "outputs": [
    {
     "data": {
      "text/plain": [
       "[          0         1         2         3\n",
       " 0 -1.407023  0.869032  0.025283  1.047272\n",
       " 1 -0.100018  1.947626  0.037050  0.167512\n",
       " 2  1.179358  0.287644 -0.951534  1.127062,\n",
       "           0         1         2         3\n",
       " 3 -0.940557 -0.728244  1.854306  0.903925\n",
       " 4 -2.059532  0.346408 -0.257612  0.947118\n",
       " 5 -0.397356 -1.878329  0.916838 -1.049146\n",
       " 6 -2.781764 -1.922038  0.670559 -3.332991,\n",
       "           0         1         2         3\n",
       " 7 -0.076640  0.178754  0.637696 -1.604056\n",
       " 8  0.647178  1.336048 -0.154603  0.597191\n",
       " 9  0.643499  2.328243  0.086039 -0.432726]"
      ]
     },
     "execution_count": 57,
     "metadata": {},
     "output_type": "execute_result"
    }
   ],
   "source": [
    "# Break it into pieces\n",
    "pieces = [df[:3], df[3:7],df[7:]]\n",
    "pieces"
   ]
  },
  {
   "cell_type": "code",
   "execution_count": 58,
   "metadata": {},
   "outputs": [
    {
     "data": {
      "text/html": [
       "<div>\n",
       "<style>\n",
       "    .dataframe thead tr:only-child th {\n",
       "        text-align: right;\n",
       "    }\n",
       "\n",
       "    .dataframe thead th {\n",
       "        text-align: left;\n",
       "    }\n",
       "\n",
       "    .dataframe tbody tr th {\n",
       "        vertical-align: top;\n",
       "    }\n",
       "</style>\n",
       "<table border=\"1\" class=\"dataframe\">\n",
       "  <thead>\n",
       "    <tr style=\"text-align: right;\">\n",
       "      <th></th>\n",
       "      <th>0</th>\n",
       "      <th>1</th>\n",
       "      <th>2</th>\n",
       "      <th>3</th>\n",
       "    </tr>\n",
       "  </thead>\n",
       "  <tbody>\n",
       "    <tr>\n",
       "      <th>0</th>\n",
       "      <td>-1.407023</td>\n",
       "      <td>0.869032</td>\n",
       "      <td>0.025283</td>\n",
       "      <td>1.047272</td>\n",
       "    </tr>\n",
       "    <tr>\n",
       "      <th>1</th>\n",
       "      <td>-0.100018</td>\n",
       "      <td>1.947626</td>\n",
       "      <td>0.037050</td>\n",
       "      <td>0.167512</td>\n",
       "    </tr>\n",
       "    <tr>\n",
       "      <th>2</th>\n",
       "      <td>1.179358</td>\n",
       "      <td>0.287644</td>\n",
       "      <td>-0.951534</td>\n",
       "      <td>1.127062</td>\n",
       "    </tr>\n",
       "    <tr>\n",
       "      <th>3</th>\n",
       "      <td>-0.940557</td>\n",
       "      <td>-0.728244</td>\n",
       "      <td>1.854306</td>\n",
       "      <td>0.903925</td>\n",
       "    </tr>\n",
       "    <tr>\n",
       "      <th>4</th>\n",
       "      <td>-2.059532</td>\n",
       "      <td>0.346408</td>\n",
       "      <td>-0.257612</td>\n",
       "      <td>0.947118</td>\n",
       "    </tr>\n",
       "    <tr>\n",
       "      <th>5</th>\n",
       "      <td>-0.397356</td>\n",
       "      <td>-1.878329</td>\n",
       "      <td>0.916838</td>\n",
       "      <td>-1.049146</td>\n",
       "    </tr>\n",
       "    <tr>\n",
       "      <th>6</th>\n",
       "      <td>-2.781764</td>\n",
       "      <td>-1.922038</td>\n",
       "      <td>0.670559</td>\n",
       "      <td>-3.332991</td>\n",
       "    </tr>\n",
       "    <tr>\n",
       "      <th>7</th>\n",
       "      <td>-0.076640</td>\n",
       "      <td>0.178754</td>\n",
       "      <td>0.637696</td>\n",
       "      <td>-1.604056</td>\n",
       "    </tr>\n",
       "    <tr>\n",
       "      <th>8</th>\n",
       "      <td>0.647178</td>\n",
       "      <td>1.336048</td>\n",
       "      <td>-0.154603</td>\n",
       "      <td>0.597191</td>\n",
       "    </tr>\n",
       "    <tr>\n",
       "      <th>9</th>\n",
       "      <td>0.643499</td>\n",
       "      <td>2.328243</td>\n",
       "      <td>0.086039</td>\n",
       "      <td>-0.432726</td>\n",
       "    </tr>\n",
       "  </tbody>\n",
       "</table>\n",
       "</div>"
      ],
      "text/plain": [
       "          0         1         2         3\n",
       "0 -1.407023  0.869032  0.025283  1.047272\n",
       "1 -0.100018  1.947626  0.037050  0.167512\n",
       "2  1.179358  0.287644 -0.951534  1.127062\n",
       "3 -0.940557 -0.728244  1.854306  0.903925\n",
       "4 -2.059532  0.346408 -0.257612  0.947118\n",
       "5 -0.397356 -1.878329  0.916838 -1.049146\n",
       "6 -2.781764 -1.922038  0.670559 -3.332991\n",
       "7 -0.076640  0.178754  0.637696 -1.604056\n",
       "8  0.647178  1.336048 -0.154603  0.597191\n",
       "9  0.643499  2.328243  0.086039 -0.432726"
      ]
     },
     "execution_count": 58,
     "metadata": {},
     "output_type": "execute_result"
    }
   ],
   "source": [
    "pd.concat(pieces)"
   ]
  },
  {
   "cell_type": "code",
   "execution_count": 59,
   "metadata": {},
   "outputs": [
    {
     "data": {
      "text/html": [
       "<div>\n",
       "<style>\n",
       "    .dataframe thead tr:only-child th {\n",
       "        text-align: right;\n",
       "    }\n",
       "\n",
       "    .dataframe thead th {\n",
       "        text-align: left;\n",
       "    }\n",
       "\n",
       "    .dataframe tbody tr th {\n",
       "        vertical-align: top;\n",
       "    }\n",
       "</style>\n",
       "<table border=\"1\" class=\"dataframe\">\n",
       "  <thead>\n",
       "    <tr style=\"text-align: right;\">\n",
       "      <th></th>\n",
       "      <th>0</th>\n",
       "      <th>1</th>\n",
       "      <th>2</th>\n",
       "      <th>3</th>\n",
       "    </tr>\n",
       "  </thead>\n",
       "  <tbody>\n",
       "    <tr>\n",
       "      <th>0</th>\n",
       "      <td>-1.407023</td>\n",
       "      <td>0.869032</td>\n",
       "      <td>0.025283</td>\n",
       "      <td>1.047272</td>\n",
       "    </tr>\n",
       "    <tr>\n",
       "      <th>1</th>\n",
       "      <td>-0.100018</td>\n",
       "      <td>1.947626</td>\n",
       "      <td>0.037050</td>\n",
       "      <td>0.167512</td>\n",
       "    </tr>\n",
       "    <tr>\n",
       "      <th>2</th>\n",
       "      <td>1.179358</td>\n",
       "      <td>0.287644</td>\n",
       "      <td>-0.951534</td>\n",
       "      <td>1.127062</td>\n",
       "    </tr>\n",
       "    <tr>\n",
       "      <th>3</th>\n",
       "      <td>-0.940557</td>\n",
       "      <td>-0.728244</td>\n",
       "      <td>1.854306</td>\n",
       "      <td>0.903925</td>\n",
       "    </tr>\n",
       "    <tr>\n",
       "      <th>4</th>\n",
       "      <td>-2.059532</td>\n",
       "      <td>0.346408</td>\n",
       "      <td>-0.257612</td>\n",
       "      <td>0.947118</td>\n",
       "    </tr>\n",
       "    <tr>\n",
       "      <th>5</th>\n",
       "      <td>-0.397356</td>\n",
       "      <td>-1.878329</td>\n",
       "      <td>0.916838</td>\n",
       "      <td>-1.049146</td>\n",
       "    </tr>\n",
       "    <tr>\n",
       "      <th>6</th>\n",
       "      <td>-2.781764</td>\n",
       "      <td>-1.922038</td>\n",
       "      <td>0.670559</td>\n",
       "      <td>-3.332991</td>\n",
       "    </tr>\n",
       "    <tr>\n",
       "      <th>7</th>\n",
       "      <td>-0.076640</td>\n",
       "      <td>0.178754</td>\n",
       "      <td>0.637696</td>\n",
       "      <td>-1.604056</td>\n",
       "    </tr>\n",
       "    <tr>\n",
       "      <th>8</th>\n",
       "      <td>0.647178</td>\n",
       "      <td>1.336048</td>\n",
       "      <td>-0.154603</td>\n",
       "      <td>0.597191</td>\n",
       "    </tr>\n",
       "    <tr>\n",
       "      <th>9</th>\n",
       "      <td>0.643499</td>\n",
       "      <td>2.328243</td>\n",
       "      <td>0.086039</td>\n",
       "      <td>-0.432726</td>\n",
       "    </tr>\n",
       "  </tbody>\n",
       "</table>\n",
       "</div>"
      ],
      "text/plain": [
       "          0         1         2         3\n",
       "0 -1.407023  0.869032  0.025283  1.047272\n",
       "1 -0.100018  1.947626  0.037050  0.167512\n",
       "2  1.179358  0.287644 -0.951534  1.127062\n",
       "3 -0.940557 -0.728244  1.854306  0.903925\n",
       "4 -2.059532  0.346408 -0.257612  0.947118\n",
       "5 -0.397356 -1.878329  0.916838 -1.049146\n",
       "6 -2.781764 -1.922038  0.670559 -3.332991\n",
       "7 -0.076640  0.178754  0.637696 -1.604056\n",
       "8  0.647178  1.336048 -0.154603  0.597191\n",
       "9  0.643499  2.328243  0.086039 -0.432726"
      ]
     },
     "execution_count": 59,
     "metadata": {},
     "output_type": "execute_result"
    }
   ],
   "source": [
    "# Also can \"Join\" and \"Append\"\n",
    "df"
   ]
  },
  {
   "cell_type": "code",
   "execution_count": 60,
   "metadata": {
    "collapsed": true
   },
   "outputs": [],
   "source": [
    "df = pd.DataFrame({'A' : ['foo', 'bar', 'foo', 'bar',\n",
    "                       'foo', 'bar', 'foo', 'foo'],\n",
    "                       'B' : ['one', 'one', 'two', 'three',\n",
    "                             'two', 'two', 'one', 'three'],\n",
    "                       'C' : np.random.randn(8),\n",
    "                       'D' : np.random.randn(8)})"
   ]
  },
  {
   "cell_type": "code",
   "execution_count": 61,
   "metadata": {},
   "outputs": [
    {
     "data": {
      "text/html": [
       "<div>\n",
       "<style>\n",
       "    .dataframe thead tr:only-child th {\n",
       "        text-align: right;\n",
       "    }\n",
       "\n",
       "    .dataframe thead th {\n",
       "        text-align: left;\n",
       "    }\n",
       "\n",
       "    .dataframe tbody tr th {\n",
       "        vertical-align: top;\n",
       "    }\n",
       "</style>\n",
       "<table border=\"1\" class=\"dataframe\">\n",
       "  <thead>\n",
       "    <tr style=\"text-align: right;\">\n",
       "      <th></th>\n",
       "      <th>A</th>\n",
       "      <th>B</th>\n",
       "      <th>C</th>\n",
       "      <th>D</th>\n",
       "    </tr>\n",
       "  </thead>\n",
       "  <tbody>\n",
       "    <tr>\n",
       "      <th>0</th>\n",
       "      <td>foo</td>\n",
       "      <td>one</td>\n",
       "      <td>-1.016629</td>\n",
       "      <td>0.905053</td>\n",
       "    </tr>\n",
       "    <tr>\n",
       "      <th>1</th>\n",
       "      <td>bar</td>\n",
       "      <td>one</td>\n",
       "      <td>-1.083802</td>\n",
       "      <td>2.110321</td>\n",
       "    </tr>\n",
       "    <tr>\n",
       "      <th>2</th>\n",
       "      <td>foo</td>\n",
       "      <td>two</td>\n",
       "      <td>-0.249424</td>\n",
       "      <td>-1.537936</td>\n",
       "    </tr>\n",
       "    <tr>\n",
       "      <th>3</th>\n",
       "      <td>bar</td>\n",
       "      <td>three</td>\n",
       "      <td>0.401273</td>\n",
       "      <td>0.665456</td>\n",
       "    </tr>\n",
       "    <tr>\n",
       "      <th>4</th>\n",
       "      <td>foo</td>\n",
       "      <td>two</td>\n",
       "      <td>-0.525455</td>\n",
       "      <td>-0.339486</td>\n",
       "    </tr>\n",
       "    <tr>\n",
       "      <th>5</th>\n",
       "      <td>bar</td>\n",
       "      <td>two</td>\n",
       "      <td>-0.375993</td>\n",
       "      <td>0.162382</td>\n",
       "    </tr>\n",
       "    <tr>\n",
       "      <th>6</th>\n",
       "      <td>foo</td>\n",
       "      <td>one</td>\n",
       "      <td>0.901617</td>\n",
       "      <td>-0.303875</td>\n",
       "    </tr>\n",
       "    <tr>\n",
       "      <th>7</th>\n",
       "      <td>foo</td>\n",
       "      <td>three</td>\n",
       "      <td>-0.099543</td>\n",
       "      <td>1.841533</td>\n",
       "    </tr>\n",
       "  </tbody>\n",
       "</table>\n",
       "</div>"
      ],
      "text/plain": [
       "     A      B         C         D\n",
       "0  foo    one -1.016629  0.905053\n",
       "1  bar    one -1.083802  2.110321\n",
       "2  foo    two -0.249424 -1.537936\n",
       "3  bar  three  0.401273  0.665456\n",
       "4  foo    two -0.525455 -0.339486\n",
       "5  bar    two -0.375993  0.162382\n",
       "6  foo    one  0.901617 -0.303875\n",
       "7  foo  three -0.099543  1.841533"
      ]
     },
     "execution_count": 61,
     "metadata": {},
     "output_type": "execute_result"
    }
   ],
   "source": [
    "df"
   ]
  },
  {
   "cell_type": "code",
   "execution_count": 62,
   "metadata": {},
   "outputs": [
    {
     "data": {
      "text/html": [
       "<div>\n",
       "<style>\n",
       "    .dataframe thead tr:only-child th {\n",
       "        text-align: right;\n",
       "    }\n",
       "\n",
       "    .dataframe thead th {\n",
       "        text-align: left;\n",
       "    }\n",
       "\n",
       "    .dataframe tbody tr th {\n",
       "        vertical-align: top;\n",
       "    }\n",
       "</style>\n",
       "<table border=\"1\" class=\"dataframe\">\n",
       "  <thead>\n",
       "    <tr style=\"text-align: right;\">\n",
       "      <th></th>\n",
       "      <th></th>\n",
       "      <th>C</th>\n",
       "      <th>D</th>\n",
       "    </tr>\n",
       "    <tr>\n",
       "      <th>A</th>\n",
       "      <th>B</th>\n",
       "      <th></th>\n",
       "      <th></th>\n",
       "    </tr>\n",
       "  </thead>\n",
       "  <tbody>\n",
       "    <tr>\n",
       "      <th rowspan=\"3\" valign=\"top\">bar</th>\n",
       "      <th>one</th>\n",
       "      <td>-1.083802</td>\n",
       "      <td>2.110321</td>\n",
       "    </tr>\n",
       "    <tr>\n",
       "      <th>three</th>\n",
       "      <td>0.401273</td>\n",
       "      <td>0.665456</td>\n",
       "    </tr>\n",
       "    <tr>\n",
       "      <th>two</th>\n",
       "      <td>-0.375993</td>\n",
       "      <td>0.162382</td>\n",
       "    </tr>\n",
       "    <tr>\n",
       "      <th rowspan=\"3\" valign=\"top\">foo</th>\n",
       "      <th>one</th>\n",
       "      <td>-0.115012</td>\n",
       "      <td>0.601178</td>\n",
       "    </tr>\n",
       "    <tr>\n",
       "      <th>three</th>\n",
       "      <td>-0.099543</td>\n",
       "      <td>1.841533</td>\n",
       "    </tr>\n",
       "    <tr>\n",
       "      <th>two</th>\n",
       "      <td>-0.774880</td>\n",
       "      <td>-1.877422</td>\n",
       "    </tr>\n",
       "  </tbody>\n",
       "</table>\n",
       "</div>"
      ],
      "text/plain": [
       "                  C         D\n",
       "A   B                        \n",
       "bar one   -1.083802  2.110321\n",
       "    three  0.401273  0.665456\n",
       "    two   -0.375993  0.162382\n",
       "foo one   -0.115012  0.601178\n",
       "    three -0.099543  1.841533\n",
       "    two   -0.774880 -1.877422"
      ]
     },
     "execution_count": 62,
     "metadata": {},
     "output_type": "execute_result"
    }
   ],
   "source": [
    "df.groupby(['A','B']).sum()"
   ]
  },
  {
   "cell_type": "code",
   "execution_count": 63,
   "metadata": {
    "collapsed": true
   },
   "outputs": [],
   "source": [
    "# You can also stack or unstack levels"
   ]
  },
  {
   "cell_type": "code",
   "execution_count": 64,
   "metadata": {
    "collapsed": true
   },
   "outputs": [],
   "source": [
    "a = df.groupby(['A','B']).sum()"
   ]
  },
  {
   "cell_type": "code",
   "execution_count": 65,
   "metadata": {},
   "outputs": [
    {
     "data": {
      "text/html": [
       "<div>\n",
       "<style>\n",
       "    .dataframe thead tr:only-child th {\n",
       "        text-align: right;\n",
       "    }\n",
       "\n",
       "    .dataframe thead th {\n",
       "        text-align: left;\n",
       "    }\n",
       "\n",
       "    .dataframe tbody tr th {\n",
       "        vertical-align: top;\n",
       "    }\n",
       "</style>\n",
       "<table border=\"1\" class=\"dataframe\">\n",
       "  <thead>\n",
       "    <tr>\n",
       "      <th></th>\n",
       "      <th colspan=\"3\" halign=\"left\">C</th>\n",
       "      <th colspan=\"3\" halign=\"left\">D</th>\n",
       "    </tr>\n",
       "    <tr>\n",
       "      <th>B</th>\n",
       "      <th>one</th>\n",
       "      <th>three</th>\n",
       "      <th>two</th>\n",
       "      <th>one</th>\n",
       "      <th>three</th>\n",
       "      <th>two</th>\n",
       "    </tr>\n",
       "    <tr>\n",
       "      <th>A</th>\n",
       "      <th></th>\n",
       "      <th></th>\n",
       "      <th></th>\n",
       "      <th></th>\n",
       "      <th></th>\n",
       "      <th></th>\n",
       "    </tr>\n",
       "  </thead>\n",
       "  <tbody>\n",
       "    <tr>\n",
       "      <th>bar</th>\n",
       "      <td>-1.083802</td>\n",
       "      <td>0.401273</td>\n",
       "      <td>-0.375993</td>\n",
       "      <td>2.110321</td>\n",
       "      <td>0.665456</td>\n",
       "      <td>0.162382</td>\n",
       "    </tr>\n",
       "    <tr>\n",
       "      <th>foo</th>\n",
       "      <td>-0.057506</td>\n",
       "      <td>-0.099543</td>\n",
       "      <td>-0.387440</td>\n",
       "      <td>0.300589</td>\n",
       "      <td>1.841533</td>\n",
       "      <td>-0.938711</td>\n",
       "    </tr>\n",
       "  </tbody>\n",
       "</table>\n",
       "</div>"
      ],
      "text/plain": [
       "            C                             D                    \n",
       "B         one     three       two       one     three       two\n",
       "A                                                              \n",
       "bar -1.083802  0.401273 -0.375993  2.110321  0.665456  0.162382\n",
       "foo -0.057506 -0.099543 -0.387440  0.300589  1.841533 -0.938711"
      ]
     },
     "execution_count": 65,
     "metadata": {},
     "output_type": "execute_result"
    }
   ],
   "source": [
    "# Pivot Tables\n",
    "pd.pivot_table(df,values=['C','D'],index=['A'],columns=['B'])"
   ]
  },
  {
   "cell_type": "code",
   "execution_count": 66,
   "metadata": {
    "collapsed": true
   },
   "outputs": [],
   "source": [
    "import pandas as pd\n",
    "import numpy as np"
   ]
  },
  {
   "cell_type": "code",
   "execution_count": 67,
   "metadata": {
    "collapsed": true
   },
   "outputs": [],
   "source": [
    "# 100 Seconds starting on January 1st\n",
    "rng = pd.date_range('1/1/2014', periods=100, freq='S')"
   ]
  },
  {
   "cell_type": "code",
   "execution_count": 68,
   "metadata": {
    "collapsed": true
   },
   "outputs": [],
   "source": [
    "# Give each second a random value\n",
    "ts = pd.Series(np.random.randint(0, 500, len(rng)), index=rng)"
   ]
  },
  {
   "cell_type": "code",
   "execution_count": 69,
   "metadata": {},
   "outputs": [
    {
     "data": {
      "text/plain": [
       "2014-01-01 00:00:00     23\n",
       "2014-01-01 00:00:01    426\n",
       "2014-01-01 00:00:02    110\n",
       "2014-01-01 00:00:03    485\n",
       "2014-01-01 00:00:04    218\n",
       "2014-01-01 00:00:05    419\n",
       "2014-01-01 00:00:06    105\n",
       "2014-01-01 00:00:07    343\n",
       "2014-01-01 00:00:08    280\n",
       "2014-01-01 00:00:09    316\n",
       "2014-01-01 00:00:10    230\n",
       "2014-01-01 00:00:11      0\n",
       "2014-01-01 00:00:12    441\n",
       "2014-01-01 00:00:13     81\n",
       "2014-01-01 00:00:14     72\n",
       "2014-01-01 00:00:15    127\n",
       "2014-01-01 00:00:16    153\n",
       "2014-01-01 00:00:17    273\n",
       "2014-01-01 00:00:18     28\n",
       "2014-01-01 00:00:19    408\n",
       "2014-01-01 00:00:20    432\n",
       "2014-01-01 00:00:21    417\n",
       "2014-01-01 00:00:22    205\n",
       "2014-01-01 00:00:23    468\n",
       "2014-01-01 00:00:24     17\n",
       "2014-01-01 00:00:25    271\n",
       "2014-01-01 00:00:26    498\n",
       "2014-01-01 00:00:27    449\n",
       "2014-01-01 00:00:28    367\n",
       "2014-01-01 00:00:29     60\n",
       "                      ... \n",
       "2014-01-01 00:01:10    227\n",
       "2014-01-01 00:01:11    242\n",
       "2014-01-01 00:01:12    244\n",
       "2014-01-01 00:01:13    331\n",
       "2014-01-01 00:01:14    396\n",
       "2014-01-01 00:01:15    232\n",
       "2014-01-01 00:01:16    141\n",
       "2014-01-01 00:01:17    245\n",
       "2014-01-01 00:01:18    398\n",
       "2014-01-01 00:01:19    110\n",
       "2014-01-01 00:01:20    132\n",
       "2014-01-01 00:01:21     58\n",
       "2014-01-01 00:01:22    431\n",
       "2014-01-01 00:01:23     16\n",
       "2014-01-01 00:01:24     59\n",
       "2014-01-01 00:01:25    443\n",
       "2014-01-01 00:01:26    360\n",
       "2014-01-01 00:01:27    409\n",
       "2014-01-01 00:01:28    494\n",
       "2014-01-01 00:01:29    119\n",
       "2014-01-01 00:01:30    269\n",
       "2014-01-01 00:01:31     50\n",
       "2014-01-01 00:01:32    478\n",
       "2014-01-01 00:01:33    424\n",
       "2014-01-01 00:01:34    136\n",
       "2014-01-01 00:01:35    473\n",
       "2014-01-01 00:01:36     62\n",
       "2014-01-01 00:01:37    224\n",
       "2014-01-01 00:01:38      3\n",
       "2014-01-01 00:01:39    424\n",
       "Freq: S, Length: 100, dtype: int64"
      ]
     },
     "execution_count": 69,
     "metadata": {},
     "output_type": "execute_result"
    }
   ],
   "source": [
    "ts"
   ]
  },
  {
   "cell_type": "code",
   "execution_count": 70,
   "metadata": {},
   "outputs": [
    {
     "data": {
      "text/plain": [
       "2014-01-01 00:00:00    249.816667\n",
       "2014-01-01 00:01:00    238.750000\n",
       "Freq: T, dtype: float64"
      ]
     },
     "execution_count": 70,
     "metadata": {},
     "output_type": "execute_result"
    }
   ],
   "source": [
    "# Built in resampling\n",
    "ts.resample('1Min').mean() # Resample secondly to 1Minutely"
   ]
  },
  {
   "cell_type": "code",
   "execution_count": 71,
   "metadata": {},
   "outputs": [
    {
     "ename": "SyntaxError",
     "evalue": "invalid syntax (<ipython-input-71-5c9240a56f62>, line 2)",
     "output_type": "error",
     "traceback": [
      "\u001b[0;36m  File \u001b[0;32m\"<ipython-input-71-5c9240a56f62>\"\u001b[0;36m, line \u001b[0;32m2\u001b[0m\n\u001b[0;31m    ts. #use tab\u001b[0m\n\u001b[0m                ^\u001b[0m\n\u001b[0;31mSyntaxError\u001b[0m\u001b[0;31m:\u001b[0m invalid syntax\n"
     ]
    }
   ],
   "source": [
    "# Many additional time series features\n",
    "ts. #use tab"
   ]
  },
  {
   "cell_type": "code",
   "execution_count": 72,
   "metadata": {},
   "outputs": [
    {
     "data": {
      "text/plain": [
       "2014-01-01 00:00:00     23\n",
       "2014-01-01 00:00:01    426\n",
       "2014-01-01 00:00:02    110\n",
       "2014-01-01 00:00:03    485\n",
       "2014-01-01 00:00:04    218\n",
       "2014-01-01 00:00:05    419\n",
       "2014-01-01 00:00:06    105\n",
       "2014-01-01 00:00:07    343\n",
       "2014-01-01 00:00:08    280\n",
       "2014-01-01 00:00:09    316\n",
       "2014-01-01 00:00:10    230\n",
       "2014-01-01 00:00:11      0\n",
       "2014-01-01 00:00:12    441\n",
       "2014-01-01 00:00:13     81\n",
       "2014-01-01 00:00:14     72\n",
       "2014-01-01 00:00:15    127\n",
       "2014-01-01 00:00:16    153\n",
       "2014-01-01 00:00:17    273\n",
       "2014-01-01 00:00:18     28\n",
       "2014-01-01 00:00:19    408\n",
       "2014-01-01 00:00:20    432\n",
       "2014-01-01 00:00:21    417\n",
       "2014-01-01 00:00:22    205\n",
       "2014-01-01 00:00:23    468\n",
       "2014-01-01 00:00:24     17\n",
       "2014-01-01 00:00:25    271\n",
       "2014-01-01 00:00:26    498\n",
       "2014-01-01 00:00:27    449\n",
       "2014-01-01 00:00:28    367\n",
       "2014-01-01 00:00:29     60\n",
       "                      ... \n",
       "2014-01-01 00:01:10    227\n",
       "2014-01-01 00:01:11    242\n",
       "2014-01-01 00:01:12    244\n",
       "2014-01-01 00:01:13    331\n",
       "2014-01-01 00:01:14    396\n",
       "2014-01-01 00:01:15    232\n",
       "2014-01-01 00:01:16    141\n",
       "2014-01-01 00:01:17    245\n",
       "2014-01-01 00:01:18    398\n",
       "2014-01-01 00:01:19    110\n",
       "2014-01-01 00:01:20    132\n",
       "2014-01-01 00:01:21     58\n",
       "2014-01-01 00:01:22    431\n",
       "2014-01-01 00:01:23     16\n",
       "2014-01-01 00:01:24     59\n",
       "2014-01-01 00:01:25    443\n",
       "2014-01-01 00:01:26    360\n",
       "2014-01-01 00:01:27    409\n",
       "2014-01-01 00:01:28    494\n",
       "2014-01-01 00:01:29    119\n",
       "2014-01-01 00:01:30    269\n",
       "2014-01-01 00:01:31     50\n",
       "2014-01-01 00:01:32    478\n",
       "2014-01-01 00:01:33    424\n",
       "2014-01-01 00:01:34    136\n",
       "2014-01-01 00:01:35    473\n",
       "2014-01-01 00:01:36     62\n",
       "2014-01-01 00:01:37    224\n",
       "2014-01-01 00:01:38      3\n",
       "2014-01-01 00:01:39    424\n",
       "Freq: S, Length: 100, dtype: int64"
      ]
     },
     "execution_count": 72,
     "metadata": {},
     "output_type": "execute_result"
    }
   ],
   "source": [
    "ts"
   ]
  },
  {
   "cell_type": "code",
   "execution_count": 73,
   "metadata": {},
   "outputs": [
    {
     "data": {
      "text/plain": [
       "<matplotlib.axes._subplots.AxesSubplot at 0x1104e5518>"
      ]
     },
     "execution_count": 73,
     "metadata": {},
     "output_type": "execute_result"
    }
   ],
   "source": [
    "ts.plot()"
   ]
  },
  {
   "cell_type": "code",
   "execution_count": 74,
   "metadata": {
    "collapsed": true
   },
   "outputs": [],
   "source": [
    "def randwalk(startdate,points):\n",
    "    ts = pd.Series(np.random.randn(points), index=pd.date_range(startdate, periods=points))\n",
    "    ts=ts.cumsum()\n",
    "    ts.plot()\n",
    "    return(ts)"
   ]
  },
  {
   "cell_type": "code",
   "execution_count": 75,
   "metadata": {
    "collapsed": true
   },
   "outputs": [],
   "source": [
    "# Using pandas to make a simple random walker by repeatedly running:\n",
    "a=randwalk('1/1/2012',1000)"
   ]
  },
  {
   "cell_type": "code",
   "execution_count": 76,
   "metadata": {
    "collapsed": true
   },
   "outputs": [],
   "source": [
    "# Pandas plot function will print with labels as default"
   ]
  },
  {
   "cell_type": "code",
   "execution_count": 77,
   "metadata": {},
   "outputs": [
    {
     "data": {
      "text/plain": [
       "<matplotlib.legend.Legend at 0x11087e240>"
      ]
     },
     "execution_count": 77,
     "metadata": {},
     "output_type": "execute_result"
    }
   ],
   "source": [
    "df = pd.DataFrame(np.random.randn(100, 4), index=ts.index,columns=['A', 'B', 'C', 'D'])\n",
    "df = df.cumsum()\n",
    "plt.figure();df.plot();plt.legend(loc='best') #"
   ]
  },
  {
   "cell_type": "code",
   "execution_count": null,
   "metadata": {
    "collapsed": true
   },
   "outputs": [],
   "source": []
  }
 ],
 "metadata": {
  "kernelspec": {
   "display_name": "Python 3",
   "language": "python",
   "name": "python3"
  },
  "language_info": {
   "codemirror_mode": {
    "name": "ipython",
    "version": 3
   },
   "file_extension": ".py",
   "mimetype": "text/x-python",
   "name": "python",
   "nbconvert_exporter": "python",
   "pygments_lexer": "ipython3",
   "version": "3.6.1"
  }
 },
 "nbformat": 4,
 "nbformat_minor": 2
}
